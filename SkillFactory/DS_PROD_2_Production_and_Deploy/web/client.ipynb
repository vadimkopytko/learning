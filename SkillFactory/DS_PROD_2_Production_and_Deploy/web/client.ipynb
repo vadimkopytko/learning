{
 "cells": [
  {
   "cell_type": "code",
   "execution_count": 1,
   "metadata": {},
   "outputs": [
    {
     "name": "stdout",
     "output_type": "stream",
     "text": [
      "Status code: 200\n",
      "Prediction: 14.925283719396463\n"
     ]
    }
   ],
   "source": [
    "import requests\n",
    "\n",
    "if __name__ == '__main__':\n",
    "    # выполняем POST-запрос на сервер по эндпоинту add с параметром json\n",
    "    r = requests.post('http://localhost:5000/predict', json=[1, 0, 1, 24])\n",
    "    # выводим статус запроса\n",
    "    print('Status code: {}'.format(r.status_code))\n",
    "    # реализуем обработку результата\n",
    "    if r.status_code == 200:\n",
    "        # если запрос выполнен успешно (код обработки=200),\n",
    "        # выводим результат на экран\n",
    "        print('Prediction: {}'.format(r.json()['prediction']))\n",
    "    else:\n",
    "        # если запрос завершён с кодом, отличным от 200,\n",
    "        # выводим содержимое ответа\n",
    "        print(r.text)"
   ]
  }
 ],
 "metadata": {
  "kernelspec": {
   "display_name": "Python 3",
   "language": "python",
   "name": "python3"
  },
  "language_info": {
   "codemirror_mode": {
    "name": "ipython",
    "version": 3
   },
   "file_extension": ".py",
   "mimetype": "text/x-python",
   "name": "python",
   "nbconvert_exporter": "python",
   "pygments_lexer": "ipython3",
   "version": "3.10.9"
  }
 },
 "nbformat": 4,
 "nbformat_minor": 2
}

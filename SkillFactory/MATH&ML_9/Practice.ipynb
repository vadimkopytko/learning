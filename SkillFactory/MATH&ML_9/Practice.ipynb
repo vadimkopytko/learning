{
 "cells": [
  {
   "cell_type": "code",
   "execution_count": 129,
   "metadata": {},
   "outputs": [],
   "source": [
    "import pandas as pd\n",
    "import numpy as np\n",
    "from sklearn import model_selection, metrics, linear_model, tree, ensemble\n",
    "import seaborn as sns\n",
    "import matplotlib.pyplot as plt"
   ]
  },
  {
   "cell_type": "markdown",
   "metadata": {},
   "source": [
    "# СЛУЧАЙНЫЙ ЛЕС"
   ]
  },
  {
   "cell_type": "code",
   "execution_count": 33,
   "metadata": {},
   "outputs": [
    {
     "data": {
      "text/html": [
       "<div>\n",
       "<style scoped>\n",
       "    .dataframe tbody tr th:only-of-type {\n",
       "        vertical-align: middle;\n",
       "    }\n",
       "\n",
       "    .dataframe tbody tr th {\n",
       "        vertical-align: top;\n",
       "    }\n",
       "\n",
       "    .dataframe thead th {\n",
       "        text-align: right;\n",
       "    }\n",
       "</style>\n",
       "<table border=\"1\" class=\"dataframe\">\n",
       "  <thead>\n",
       "    <tr style=\"text-align: right;\">\n",
       "      <th></th>\n",
       "      <th>Date</th>\n",
       "      <th>Location</th>\n",
       "      <th>MinTemp</th>\n",
       "      <th>MaxTemp</th>\n",
       "      <th>Rainfall</th>\n",
       "      <th>Evaporation</th>\n",
       "      <th>Sunshine</th>\n",
       "      <th>WindGustDir</th>\n",
       "      <th>WindGustSpeed</th>\n",
       "      <th>WindDir9am</th>\n",
       "      <th>...</th>\n",
       "      <th>Humidity9am</th>\n",
       "      <th>Humidity3pm</th>\n",
       "      <th>Pressure9am</th>\n",
       "      <th>Pressure3pm</th>\n",
       "      <th>Cloud9am</th>\n",
       "      <th>Cloud3pm</th>\n",
       "      <th>Temp9am</th>\n",
       "      <th>Temp3pm</th>\n",
       "      <th>RainToday</th>\n",
       "      <th>RainTomorrow</th>\n",
       "    </tr>\n",
       "  </thead>\n",
       "  <tbody>\n",
       "    <tr>\n",
       "      <th>0</th>\n",
       "      <td>2008-12-01</td>\n",
       "      <td>Albury</td>\n",
       "      <td>13.4</td>\n",
       "      <td>22.9</td>\n",
       "      <td>0.6</td>\n",
       "      <td>NaN</td>\n",
       "      <td>NaN</td>\n",
       "      <td>W</td>\n",
       "      <td>44.0</td>\n",
       "      <td>W</td>\n",
       "      <td>...</td>\n",
       "      <td>71.0</td>\n",
       "      <td>22.0</td>\n",
       "      <td>1007.7</td>\n",
       "      <td>1007.1</td>\n",
       "      <td>8.0</td>\n",
       "      <td>NaN</td>\n",
       "      <td>16.9</td>\n",
       "      <td>21.8</td>\n",
       "      <td>No</td>\n",
       "      <td>No</td>\n",
       "    </tr>\n",
       "    <tr>\n",
       "      <th>1</th>\n",
       "      <td>2008-12-02</td>\n",
       "      <td>Albury</td>\n",
       "      <td>7.4</td>\n",
       "      <td>25.1</td>\n",
       "      <td>0.0</td>\n",
       "      <td>NaN</td>\n",
       "      <td>NaN</td>\n",
       "      <td>WNW</td>\n",
       "      <td>44.0</td>\n",
       "      <td>NNW</td>\n",
       "      <td>...</td>\n",
       "      <td>44.0</td>\n",
       "      <td>25.0</td>\n",
       "      <td>1010.6</td>\n",
       "      <td>1007.8</td>\n",
       "      <td>NaN</td>\n",
       "      <td>NaN</td>\n",
       "      <td>17.2</td>\n",
       "      <td>24.3</td>\n",
       "      <td>No</td>\n",
       "      <td>No</td>\n",
       "    </tr>\n",
       "    <tr>\n",
       "      <th>2</th>\n",
       "      <td>2008-12-03</td>\n",
       "      <td>Albury</td>\n",
       "      <td>12.9</td>\n",
       "      <td>25.7</td>\n",
       "      <td>0.0</td>\n",
       "      <td>NaN</td>\n",
       "      <td>NaN</td>\n",
       "      <td>WSW</td>\n",
       "      <td>46.0</td>\n",
       "      <td>W</td>\n",
       "      <td>...</td>\n",
       "      <td>38.0</td>\n",
       "      <td>30.0</td>\n",
       "      <td>1007.6</td>\n",
       "      <td>1008.7</td>\n",
       "      <td>NaN</td>\n",
       "      <td>2.0</td>\n",
       "      <td>21.0</td>\n",
       "      <td>23.2</td>\n",
       "      <td>No</td>\n",
       "      <td>No</td>\n",
       "    </tr>\n",
       "    <tr>\n",
       "      <th>3</th>\n",
       "      <td>2008-12-04</td>\n",
       "      <td>Albury</td>\n",
       "      <td>9.2</td>\n",
       "      <td>28.0</td>\n",
       "      <td>0.0</td>\n",
       "      <td>NaN</td>\n",
       "      <td>NaN</td>\n",
       "      <td>NE</td>\n",
       "      <td>24.0</td>\n",
       "      <td>SE</td>\n",
       "      <td>...</td>\n",
       "      <td>45.0</td>\n",
       "      <td>16.0</td>\n",
       "      <td>1017.6</td>\n",
       "      <td>1012.8</td>\n",
       "      <td>NaN</td>\n",
       "      <td>NaN</td>\n",
       "      <td>18.1</td>\n",
       "      <td>26.5</td>\n",
       "      <td>No</td>\n",
       "      <td>No</td>\n",
       "    </tr>\n",
       "    <tr>\n",
       "      <th>4</th>\n",
       "      <td>2008-12-05</td>\n",
       "      <td>Albury</td>\n",
       "      <td>17.5</td>\n",
       "      <td>32.3</td>\n",
       "      <td>1.0</td>\n",
       "      <td>NaN</td>\n",
       "      <td>NaN</td>\n",
       "      <td>W</td>\n",
       "      <td>41.0</td>\n",
       "      <td>ENE</td>\n",
       "      <td>...</td>\n",
       "      <td>82.0</td>\n",
       "      <td>33.0</td>\n",
       "      <td>1010.8</td>\n",
       "      <td>1006.0</td>\n",
       "      <td>7.0</td>\n",
       "      <td>8.0</td>\n",
       "      <td>17.8</td>\n",
       "      <td>29.7</td>\n",
       "      <td>No</td>\n",
       "      <td>No</td>\n",
       "    </tr>\n",
       "  </tbody>\n",
       "</table>\n",
       "<p>5 rows × 23 columns</p>\n",
       "</div>"
      ],
      "text/plain": [
       "         Date Location  MinTemp  MaxTemp  Rainfall  Evaporation  Sunshine  \\\n",
       "0  2008-12-01   Albury     13.4     22.9       0.6          NaN       NaN   \n",
       "1  2008-12-02   Albury      7.4     25.1       0.0          NaN       NaN   \n",
       "2  2008-12-03   Albury     12.9     25.7       0.0          NaN       NaN   \n",
       "3  2008-12-04   Albury      9.2     28.0       0.0          NaN       NaN   \n",
       "4  2008-12-05   Albury     17.5     32.3       1.0          NaN       NaN   \n",
       "\n",
       "  WindGustDir  WindGustSpeed WindDir9am  ... Humidity9am  Humidity3pm  \\\n",
       "0           W           44.0          W  ...        71.0         22.0   \n",
       "1         WNW           44.0        NNW  ...        44.0         25.0   \n",
       "2         WSW           46.0          W  ...        38.0         30.0   \n",
       "3          NE           24.0         SE  ...        45.0         16.0   \n",
       "4           W           41.0        ENE  ...        82.0         33.0   \n",
       "\n",
       "   Pressure9am  Pressure3pm  Cloud9am  Cloud3pm  Temp9am  Temp3pm  RainToday  \\\n",
       "0       1007.7       1007.1       8.0       NaN     16.9     21.8         No   \n",
       "1       1010.6       1007.8       NaN       NaN     17.2     24.3         No   \n",
       "2       1007.6       1008.7       NaN       2.0     21.0     23.2         No   \n",
       "3       1017.6       1012.8       NaN       NaN     18.1     26.5         No   \n",
       "4       1010.8       1006.0       7.0       8.0     17.8     29.7         No   \n",
       "\n",
       "   RainTomorrow  \n",
       "0            No  \n",
       "1            No  \n",
       "2            No  \n",
       "3            No  \n",
       "4            No  \n",
       "\n",
       "[5 rows x 23 columns]"
      ]
     },
     "execution_count": 33,
     "metadata": {},
     "output_type": "execute_result"
    }
   ],
   "source": [
    "data_w = pd.read_csv('data/weatherAUS.csv')\n",
    "data_w.head()"
   ]
  },
  {
   "cell_type": "code",
   "execution_count": 34,
   "metadata": {},
   "outputs": [
    {
     "data": {
      "text/plain": [
       "343248"
      ]
     },
     "execution_count": 34,
     "metadata": {},
     "output_type": "execute_result"
    }
   ],
   "source": [
    "# общее количество пропусков\n",
    "data_w.isna().sum().sum()"
   ]
  },
  {
   "cell_type": "code",
   "execution_count": 35,
   "metadata": {},
   "outputs": [],
   "source": [
    "# очистим от пропусков столбцы, выкинем те, у которых более 40% пропусков\n",
    "thresh = data_w.shape[0] * 0.6\n",
    "data_w.dropna(thresh=thresh, axis=1, inplace=True)"
   ]
  },
  {
   "cell_type": "code",
   "execution_count": 36,
   "metadata": {},
   "outputs": [
    {
     "data": {
      "text/plain": [
       "(145460, 20)"
      ]
     },
     "execution_count": 36,
     "metadata": {},
     "output_type": "execute_result"
    }
   ],
   "source": [
    "data_w.shape"
   ]
  },
  {
   "cell_type": "code",
   "execution_count": 37,
   "metadata": {},
   "outputs": [
    {
     "data": {
      "text/plain": [
       "array([ 0.,  1., nan])"
      ]
     },
     "execution_count": 37,
     "metadata": {},
     "output_type": "execute_result"
    }
   ],
   "source": [
    "map_dict = {'No':0, 'Yes': 1}\n",
    "data_w['RainToday'] = data_w['RainToday'].map(map_dict)\n",
    "data_w['RainToday'].unique()"
   ]
  },
  {
   "cell_type": "code",
   "execution_count": 38,
   "metadata": {},
   "outputs": [
    {
     "data": {
      "text/plain": [
       "0.22"
      ]
     },
     "execution_count": 38,
     "metadata": {},
     "output_type": "execute_result"
    }
   ],
   "source": [
    "data_w['RainToday'].mean().round(2)"
   ]
  },
  {
   "cell_type": "code",
   "execution_count": 39,
   "metadata": {},
   "outputs": [
    {
     "data": {
      "text/plain": [
       "array([ 0.,  1., nan])"
      ]
     },
     "execution_count": 39,
     "metadata": {},
     "output_type": "execute_result"
    }
   ],
   "source": [
    "data_w['RainTomorrow'] = data_w['RainTomorrow'].map(map_dict)\n",
    "data_w['RainTomorrow'].unique()"
   ]
  },
  {
   "cell_type": "code",
   "execution_count": 40,
   "metadata": {},
   "outputs": [
    {
     "data": {
      "text/html": [
       "<div>\n",
       "<style scoped>\n",
       "    .dataframe tbody tr th:only-of-type {\n",
       "        vertical-align: middle;\n",
       "    }\n",
       "\n",
       "    .dataframe tbody tr th {\n",
       "        vertical-align: top;\n",
       "    }\n",
       "\n",
       "    .dataframe thead th {\n",
       "        text-align: right;\n",
       "    }\n",
       "</style>\n",
       "<table border=\"1\" class=\"dataframe\">\n",
       "  <thead>\n",
       "    <tr style=\"text-align: right;\">\n",
       "      <th></th>\n",
       "      <th>Date</th>\n",
       "      <th>Location</th>\n",
       "      <th>MinTemp</th>\n",
       "      <th>MaxTemp</th>\n",
       "      <th>Rainfall</th>\n",
       "      <th>WindGustDir</th>\n",
       "      <th>WindGustSpeed</th>\n",
       "      <th>WindDir9am</th>\n",
       "      <th>WindDir3pm</th>\n",
       "      <th>WindSpeed9am</th>\n",
       "      <th>...</th>\n",
       "      <th>Humidity9am</th>\n",
       "      <th>Humidity3pm</th>\n",
       "      <th>Pressure9am</th>\n",
       "      <th>Pressure3pm</th>\n",
       "      <th>Cloud9am</th>\n",
       "      <th>Temp9am</th>\n",
       "      <th>Temp3pm</th>\n",
       "      <th>RainToday</th>\n",
       "      <th>RainTomorrow</th>\n",
       "      <th>Month</th>\n",
       "    </tr>\n",
       "  </thead>\n",
       "  <tbody>\n",
       "    <tr>\n",
       "      <th>0</th>\n",
       "      <td>2008-12-01</td>\n",
       "      <td>Albury</td>\n",
       "      <td>13.4</td>\n",
       "      <td>22.9</td>\n",
       "      <td>0.6</td>\n",
       "      <td>W</td>\n",
       "      <td>44.0</td>\n",
       "      <td>W</td>\n",
       "      <td>WNW</td>\n",
       "      <td>20.0</td>\n",
       "      <td>...</td>\n",
       "      <td>71.0</td>\n",
       "      <td>22.0</td>\n",
       "      <td>1007.7</td>\n",
       "      <td>1007.1</td>\n",
       "      <td>8.0</td>\n",
       "      <td>16.9</td>\n",
       "      <td>21.8</td>\n",
       "      <td>0.0</td>\n",
       "      <td>0.0</td>\n",
       "      <td>12</td>\n",
       "    </tr>\n",
       "    <tr>\n",
       "      <th>1</th>\n",
       "      <td>2008-12-02</td>\n",
       "      <td>Albury</td>\n",
       "      <td>7.4</td>\n",
       "      <td>25.1</td>\n",
       "      <td>0.0</td>\n",
       "      <td>WNW</td>\n",
       "      <td>44.0</td>\n",
       "      <td>NNW</td>\n",
       "      <td>WSW</td>\n",
       "      <td>4.0</td>\n",
       "      <td>...</td>\n",
       "      <td>44.0</td>\n",
       "      <td>25.0</td>\n",
       "      <td>1010.6</td>\n",
       "      <td>1007.8</td>\n",
       "      <td>NaN</td>\n",
       "      <td>17.2</td>\n",
       "      <td>24.3</td>\n",
       "      <td>0.0</td>\n",
       "      <td>0.0</td>\n",
       "      <td>12</td>\n",
       "    </tr>\n",
       "    <tr>\n",
       "      <th>2</th>\n",
       "      <td>2008-12-03</td>\n",
       "      <td>Albury</td>\n",
       "      <td>12.9</td>\n",
       "      <td>25.7</td>\n",
       "      <td>0.0</td>\n",
       "      <td>WSW</td>\n",
       "      <td>46.0</td>\n",
       "      <td>W</td>\n",
       "      <td>WSW</td>\n",
       "      <td>19.0</td>\n",
       "      <td>...</td>\n",
       "      <td>38.0</td>\n",
       "      <td>30.0</td>\n",
       "      <td>1007.6</td>\n",
       "      <td>1008.7</td>\n",
       "      <td>NaN</td>\n",
       "      <td>21.0</td>\n",
       "      <td>23.2</td>\n",
       "      <td>0.0</td>\n",
       "      <td>0.0</td>\n",
       "      <td>12</td>\n",
       "    </tr>\n",
       "    <tr>\n",
       "      <th>3</th>\n",
       "      <td>2008-12-04</td>\n",
       "      <td>Albury</td>\n",
       "      <td>9.2</td>\n",
       "      <td>28.0</td>\n",
       "      <td>0.0</td>\n",
       "      <td>NE</td>\n",
       "      <td>24.0</td>\n",
       "      <td>SE</td>\n",
       "      <td>E</td>\n",
       "      <td>11.0</td>\n",
       "      <td>...</td>\n",
       "      <td>45.0</td>\n",
       "      <td>16.0</td>\n",
       "      <td>1017.6</td>\n",
       "      <td>1012.8</td>\n",
       "      <td>NaN</td>\n",
       "      <td>18.1</td>\n",
       "      <td>26.5</td>\n",
       "      <td>0.0</td>\n",
       "      <td>0.0</td>\n",
       "      <td>12</td>\n",
       "    </tr>\n",
       "    <tr>\n",
       "      <th>4</th>\n",
       "      <td>2008-12-05</td>\n",
       "      <td>Albury</td>\n",
       "      <td>17.5</td>\n",
       "      <td>32.3</td>\n",
       "      <td>1.0</td>\n",
       "      <td>W</td>\n",
       "      <td>41.0</td>\n",
       "      <td>ENE</td>\n",
       "      <td>NW</td>\n",
       "      <td>7.0</td>\n",
       "      <td>...</td>\n",
       "      <td>82.0</td>\n",
       "      <td>33.0</td>\n",
       "      <td>1010.8</td>\n",
       "      <td>1006.0</td>\n",
       "      <td>7.0</td>\n",
       "      <td>17.8</td>\n",
       "      <td>29.7</td>\n",
       "      <td>0.0</td>\n",
       "      <td>0.0</td>\n",
       "      <td>12</td>\n",
       "    </tr>\n",
       "  </tbody>\n",
       "</table>\n",
       "<p>5 rows × 21 columns</p>\n",
       "</div>"
      ],
      "text/plain": [
       "         Date Location  MinTemp  MaxTemp  Rainfall WindGustDir  WindGustSpeed  \\\n",
       "0  2008-12-01   Albury     13.4     22.9       0.6           W           44.0   \n",
       "1  2008-12-02   Albury      7.4     25.1       0.0         WNW           44.0   \n",
       "2  2008-12-03   Albury     12.9     25.7       0.0         WSW           46.0   \n",
       "3  2008-12-04   Albury      9.2     28.0       0.0          NE           24.0   \n",
       "4  2008-12-05   Albury     17.5     32.3       1.0           W           41.0   \n",
       "\n",
       "  WindDir9am WindDir3pm  WindSpeed9am  ...  Humidity9am  Humidity3pm  \\\n",
       "0          W        WNW          20.0  ...         71.0         22.0   \n",
       "1        NNW        WSW           4.0  ...         44.0         25.0   \n",
       "2          W        WSW          19.0  ...         38.0         30.0   \n",
       "3         SE          E          11.0  ...         45.0         16.0   \n",
       "4        ENE         NW           7.0  ...         82.0         33.0   \n",
       "\n",
       "   Pressure9am  Pressure3pm  Cloud9am  Temp9am  Temp3pm  RainToday  \\\n",
       "0       1007.7       1007.1       8.0     16.9     21.8        0.0   \n",
       "1       1010.6       1007.8       NaN     17.2     24.3        0.0   \n",
       "2       1007.6       1008.7       NaN     21.0     23.2        0.0   \n",
       "3       1017.6       1012.8       NaN     18.1     26.5        0.0   \n",
       "4       1010.8       1006.0       7.0     17.8     29.7        0.0   \n",
       "\n",
       "   RainTomorrow  Month  \n",
       "0           0.0     12  \n",
       "1           0.0     12  \n",
       "2           0.0     12  \n",
       "3           0.0     12  \n",
       "4           0.0     12  \n",
       "\n",
       "[5 rows x 21 columns]"
      ]
     },
     "execution_count": 40,
     "metadata": {},
     "output_type": "execute_result"
    }
   ],
   "source": [
    "# создаем столбец с месяцем\n",
    "data_w['Month'] = pd.to_datetime(data_w['Date'], format='%Y-%m-%d').dt.month\n",
    "data_w.head()"
   ]
  },
  {
   "cell_type": "code",
   "execution_count": 41,
   "metadata": {},
   "outputs": [
    {
     "data": {
      "text/html": [
       "<div>\n",
       "<style scoped>\n",
       "    .dataframe tbody tr th:only-of-type {\n",
       "        vertical-align: middle;\n",
       "    }\n",
       "\n",
       "    .dataframe tbody tr th {\n",
       "        vertical-align: top;\n",
       "    }\n",
       "\n",
       "    .dataframe thead th {\n",
       "        text-align: right;\n",
       "    }\n",
       "</style>\n",
       "<table border=\"1\" class=\"dataframe\">\n",
       "  <thead>\n",
       "    <tr style=\"text-align: right;\">\n",
       "      <th></th>\n",
       "      <th>Location</th>\n",
       "      <th>MinTemp</th>\n",
       "      <th>MaxTemp</th>\n",
       "      <th>Rainfall</th>\n",
       "      <th>WindGustDir</th>\n",
       "      <th>WindGustSpeed</th>\n",
       "      <th>WindDir9am</th>\n",
       "      <th>WindDir3pm</th>\n",
       "      <th>WindSpeed9am</th>\n",
       "      <th>WindSpeed3pm</th>\n",
       "      <th>Humidity9am</th>\n",
       "      <th>Humidity3pm</th>\n",
       "      <th>Pressure9am</th>\n",
       "      <th>Pressure3pm</th>\n",
       "      <th>Cloud9am</th>\n",
       "      <th>Temp9am</th>\n",
       "      <th>Temp3pm</th>\n",
       "      <th>RainToday</th>\n",
       "      <th>RainTomorrow</th>\n",
       "      <th>Month</th>\n",
       "    </tr>\n",
       "  </thead>\n",
       "  <tbody>\n",
       "    <tr>\n",
       "      <th>0</th>\n",
       "      <td>Albury</td>\n",
       "      <td>13.4</td>\n",
       "      <td>22.9</td>\n",
       "      <td>0.6</td>\n",
       "      <td>W</td>\n",
       "      <td>44.0</td>\n",
       "      <td>W</td>\n",
       "      <td>WNW</td>\n",
       "      <td>20.0</td>\n",
       "      <td>24.0</td>\n",
       "      <td>71.0</td>\n",
       "      <td>22.0</td>\n",
       "      <td>1007.7</td>\n",
       "      <td>1007.1</td>\n",
       "      <td>8.0</td>\n",
       "      <td>16.9</td>\n",
       "      <td>21.8</td>\n",
       "      <td>0.0</td>\n",
       "      <td>0.0</td>\n",
       "      <td>12</td>\n",
       "    </tr>\n",
       "    <tr>\n",
       "      <th>1</th>\n",
       "      <td>Albury</td>\n",
       "      <td>7.4</td>\n",
       "      <td>25.1</td>\n",
       "      <td>0.0</td>\n",
       "      <td>WNW</td>\n",
       "      <td>44.0</td>\n",
       "      <td>NNW</td>\n",
       "      <td>WSW</td>\n",
       "      <td>4.0</td>\n",
       "      <td>22.0</td>\n",
       "      <td>44.0</td>\n",
       "      <td>25.0</td>\n",
       "      <td>1010.6</td>\n",
       "      <td>1007.8</td>\n",
       "      <td>NaN</td>\n",
       "      <td>17.2</td>\n",
       "      <td>24.3</td>\n",
       "      <td>0.0</td>\n",
       "      <td>0.0</td>\n",
       "      <td>12</td>\n",
       "    </tr>\n",
       "    <tr>\n",
       "      <th>2</th>\n",
       "      <td>Albury</td>\n",
       "      <td>12.9</td>\n",
       "      <td>25.7</td>\n",
       "      <td>0.0</td>\n",
       "      <td>WSW</td>\n",
       "      <td>46.0</td>\n",
       "      <td>W</td>\n",
       "      <td>WSW</td>\n",
       "      <td>19.0</td>\n",
       "      <td>26.0</td>\n",
       "      <td>38.0</td>\n",
       "      <td>30.0</td>\n",
       "      <td>1007.6</td>\n",
       "      <td>1008.7</td>\n",
       "      <td>NaN</td>\n",
       "      <td>21.0</td>\n",
       "      <td>23.2</td>\n",
       "      <td>0.0</td>\n",
       "      <td>0.0</td>\n",
       "      <td>12</td>\n",
       "    </tr>\n",
       "    <tr>\n",
       "      <th>3</th>\n",
       "      <td>Albury</td>\n",
       "      <td>9.2</td>\n",
       "      <td>28.0</td>\n",
       "      <td>0.0</td>\n",
       "      <td>NE</td>\n",
       "      <td>24.0</td>\n",
       "      <td>SE</td>\n",
       "      <td>E</td>\n",
       "      <td>11.0</td>\n",
       "      <td>9.0</td>\n",
       "      <td>45.0</td>\n",
       "      <td>16.0</td>\n",
       "      <td>1017.6</td>\n",
       "      <td>1012.8</td>\n",
       "      <td>NaN</td>\n",
       "      <td>18.1</td>\n",
       "      <td>26.5</td>\n",
       "      <td>0.0</td>\n",
       "      <td>0.0</td>\n",
       "      <td>12</td>\n",
       "    </tr>\n",
       "    <tr>\n",
       "      <th>4</th>\n",
       "      <td>Albury</td>\n",
       "      <td>17.5</td>\n",
       "      <td>32.3</td>\n",
       "      <td>1.0</td>\n",
       "      <td>W</td>\n",
       "      <td>41.0</td>\n",
       "      <td>ENE</td>\n",
       "      <td>NW</td>\n",
       "      <td>7.0</td>\n",
       "      <td>20.0</td>\n",
       "      <td>82.0</td>\n",
       "      <td>33.0</td>\n",
       "      <td>1010.8</td>\n",
       "      <td>1006.0</td>\n",
       "      <td>7.0</td>\n",
       "      <td>17.8</td>\n",
       "      <td>29.7</td>\n",
       "      <td>0.0</td>\n",
       "      <td>0.0</td>\n",
       "      <td>12</td>\n",
       "    </tr>\n",
       "  </tbody>\n",
       "</table>\n",
       "</div>"
      ],
      "text/plain": [
       "  Location  MinTemp  MaxTemp  Rainfall WindGustDir  WindGustSpeed WindDir9am  \\\n",
       "0   Albury     13.4     22.9       0.6           W           44.0          W   \n",
       "1   Albury      7.4     25.1       0.0         WNW           44.0        NNW   \n",
       "2   Albury     12.9     25.7       0.0         WSW           46.0          W   \n",
       "3   Albury      9.2     28.0       0.0          NE           24.0         SE   \n",
       "4   Albury     17.5     32.3       1.0           W           41.0        ENE   \n",
       "\n",
       "  WindDir3pm  WindSpeed9am  WindSpeed3pm  Humidity9am  Humidity3pm  \\\n",
       "0        WNW          20.0          24.0         71.0         22.0   \n",
       "1        WSW           4.0          22.0         44.0         25.0   \n",
       "2        WSW          19.0          26.0         38.0         30.0   \n",
       "3          E          11.0           9.0         45.0         16.0   \n",
       "4         NW           7.0          20.0         82.0         33.0   \n",
       "\n",
       "   Pressure9am  Pressure3pm  Cloud9am  Temp9am  Temp3pm  RainToday  \\\n",
       "0       1007.7       1007.1       8.0     16.9     21.8        0.0   \n",
       "1       1010.6       1007.8       NaN     17.2     24.3        0.0   \n",
       "2       1007.6       1008.7       NaN     21.0     23.2        0.0   \n",
       "3       1017.6       1012.8       NaN     18.1     26.5        0.0   \n",
       "4       1010.8       1006.0       7.0     17.8     29.7        0.0   \n",
       "\n",
       "   RainTomorrow  Month  \n",
       "0           0.0     12  \n",
       "1           0.0     12  \n",
       "2           0.0     12  \n",
       "3           0.0     12  \n",
       "4           0.0     12  "
      ]
     },
     "execution_count": 41,
     "metadata": {},
     "output_type": "execute_result"
    }
   ],
   "source": [
    "# удаляем столбец\n",
    "del data_w['Date']\n",
    "data_w.head()"
   ]
  },
  {
   "cell_type": "code",
   "execution_count": 51,
   "metadata": {},
   "outputs": [
    {
     "name": "stderr",
     "output_type": "stream",
     "text": [
      "C:\\Users\\vadim.kopytko\\AppData\\Local\\Temp\\ipykernel_5460\\76274947.py:1: FutureWarning: The default value of numeric_only in DataFrameGroupBy.mean is deprecated. In a future version, numeric_only will default to False. Either specify numeric_only or select only columns which should be valid for the function.\n",
      "  data_w.groupby('Month').mean()['RainToday'].sort_values(ascending=False)\n"
     ]
    },
    {
     "data": {
      "text/plain": [
       "Month\n",
       "7     0.270736\n",
       "6     0.263638\n",
       "8     0.253167\n",
       "9     0.229135\n",
       "5     0.222163\n",
       "3     0.217135\n",
       "4     0.216845\n",
       "12    0.213037\n",
       "11    0.210843\n",
       "2     0.206746\n",
       "10    0.196512\n",
       "1     0.189484\n",
       "Name: RainToday, dtype: float64"
      ]
     },
     "execution_count": 51,
     "metadata": {},
     "output_type": "execute_result"
    }
   ],
   "source": [
    "data_w.groupby('Month').mean()['RainToday'].sort_values(ascending=False)"
   ]
  },
  {
   "cell_type": "code",
   "execution_count": 52,
   "metadata": {},
   "outputs": [
    {
     "data": {
      "text/plain": [
       "(145460, 124)"
      ]
     },
     "execution_count": 52,
     "metadata": {},
     "output_type": "execute_result"
    }
   ],
   "source": [
    "categoricals = ['Month', 'Location', 'WindGustDir', 'WindDir9am', 'WindDir3pm']\n",
    "data_w_dummy = pd.get_dummies(data_w, columns=categoricals)\n",
    "data_w_dummy.shape"
   ]
  },
  {
   "cell_type": "code",
   "execution_count": 85,
   "metadata": {},
   "outputs": [],
   "source": [
    "data_w_dummy = data_w_dummy.dropna()"
   ]
  },
  {
   "cell_type": "code",
   "execution_count": 86,
   "metadata": {},
   "outputs": [],
   "source": [
    "X = data_w_dummy.drop('RainTomorrow', axis=1)\n",
    "y = data_w_dummy[['RainTomorrow']]"
   ]
  },
  {
   "cell_type": "code",
   "execution_count": 87,
   "metadata": {},
   "outputs": [
    {
     "data": {
      "text/plain": [
       "RainTomorrow    0.227703\n",
       "dtype: float64"
      ]
     },
     "execution_count": 87,
     "metadata": {},
     "output_type": "execute_result"
    }
   ],
   "source": [
    "X_train, X_test, y_train, y_test = model_selection.train_test_split(X, y, test_size=0.3, random_state=31)\n",
    "y_test.mean()"
   ]
  },
  {
   "cell_type": "code",
   "execution_count": 88,
   "metadata": {},
   "outputs": [],
   "source": [
    "X_train_ir = X_train.copy()"
   ]
  },
  {
   "cell_type": "code",
   "execution_count": 89,
   "metadata": {},
   "outputs": [],
   "source": [
    "X_train_ir = X_train_ir.reset_index()"
   ]
  },
  {
   "cell_type": "code",
   "execution_count": 90,
   "metadata": {},
   "outputs": [
    {
     "name": "stdout",
     "output_type": "stream",
     "text": [
      "0.03\n"
     ]
    }
   ],
   "source": [
    "mintemp_list = []\n",
    "for i in range(1000):\n",
    "    inds = np.random.randint(X_train_ir.shape[0], size=X_train_ir.shape[0])\n",
    "    mintemp_list.append(X_train_ir['MinTemp'].iloc[inds].mean())\n",
    "print(np.round(np.std(mintemp_list), 2))"
   ]
  },
  {
   "cell_type": "code",
   "execution_count": 91,
   "metadata": {},
   "outputs": [
    {
     "name": "stderr",
     "output_type": "stream",
     "text": [
      "C:\\Users\\vadim.kopytko\\AppData\\Roaming\\Python\\Python310\\site-packages\\sklearn\\utils\\validation.py:1183: DataConversionWarning: A column-vector y was passed when a 1d array was expected. Please change the shape of y to (n_samples, ), for example using ravel().\n",
      "  y = column_or_1d(y, warn=True)\n"
     ]
    },
    {
     "name": "stdout",
     "output_type": "stream",
     "text": [
      "0.73\n"
     ]
    },
    {
     "name": "stderr",
     "output_type": "stream",
     "text": [
      "C:\\Users\\vadim.kopytko\\AppData\\Roaming\\Python\\Python310\\site-packages\\sklearn\\linear_model\\_logistic.py:460: ConvergenceWarning: lbfgs failed to converge (status=1):\n",
      "STOP: TOTAL NO. of ITERATIONS REACHED LIMIT.\n",
      "\n",
      "Increase the number of iterations (max_iter) or scale the data as shown in:\n",
      "    https://scikit-learn.org/stable/modules/preprocessing.html\n",
      "Please also refer to the documentation for alternative solver options:\n",
      "    https://scikit-learn.org/stable/modules/linear_model.html#logistic-regression\n",
      "  n_iter_i = _check_optimize_result(\n"
     ]
    }
   ],
   "source": [
    "lg = linear_model.LogisticRegression()\n",
    "lg.fit(X_train, y_train)\n",
    "y_test_pred_lg = lg.predict(X_test)\n",
    "print(np.round( metrics.roc_auc_score(y_test, y_test_pred_lg), 2))"
   ]
  },
  {
   "cell_type": "code",
   "execution_count": 96,
   "metadata": {},
   "outputs": [
    {
     "name": "stdout",
     "output_type": "stream",
     "text": [
      "Fitting 3 folds for each of 96 candidates, totalling 288 fits\n"
     ]
    },
    {
     "data": {
      "text/plain": [
       "{'max_depth': 5, 'max_leaf_nodes': 9, 'min_samples_split': 2}"
      ]
     },
     "execution_count": 96,
     "metadata": {},
     "output_type": "execute_result"
    }
   ],
   "source": [
    "params = {'max_leaf_nodes': list(range(2, 10)), 'min_samples_split': [2, 3, 4], 'max_depth': [5,7,9,11]}\n",
    "\n",
    "gs = model_selection.GridSearchCV(\n",
    "    estimator=tree.DecisionTreeClassifier(random_state=42),\n",
    "    cv=3,\n",
    "    param_grid=params,\n",
    "    verbose=True,\n",
    ").fit(X_train, y_train)\n",
    "gs.best_params_\n"
   ]
  },
  {
   "cell_type": "code",
   "execution_count": 99,
   "metadata": {},
   "outputs": [
    {
     "name": "stdout",
     "output_type": "stream",
     "text": [
      "0.7\n"
     ]
    }
   ],
   "source": [
    "dt = tree.DecisionTreeClassifier(**gs.best_params_, random_state=42).fit(X_train, y_train)\n",
    "y_test_pred_dt = dt.predict(X_test)\n",
    "print(np.round( metrics.roc_auc_score(y_test, y_test_pred_dt), 2))"
   ]
  },
  {
   "cell_type": "code",
   "execution_count": 100,
   "metadata": {},
   "outputs": [
    {
     "name": "stderr",
     "output_type": "stream",
     "text": [
      "C:\\Users\\vadim.kopytko\\AppData\\Roaming\\Python\\Python310\\site-packages\\sklearn\\base.py:1152: DataConversionWarning: A column-vector y was passed when a 1d array was expected. Please change the shape of y to (n_samples,), for example using ravel().\n",
      "  return fit_method(estimator, *args, **kwargs)\n"
     ]
    },
    {
     "name": "stdout",
     "output_type": "stream",
     "text": [
      "0.73\n"
     ]
    }
   ],
   "source": [
    "rf = ensemble.RandomForestClassifier(\n",
    "    n_estimators=100, \n",
    "    random_state=31,\n",
    "    verbose=True,\n",
    "    n_jobs=-1).fit(X_train, y_train)\n",
    "y_test_pred_rf = rf.predict(X_test)\n",
    "print(np.round(metrics.roc_auc_score(y_test, y_test_pred_rf), 2))"
   ]
  },
  {
   "cell_type": "code",
   "execution_count": 103,
   "metadata": {},
   "outputs": [
    {
     "name": "stdout",
     "output_type": "stream",
     "text": [
      "Fitting 3 folds for each of 60 candidates, totalling 180 fits\n"
     ]
    },
    {
     "name": "stderr",
     "output_type": "stream",
     "text": [
      "C:\\Users\\vadim.kopytko\\AppData\\Roaming\\Python\\Python310\\site-packages\\sklearn\\base.py:1152: DataConversionWarning: A column-vector y was passed when a 1d array was expected. Please change the shape of y to (n_samples,), for example using ravel().\n",
      "  return fit_method(estimator, *args, **kwargs)\n"
     ]
    },
    {
     "name": "stdout",
     "output_type": "stream",
     "text": [
      "[CV 1/3] END max_depth=5, max_features=4, min_samples_leaf=3;, score=0.776 total time=   0.8s\n"
     ]
    },
    {
     "name": "stderr",
     "output_type": "stream",
     "text": [
      "C:\\Users\\vadim.kopytko\\AppData\\Roaming\\Python\\Python310\\site-packages\\sklearn\\base.py:1152: DataConversionWarning: A column-vector y was passed when a 1d array was expected. Please change the shape of y to (n_samples,), for example using ravel().\n",
      "  return fit_method(estimator, *args, **kwargs)\n"
     ]
    },
    {
     "name": "stdout",
     "output_type": "stream",
     "text": [
      "[CV 2/3] END max_depth=5, max_features=4, min_samples_leaf=3;, score=0.775 total time=   0.8s\n"
     ]
    },
    {
     "name": "stderr",
     "output_type": "stream",
     "text": [
      "C:\\Users\\vadim.kopytko\\AppData\\Roaming\\Python\\Python310\\site-packages\\sklearn\\base.py:1152: DataConversionWarning: A column-vector y was passed when a 1d array was expected. Please change the shape of y to (n_samples,), for example using ravel().\n",
      "  return fit_method(estimator, *args, **kwargs)\n"
     ]
    },
    {
     "name": "stdout",
     "output_type": "stream",
     "text": [
      "[CV 3/3] END max_depth=5, max_features=4, min_samples_leaf=3;, score=0.775 total time=   0.8s\n"
     ]
    },
    {
     "name": "stderr",
     "output_type": "stream",
     "text": [
      "C:\\Users\\vadim.kopytko\\AppData\\Roaming\\Python\\Python310\\site-packages\\sklearn\\base.py:1152: DataConversionWarning: A column-vector y was passed when a 1d array was expected. Please change the shape of y to (n_samples,), for example using ravel().\n",
      "  return fit_method(estimator, *args, **kwargs)\n"
     ]
    },
    {
     "name": "stdout",
     "output_type": "stream",
     "text": [
      "[CV 1/3] END max_depth=5, max_features=4, min_samples_leaf=5;, score=0.776 total time=   0.8s\n"
     ]
    },
    {
     "name": "stderr",
     "output_type": "stream",
     "text": [
      "C:\\Users\\vadim.kopytko\\AppData\\Roaming\\Python\\Python310\\site-packages\\sklearn\\base.py:1152: DataConversionWarning: A column-vector y was passed when a 1d array was expected. Please change the shape of y to (n_samples,), for example using ravel().\n",
      "  return fit_method(estimator, *args, **kwargs)\n"
     ]
    },
    {
     "name": "stdout",
     "output_type": "stream",
     "text": [
      "[CV 2/3] END max_depth=5, max_features=4, min_samples_leaf=5;, score=0.775 total time=   0.8s\n"
     ]
    },
    {
     "name": "stderr",
     "output_type": "stream",
     "text": [
      "C:\\Users\\vadim.kopytko\\AppData\\Roaming\\Python\\Python310\\site-packages\\sklearn\\base.py:1152: DataConversionWarning: A column-vector y was passed when a 1d array was expected. Please change the shape of y to (n_samples,), for example using ravel().\n",
      "  return fit_method(estimator, *args, **kwargs)\n"
     ]
    },
    {
     "name": "stdout",
     "output_type": "stream",
     "text": [
      "[CV 3/3] END max_depth=5, max_features=4, min_samples_leaf=5;, score=0.775 total time=   0.8s\n"
     ]
    },
    {
     "name": "stderr",
     "output_type": "stream",
     "text": [
      "C:\\Users\\vadim.kopytko\\AppData\\Roaming\\Python\\Python310\\site-packages\\sklearn\\base.py:1152: DataConversionWarning: A column-vector y was passed when a 1d array was expected. Please change the shape of y to (n_samples,), for example using ravel().\n",
      "  return fit_method(estimator, *args, **kwargs)\n"
     ]
    },
    {
     "name": "stdout",
     "output_type": "stream",
     "text": [
      "[CV 1/3] END max_depth=5, max_features=4, min_samples_leaf=7;, score=0.776 total time=   0.8s\n"
     ]
    },
    {
     "name": "stderr",
     "output_type": "stream",
     "text": [
      "C:\\Users\\vadim.kopytko\\AppData\\Roaming\\Python\\Python310\\site-packages\\sklearn\\base.py:1152: DataConversionWarning: A column-vector y was passed when a 1d array was expected. Please change the shape of y to (n_samples,), for example using ravel().\n",
      "  return fit_method(estimator, *args, **kwargs)\n"
     ]
    },
    {
     "name": "stdout",
     "output_type": "stream",
     "text": [
      "[CV 2/3] END max_depth=5, max_features=4, min_samples_leaf=7;, score=0.775 total time=   0.8s\n"
     ]
    },
    {
     "name": "stderr",
     "output_type": "stream",
     "text": [
      "C:\\Users\\vadim.kopytko\\AppData\\Roaming\\Python\\Python310\\site-packages\\sklearn\\base.py:1152: DataConversionWarning: A column-vector y was passed when a 1d array was expected. Please change the shape of y to (n_samples,), for example using ravel().\n",
      "  return fit_method(estimator, *args, **kwargs)\n"
     ]
    },
    {
     "name": "stdout",
     "output_type": "stream",
     "text": [
      "[CV 3/3] END max_depth=5, max_features=4, min_samples_leaf=7;, score=0.775 total time=   0.8s\n"
     ]
    },
    {
     "name": "stderr",
     "output_type": "stream",
     "text": [
      "C:\\Users\\vadim.kopytko\\AppData\\Roaming\\Python\\Python310\\site-packages\\sklearn\\base.py:1152: DataConversionWarning: A column-vector y was passed when a 1d array was expected. Please change the shape of y to (n_samples,), for example using ravel().\n",
      "  return fit_method(estimator, *args, **kwargs)\n"
     ]
    },
    {
     "name": "stdout",
     "output_type": "stream",
     "text": [
      "[CV 1/3] END max_depth=5, max_features=4, min_samples_leaf=9;, score=0.776 total time=   0.8s\n"
     ]
    },
    {
     "name": "stderr",
     "output_type": "stream",
     "text": [
      "C:\\Users\\vadim.kopytko\\AppData\\Roaming\\Python\\Python310\\site-packages\\sklearn\\base.py:1152: DataConversionWarning: A column-vector y was passed when a 1d array was expected. Please change the shape of y to (n_samples,), for example using ravel().\n",
      "  return fit_method(estimator, *args, **kwargs)\n"
     ]
    },
    {
     "name": "stdout",
     "output_type": "stream",
     "text": [
      "[CV 2/3] END max_depth=5, max_features=4, min_samples_leaf=9;, score=0.775 total time=   0.8s\n"
     ]
    },
    {
     "name": "stderr",
     "output_type": "stream",
     "text": [
      "C:\\Users\\vadim.kopytko\\AppData\\Roaming\\Python\\Python310\\site-packages\\sklearn\\base.py:1152: DataConversionWarning: A column-vector y was passed when a 1d array was expected. Please change the shape of y to (n_samples,), for example using ravel().\n",
      "  return fit_method(estimator, *args, **kwargs)\n"
     ]
    },
    {
     "name": "stdout",
     "output_type": "stream",
     "text": [
      "[CV 3/3] END max_depth=5, max_features=4, min_samples_leaf=9;, score=0.775 total time=   0.8s\n"
     ]
    },
    {
     "name": "stderr",
     "output_type": "stream",
     "text": [
      "C:\\Users\\vadim.kopytko\\AppData\\Roaming\\Python\\Python310\\site-packages\\sklearn\\base.py:1152: DataConversionWarning: A column-vector y was passed when a 1d array was expected. Please change the shape of y to (n_samples,), for example using ravel().\n",
      "  return fit_method(estimator, *args, **kwargs)\n"
     ]
    },
    {
     "name": "stdout",
     "output_type": "stream",
     "text": [
      "[CV 1/3] END max_depth=5, max_features=4, min_samples_leaf=11;, score=0.776 total time=   0.8s\n"
     ]
    },
    {
     "name": "stderr",
     "output_type": "stream",
     "text": [
      "C:\\Users\\vadim.kopytko\\AppData\\Roaming\\Python\\Python310\\site-packages\\sklearn\\base.py:1152: DataConversionWarning: A column-vector y was passed when a 1d array was expected. Please change the shape of y to (n_samples,), for example using ravel().\n",
      "  return fit_method(estimator, *args, **kwargs)\n"
     ]
    },
    {
     "name": "stdout",
     "output_type": "stream",
     "text": [
      "[CV 2/3] END max_depth=5, max_features=4, min_samples_leaf=11;, score=0.775 total time=   0.8s\n"
     ]
    },
    {
     "name": "stderr",
     "output_type": "stream",
     "text": [
      "C:\\Users\\vadim.kopytko\\AppData\\Roaming\\Python\\Python310\\site-packages\\sklearn\\base.py:1152: DataConversionWarning: A column-vector y was passed when a 1d array was expected. Please change the shape of y to (n_samples,), for example using ravel().\n",
      "  return fit_method(estimator, *args, **kwargs)\n"
     ]
    },
    {
     "name": "stdout",
     "output_type": "stream",
     "text": [
      "[CV 3/3] END max_depth=5, max_features=4, min_samples_leaf=11;, score=0.775 total time=   0.8s\n"
     ]
    },
    {
     "name": "stderr",
     "output_type": "stream",
     "text": [
      "C:\\Users\\vadim.kopytko\\AppData\\Roaming\\Python\\Python310\\site-packages\\sklearn\\base.py:1152: DataConversionWarning: A column-vector y was passed when a 1d array was expected. Please change the shape of y to (n_samples,), for example using ravel().\n",
      "  return fit_method(estimator, *args, **kwargs)\n"
     ]
    },
    {
     "name": "stdout",
     "output_type": "stream",
     "text": [
      "[CV 1/3] END max_depth=5, max_features=5, min_samples_leaf=3;, score=0.782 total time=   0.9s\n"
     ]
    },
    {
     "name": "stderr",
     "output_type": "stream",
     "text": [
      "C:\\Users\\vadim.kopytko\\AppData\\Roaming\\Python\\Python310\\site-packages\\sklearn\\base.py:1152: DataConversionWarning: A column-vector y was passed when a 1d array was expected. Please change the shape of y to (n_samples,), for example using ravel().\n",
      "  return fit_method(estimator, *args, **kwargs)\n"
     ]
    },
    {
     "name": "stdout",
     "output_type": "stream",
     "text": [
      "[CV 2/3] END max_depth=5, max_features=5, min_samples_leaf=3;, score=0.780 total time=   0.9s\n"
     ]
    },
    {
     "name": "stderr",
     "output_type": "stream",
     "text": [
      "C:\\Users\\vadim.kopytko\\AppData\\Roaming\\Python\\Python310\\site-packages\\sklearn\\base.py:1152: DataConversionWarning: A column-vector y was passed when a 1d array was expected. Please change the shape of y to (n_samples,), for example using ravel().\n",
      "  return fit_method(estimator, *args, **kwargs)\n"
     ]
    },
    {
     "name": "stdout",
     "output_type": "stream",
     "text": [
      "[CV 3/3] END max_depth=5, max_features=5, min_samples_leaf=3;, score=0.781 total time=   0.9s\n"
     ]
    },
    {
     "name": "stderr",
     "output_type": "stream",
     "text": [
      "C:\\Users\\vadim.kopytko\\AppData\\Roaming\\Python\\Python310\\site-packages\\sklearn\\base.py:1152: DataConversionWarning: A column-vector y was passed when a 1d array was expected. Please change the shape of y to (n_samples,), for example using ravel().\n",
      "  return fit_method(estimator, *args, **kwargs)\n"
     ]
    },
    {
     "name": "stdout",
     "output_type": "stream",
     "text": [
      "[CV 1/3] END max_depth=5, max_features=5, min_samples_leaf=5;, score=0.781 total time=   0.9s\n"
     ]
    },
    {
     "name": "stderr",
     "output_type": "stream",
     "text": [
      "C:\\Users\\vadim.kopytko\\AppData\\Roaming\\Python\\Python310\\site-packages\\sklearn\\base.py:1152: DataConversionWarning: A column-vector y was passed when a 1d array was expected. Please change the shape of y to (n_samples,), for example using ravel().\n",
      "  return fit_method(estimator, *args, **kwargs)\n"
     ]
    },
    {
     "name": "stdout",
     "output_type": "stream",
     "text": [
      "[CV 2/3] END max_depth=5, max_features=5, min_samples_leaf=5;, score=0.781 total time=   0.9s\n"
     ]
    },
    {
     "name": "stderr",
     "output_type": "stream",
     "text": [
      "C:\\Users\\vadim.kopytko\\AppData\\Roaming\\Python\\Python310\\site-packages\\sklearn\\base.py:1152: DataConversionWarning: A column-vector y was passed when a 1d array was expected. Please change the shape of y to (n_samples,), for example using ravel().\n",
      "  return fit_method(estimator, *args, **kwargs)\n"
     ]
    },
    {
     "name": "stdout",
     "output_type": "stream",
     "text": [
      "[CV 3/3] END max_depth=5, max_features=5, min_samples_leaf=5;, score=0.781 total time=   0.9s\n"
     ]
    },
    {
     "name": "stderr",
     "output_type": "stream",
     "text": [
      "C:\\Users\\vadim.kopytko\\AppData\\Roaming\\Python\\Python310\\site-packages\\sklearn\\base.py:1152: DataConversionWarning: A column-vector y was passed when a 1d array was expected. Please change the shape of y to (n_samples,), for example using ravel().\n",
      "  return fit_method(estimator, *args, **kwargs)\n"
     ]
    },
    {
     "name": "stdout",
     "output_type": "stream",
     "text": [
      "[CV 1/3] END max_depth=5, max_features=5, min_samples_leaf=7;, score=0.782 total time=   0.9s\n"
     ]
    },
    {
     "name": "stderr",
     "output_type": "stream",
     "text": [
      "C:\\Users\\vadim.kopytko\\AppData\\Roaming\\Python\\Python310\\site-packages\\sklearn\\base.py:1152: DataConversionWarning: A column-vector y was passed when a 1d array was expected. Please change the shape of y to (n_samples,), for example using ravel().\n",
      "  return fit_method(estimator, *args, **kwargs)\n"
     ]
    },
    {
     "name": "stdout",
     "output_type": "stream",
     "text": [
      "[CV 2/3] END max_depth=5, max_features=5, min_samples_leaf=7;, score=0.780 total time=   0.9s\n"
     ]
    },
    {
     "name": "stderr",
     "output_type": "stream",
     "text": [
      "C:\\Users\\vadim.kopytko\\AppData\\Roaming\\Python\\Python310\\site-packages\\sklearn\\base.py:1152: DataConversionWarning: A column-vector y was passed when a 1d array was expected. Please change the shape of y to (n_samples,), for example using ravel().\n",
      "  return fit_method(estimator, *args, **kwargs)\n"
     ]
    },
    {
     "name": "stdout",
     "output_type": "stream",
     "text": [
      "[CV 3/3] END max_depth=5, max_features=5, min_samples_leaf=7;, score=0.782 total time=   0.9s\n"
     ]
    },
    {
     "name": "stderr",
     "output_type": "stream",
     "text": [
      "C:\\Users\\vadim.kopytko\\AppData\\Roaming\\Python\\Python310\\site-packages\\sklearn\\base.py:1152: DataConversionWarning: A column-vector y was passed when a 1d array was expected. Please change the shape of y to (n_samples,), for example using ravel().\n",
      "  return fit_method(estimator, *args, **kwargs)\n"
     ]
    },
    {
     "name": "stdout",
     "output_type": "stream",
     "text": [
      "[CV 1/3] END max_depth=5, max_features=5, min_samples_leaf=9;, score=0.782 total time=   0.9s\n"
     ]
    },
    {
     "name": "stderr",
     "output_type": "stream",
     "text": [
      "C:\\Users\\vadim.kopytko\\AppData\\Roaming\\Python\\Python310\\site-packages\\sklearn\\base.py:1152: DataConversionWarning: A column-vector y was passed when a 1d array was expected. Please change the shape of y to (n_samples,), for example using ravel().\n",
      "  return fit_method(estimator, *args, **kwargs)\n"
     ]
    },
    {
     "name": "stdout",
     "output_type": "stream",
     "text": [
      "[CV 2/3] END max_depth=5, max_features=5, min_samples_leaf=9;, score=0.779 total time=   0.9s\n"
     ]
    },
    {
     "name": "stderr",
     "output_type": "stream",
     "text": [
      "C:\\Users\\vadim.kopytko\\AppData\\Roaming\\Python\\Python310\\site-packages\\sklearn\\base.py:1152: DataConversionWarning: A column-vector y was passed when a 1d array was expected. Please change the shape of y to (n_samples,), for example using ravel().\n",
      "  return fit_method(estimator, *args, **kwargs)\n"
     ]
    },
    {
     "name": "stdout",
     "output_type": "stream",
     "text": [
      "[CV 3/3] END max_depth=5, max_features=5, min_samples_leaf=9;, score=0.781 total time=   0.9s\n"
     ]
    },
    {
     "name": "stderr",
     "output_type": "stream",
     "text": [
      "C:\\Users\\vadim.kopytko\\AppData\\Roaming\\Python\\Python310\\site-packages\\sklearn\\base.py:1152: DataConversionWarning: A column-vector y was passed when a 1d array was expected. Please change the shape of y to (n_samples,), for example using ravel().\n",
      "  return fit_method(estimator, *args, **kwargs)\n"
     ]
    },
    {
     "name": "stdout",
     "output_type": "stream",
     "text": [
      "[CV 1/3] END max_depth=5, max_features=5, min_samples_leaf=11;, score=0.784 total time=   0.9s\n"
     ]
    },
    {
     "name": "stderr",
     "output_type": "stream",
     "text": [
      "C:\\Users\\vadim.kopytko\\AppData\\Roaming\\Python\\Python310\\site-packages\\sklearn\\base.py:1152: DataConversionWarning: A column-vector y was passed when a 1d array was expected. Please change the shape of y to (n_samples,), for example using ravel().\n",
      "  return fit_method(estimator, *args, **kwargs)\n"
     ]
    },
    {
     "name": "stdout",
     "output_type": "stream",
     "text": [
      "[CV 2/3] END max_depth=5, max_features=5, min_samples_leaf=11;, score=0.781 total time=   1.0s\n"
     ]
    },
    {
     "name": "stderr",
     "output_type": "stream",
     "text": [
      "C:\\Users\\vadim.kopytko\\AppData\\Roaming\\Python\\Python310\\site-packages\\sklearn\\base.py:1152: DataConversionWarning: A column-vector y was passed when a 1d array was expected. Please change the shape of y to (n_samples,), for example using ravel().\n",
      "  return fit_method(estimator, *args, **kwargs)\n"
     ]
    },
    {
     "name": "stdout",
     "output_type": "stream",
     "text": [
      "[CV 3/3] END max_depth=5, max_features=5, min_samples_leaf=11;, score=0.783 total time=   0.9s\n"
     ]
    },
    {
     "name": "stderr",
     "output_type": "stream",
     "text": [
      "C:\\Users\\vadim.kopytko\\AppData\\Roaming\\Python\\Python310\\site-packages\\sklearn\\base.py:1152: DataConversionWarning: A column-vector y was passed when a 1d array was expected. Please change the shape of y to (n_samples,), for example using ravel().\n",
      "  return fit_method(estimator, *args, **kwargs)\n"
     ]
    },
    {
     "name": "stdout",
     "output_type": "stream",
     "text": [
      "[CV 1/3] END max_depth=5, max_features=6, min_samples_leaf=3;, score=0.795 total time=   1.1s\n"
     ]
    },
    {
     "name": "stderr",
     "output_type": "stream",
     "text": [
      "C:\\Users\\vadim.kopytko\\AppData\\Roaming\\Python\\Python310\\site-packages\\sklearn\\base.py:1152: DataConversionWarning: A column-vector y was passed when a 1d array was expected. Please change the shape of y to (n_samples,), for example using ravel().\n",
      "  return fit_method(estimator, *args, **kwargs)\n"
     ]
    },
    {
     "name": "stdout",
     "output_type": "stream",
     "text": [
      "[CV 2/3] END max_depth=5, max_features=6, min_samples_leaf=3;, score=0.793 total time=   1.5s\n"
     ]
    },
    {
     "name": "stderr",
     "output_type": "stream",
     "text": [
      "C:\\Users\\vadim.kopytko\\AppData\\Roaming\\Python\\Python310\\site-packages\\sklearn\\base.py:1152: DataConversionWarning: A column-vector y was passed when a 1d array was expected. Please change the shape of y to (n_samples,), for example using ravel().\n",
      "  return fit_method(estimator, *args, **kwargs)\n"
     ]
    },
    {
     "name": "stdout",
     "output_type": "stream",
     "text": [
      "[CV 3/3] END max_depth=5, max_features=6, min_samples_leaf=3;, score=0.796 total time=   1.6s\n"
     ]
    },
    {
     "name": "stderr",
     "output_type": "stream",
     "text": [
      "C:\\Users\\vadim.kopytko\\AppData\\Roaming\\Python\\Python310\\site-packages\\sklearn\\base.py:1152: DataConversionWarning: A column-vector y was passed when a 1d array was expected. Please change the shape of y to (n_samples,), for example using ravel().\n",
      "  return fit_method(estimator, *args, **kwargs)\n"
     ]
    },
    {
     "name": "stdout",
     "output_type": "stream",
     "text": [
      "[CV 1/3] END max_depth=5, max_features=6, min_samples_leaf=5;, score=0.793 total time=   1.4s\n"
     ]
    },
    {
     "name": "stderr",
     "output_type": "stream",
     "text": [
      "C:\\Users\\vadim.kopytko\\AppData\\Roaming\\Python\\Python310\\site-packages\\sklearn\\base.py:1152: DataConversionWarning: A column-vector y was passed when a 1d array was expected. Please change the shape of y to (n_samples,), for example using ravel().\n",
      "  return fit_method(estimator, *args, **kwargs)\n"
     ]
    },
    {
     "name": "stdout",
     "output_type": "stream",
     "text": [
      "[CV 2/3] END max_depth=5, max_features=6, min_samples_leaf=5;, score=0.792 total time=   1.8s\n"
     ]
    },
    {
     "name": "stderr",
     "output_type": "stream",
     "text": [
      "C:\\Users\\vadim.kopytko\\AppData\\Roaming\\Python\\Python310\\site-packages\\sklearn\\base.py:1152: DataConversionWarning: A column-vector y was passed when a 1d array was expected. Please change the shape of y to (n_samples,), for example using ravel().\n",
      "  return fit_method(estimator, *args, **kwargs)\n"
     ]
    },
    {
     "name": "stdout",
     "output_type": "stream",
     "text": [
      "[CV 3/3] END max_depth=5, max_features=6, min_samples_leaf=5;, score=0.795 total time=   1.6s\n"
     ]
    },
    {
     "name": "stderr",
     "output_type": "stream",
     "text": [
      "C:\\Users\\vadim.kopytko\\AppData\\Roaming\\Python\\Python310\\site-packages\\sklearn\\base.py:1152: DataConversionWarning: A column-vector y was passed when a 1d array was expected. Please change the shape of y to (n_samples,), for example using ravel().\n",
      "  return fit_method(estimator, *args, **kwargs)\n"
     ]
    },
    {
     "name": "stdout",
     "output_type": "stream",
     "text": [
      "[CV 1/3] END max_depth=5, max_features=6, min_samples_leaf=7;, score=0.798 total time=   1.4s\n"
     ]
    },
    {
     "name": "stderr",
     "output_type": "stream",
     "text": [
      "C:\\Users\\vadim.kopytko\\AppData\\Roaming\\Python\\Python310\\site-packages\\sklearn\\base.py:1152: DataConversionWarning: A column-vector y was passed when a 1d array was expected. Please change the shape of y to (n_samples,), for example using ravel().\n",
      "  return fit_method(estimator, *args, **kwargs)\n"
     ]
    },
    {
     "name": "stdout",
     "output_type": "stream",
     "text": [
      "[CV 2/3] END max_depth=5, max_features=6, min_samples_leaf=7;, score=0.794 total time=   1.2s\n"
     ]
    },
    {
     "name": "stderr",
     "output_type": "stream",
     "text": [
      "C:\\Users\\vadim.kopytko\\AppData\\Roaming\\Python\\Python310\\site-packages\\sklearn\\base.py:1152: DataConversionWarning: A column-vector y was passed when a 1d array was expected. Please change the shape of y to (n_samples,), for example using ravel().\n",
      "  return fit_method(estimator, *args, **kwargs)\n"
     ]
    },
    {
     "name": "stdout",
     "output_type": "stream",
     "text": [
      "[CV 3/3] END max_depth=5, max_features=6, min_samples_leaf=7;, score=0.795 total time=   1.2s\n"
     ]
    },
    {
     "name": "stderr",
     "output_type": "stream",
     "text": [
      "C:\\Users\\vadim.kopytko\\AppData\\Roaming\\Python\\Python310\\site-packages\\sklearn\\base.py:1152: DataConversionWarning: A column-vector y was passed when a 1d array was expected. Please change the shape of y to (n_samples,), for example using ravel().\n",
      "  return fit_method(estimator, *args, **kwargs)\n"
     ]
    },
    {
     "name": "stdout",
     "output_type": "stream",
     "text": [
      "[CV 1/3] END max_depth=5, max_features=6, min_samples_leaf=9;, score=0.796 total time=   1.1s\n"
     ]
    },
    {
     "name": "stderr",
     "output_type": "stream",
     "text": [
      "C:\\Users\\vadim.kopytko\\AppData\\Roaming\\Python\\Python310\\site-packages\\sklearn\\base.py:1152: DataConversionWarning: A column-vector y was passed when a 1d array was expected. Please change the shape of y to (n_samples,), for example using ravel().\n",
      "  return fit_method(estimator, *args, **kwargs)\n"
     ]
    },
    {
     "name": "stdout",
     "output_type": "stream",
     "text": [
      "[CV 2/3] END max_depth=5, max_features=6, min_samples_leaf=9;, score=0.795 total time=   1.1s\n"
     ]
    },
    {
     "name": "stderr",
     "output_type": "stream",
     "text": [
      "C:\\Users\\vadim.kopytko\\AppData\\Roaming\\Python\\Python310\\site-packages\\sklearn\\base.py:1152: DataConversionWarning: A column-vector y was passed when a 1d array was expected. Please change the shape of y to (n_samples,), for example using ravel().\n",
      "  return fit_method(estimator, *args, **kwargs)\n"
     ]
    },
    {
     "name": "stdout",
     "output_type": "stream",
     "text": [
      "[CV 3/3] END max_depth=5, max_features=6, min_samples_leaf=9;, score=0.795 total time=   1.1s\n"
     ]
    },
    {
     "name": "stderr",
     "output_type": "stream",
     "text": [
      "C:\\Users\\vadim.kopytko\\AppData\\Roaming\\Python\\Python310\\site-packages\\sklearn\\base.py:1152: DataConversionWarning: A column-vector y was passed when a 1d array was expected. Please change the shape of y to (n_samples,), for example using ravel().\n",
      "  return fit_method(estimator, *args, **kwargs)\n"
     ]
    },
    {
     "name": "stdout",
     "output_type": "stream",
     "text": [
      "[CV 1/3] END max_depth=5, max_features=6, min_samples_leaf=11;, score=0.795 total time=   1.1s\n"
     ]
    },
    {
     "name": "stderr",
     "output_type": "stream",
     "text": [
      "C:\\Users\\vadim.kopytko\\AppData\\Roaming\\Python\\Python310\\site-packages\\sklearn\\base.py:1152: DataConversionWarning: A column-vector y was passed when a 1d array was expected. Please change the shape of y to (n_samples,), for example using ravel().\n",
      "  return fit_method(estimator, *args, **kwargs)\n"
     ]
    },
    {
     "name": "stdout",
     "output_type": "stream",
     "text": [
      "[CV 2/3] END max_depth=5, max_features=6, min_samples_leaf=11;, score=0.798 total time=   1.1s\n"
     ]
    },
    {
     "name": "stderr",
     "output_type": "stream",
     "text": [
      "C:\\Users\\vadim.kopytko\\AppData\\Roaming\\Python\\Python310\\site-packages\\sklearn\\base.py:1152: DataConversionWarning: A column-vector y was passed when a 1d array was expected. Please change the shape of y to (n_samples,), for example using ravel().\n",
      "  return fit_method(estimator, *args, **kwargs)\n"
     ]
    },
    {
     "name": "stdout",
     "output_type": "stream",
     "text": [
      "[CV 3/3] END max_depth=5, max_features=6, min_samples_leaf=11;, score=0.795 total time=   1.1s\n"
     ]
    },
    {
     "name": "stderr",
     "output_type": "stream",
     "text": [
      "C:\\Users\\vadim.kopytko\\AppData\\Roaming\\Python\\Python310\\site-packages\\sklearn\\base.py:1152: DataConversionWarning: A column-vector y was passed when a 1d array was expected. Please change the shape of y to (n_samples,), for example using ravel().\n",
      "  return fit_method(estimator, *args, **kwargs)\n"
     ]
    },
    {
     "name": "stdout",
     "output_type": "stream",
     "text": [
      "[CV 1/3] END max_depth=5, max_features=7, min_samples_leaf=3;, score=0.798 total time=   1.2s\n"
     ]
    },
    {
     "name": "stderr",
     "output_type": "stream",
     "text": [
      "C:\\Users\\vadim.kopytko\\AppData\\Roaming\\Python\\Python310\\site-packages\\sklearn\\base.py:1152: DataConversionWarning: A column-vector y was passed when a 1d array was expected. Please change the shape of y to (n_samples,), for example using ravel().\n",
      "  return fit_method(estimator, *args, **kwargs)\n"
     ]
    },
    {
     "name": "stdout",
     "output_type": "stream",
     "text": [
      "[CV 2/3] END max_depth=5, max_features=7, min_samples_leaf=3;, score=0.801 total time=   1.2s\n"
     ]
    },
    {
     "name": "stderr",
     "output_type": "stream",
     "text": [
      "C:\\Users\\vadim.kopytko\\AppData\\Roaming\\Python\\Python310\\site-packages\\sklearn\\base.py:1152: DataConversionWarning: A column-vector y was passed when a 1d array was expected. Please change the shape of y to (n_samples,), for example using ravel().\n",
      "  return fit_method(estimator, *args, **kwargs)\n"
     ]
    },
    {
     "name": "stdout",
     "output_type": "stream",
     "text": [
      "[CV 3/3] END max_depth=5, max_features=7, min_samples_leaf=3;, score=0.794 total time=   1.2s\n"
     ]
    },
    {
     "name": "stderr",
     "output_type": "stream",
     "text": [
      "C:\\Users\\vadim.kopytko\\AppData\\Roaming\\Python\\Python310\\site-packages\\sklearn\\base.py:1152: DataConversionWarning: A column-vector y was passed when a 1d array was expected. Please change the shape of y to (n_samples,), for example using ravel().\n",
      "  return fit_method(estimator, *args, **kwargs)\n"
     ]
    },
    {
     "name": "stdout",
     "output_type": "stream",
     "text": [
      "[CV 1/3] END max_depth=5, max_features=7, min_samples_leaf=5;, score=0.798 total time=   1.1s\n"
     ]
    },
    {
     "name": "stderr",
     "output_type": "stream",
     "text": [
      "C:\\Users\\vadim.kopytko\\AppData\\Roaming\\Python\\Python310\\site-packages\\sklearn\\base.py:1152: DataConversionWarning: A column-vector y was passed when a 1d array was expected. Please change the shape of y to (n_samples,), for example using ravel().\n",
      "  return fit_method(estimator, *args, **kwargs)\n"
     ]
    },
    {
     "name": "stdout",
     "output_type": "stream",
     "text": [
      "[CV 2/3] END max_depth=5, max_features=7, min_samples_leaf=5;, score=0.801 total time=   1.2s\n"
     ]
    },
    {
     "name": "stderr",
     "output_type": "stream",
     "text": [
      "C:\\Users\\vadim.kopytko\\AppData\\Roaming\\Python\\Python310\\site-packages\\sklearn\\base.py:1152: DataConversionWarning: A column-vector y was passed when a 1d array was expected. Please change the shape of y to (n_samples,), for example using ravel().\n",
      "  return fit_method(estimator, *args, **kwargs)\n"
     ]
    },
    {
     "name": "stdout",
     "output_type": "stream",
     "text": [
      "[CV 3/3] END max_depth=5, max_features=7, min_samples_leaf=5;, score=0.797 total time=   1.2s\n"
     ]
    },
    {
     "name": "stderr",
     "output_type": "stream",
     "text": [
      "C:\\Users\\vadim.kopytko\\AppData\\Roaming\\Python\\Python310\\site-packages\\sklearn\\base.py:1152: DataConversionWarning: A column-vector y was passed when a 1d array was expected. Please change the shape of y to (n_samples,), for example using ravel().\n",
      "  return fit_method(estimator, *args, **kwargs)\n"
     ]
    },
    {
     "name": "stdout",
     "output_type": "stream",
     "text": [
      "[CV 1/3] END max_depth=5, max_features=7, min_samples_leaf=7;, score=0.794 total time=   1.2s\n"
     ]
    },
    {
     "name": "stderr",
     "output_type": "stream",
     "text": [
      "C:\\Users\\vadim.kopytko\\AppData\\Roaming\\Python\\Python310\\site-packages\\sklearn\\base.py:1152: DataConversionWarning: A column-vector y was passed when a 1d array was expected. Please change the shape of y to (n_samples,), for example using ravel().\n",
      "  return fit_method(estimator, *args, **kwargs)\n"
     ]
    },
    {
     "name": "stdout",
     "output_type": "stream",
     "text": [
      "[CV 2/3] END max_depth=5, max_features=7, min_samples_leaf=7;, score=0.800 total time=   1.2s\n"
     ]
    },
    {
     "name": "stderr",
     "output_type": "stream",
     "text": [
      "C:\\Users\\vadim.kopytko\\AppData\\Roaming\\Python\\Python310\\site-packages\\sklearn\\base.py:1152: DataConversionWarning: A column-vector y was passed when a 1d array was expected. Please change the shape of y to (n_samples,), for example using ravel().\n",
      "  return fit_method(estimator, *args, **kwargs)\n"
     ]
    },
    {
     "name": "stdout",
     "output_type": "stream",
     "text": [
      "[CV 3/3] END max_depth=5, max_features=7, min_samples_leaf=7;, score=0.795 total time=   1.2s\n"
     ]
    },
    {
     "name": "stderr",
     "output_type": "stream",
     "text": [
      "C:\\Users\\vadim.kopytko\\AppData\\Roaming\\Python\\Python310\\site-packages\\sklearn\\base.py:1152: DataConversionWarning: A column-vector y was passed when a 1d array was expected. Please change the shape of y to (n_samples,), for example using ravel().\n",
      "  return fit_method(estimator, *args, **kwargs)\n"
     ]
    },
    {
     "name": "stdout",
     "output_type": "stream",
     "text": [
      "[CV 1/3] END max_depth=5, max_features=7, min_samples_leaf=9;, score=0.796 total time=   1.2s\n"
     ]
    },
    {
     "name": "stderr",
     "output_type": "stream",
     "text": [
      "C:\\Users\\vadim.kopytko\\AppData\\Roaming\\Python\\Python310\\site-packages\\sklearn\\base.py:1152: DataConversionWarning: A column-vector y was passed when a 1d array was expected. Please change the shape of y to (n_samples,), for example using ravel().\n",
      "  return fit_method(estimator, *args, **kwargs)\n"
     ]
    },
    {
     "name": "stdout",
     "output_type": "stream",
     "text": [
      "[CV 2/3] END max_depth=5, max_features=7, min_samples_leaf=9;, score=0.800 total time=   1.2s\n"
     ]
    },
    {
     "name": "stderr",
     "output_type": "stream",
     "text": [
      "C:\\Users\\vadim.kopytko\\AppData\\Roaming\\Python\\Python310\\site-packages\\sklearn\\base.py:1152: DataConversionWarning: A column-vector y was passed when a 1d array was expected. Please change the shape of y to (n_samples,), for example using ravel().\n",
      "  return fit_method(estimator, *args, **kwargs)\n"
     ]
    },
    {
     "name": "stdout",
     "output_type": "stream",
     "text": [
      "[CV 3/3] END max_depth=5, max_features=7, min_samples_leaf=9;, score=0.795 total time=   1.2s\n"
     ]
    },
    {
     "name": "stderr",
     "output_type": "stream",
     "text": [
      "C:\\Users\\vadim.kopytko\\AppData\\Roaming\\Python\\Python310\\site-packages\\sklearn\\base.py:1152: DataConversionWarning: A column-vector y was passed when a 1d array was expected. Please change the shape of y to (n_samples,), for example using ravel().\n",
      "  return fit_method(estimator, *args, **kwargs)\n"
     ]
    },
    {
     "name": "stdout",
     "output_type": "stream",
     "text": [
      "[CV 1/3] END max_depth=5, max_features=7, min_samples_leaf=11;, score=0.796 total time=   1.2s\n"
     ]
    },
    {
     "name": "stderr",
     "output_type": "stream",
     "text": [
      "C:\\Users\\vadim.kopytko\\AppData\\Roaming\\Python\\Python310\\site-packages\\sklearn\\base.py:1152: DataConversionWarning: A column-vector y was passed when a 1d array was expected. Please change the shape of y to (n_samples,), for example using ravel().\n",
      "  return fit_method(estimator, *args, **kwargs)\n"
     ]
    },
    {
     "name": "stdout",
     "output_type": "stream",
     "text": [
      "[CV 2/3] END max_depth=5, max_features=7, min_samples_leaf=11;, score=0.803 total time=   1.2s\n"
     ]
    },
    {
     "name": "stderr",
     "output_type": "stream",
     "text": [
      "C:\\Users\\vadim.kopytko\\AppData\\Roaming\\Python\\Python310\\site-packages\\sklearn\\base.py:1152: DataConversionWarning: A column-vector y was passed when a 1d array was expected. Please change the shape of y to (n_samples,), for example using ravel().\n",
      "  return fit_method(estimator, *args, **kwargs)\n"
     ]
    },
    {
     "name": "stdout",
     "output_type": "stream",
     "text": [
      "[CV 3/3] END max_depth=5, max_features=7, min_samples_leaf=11;, score=0.795 total time=   1.2s\n"
     ]
    },
    {
     "name": "stderr",
     "output_type": "stream",
     "text": [
      "C:\\Users\\vadim.kopytko\\AppData\\Roaming\\Python\\Python310\\site-packages\\sklearn\\base.py:1152: DataConversionWarning: A column-vector y was passed when a 1d array was expected. Please change the shape of y to (n_samples,), for example using ravel().\n",
      "  return fit_method(estimator, *args, **kwargs)\n"
     ]
    },
    {
     "name": "stdout",
     "output_type": "stream",
     "text": [
      "[CV 1/3] END max_depth=10, max_features=4, min_samples_leaf=3;, score=0.810 total time=   1.6s\n"
     ]
    },
    {
     "name": "stderr",
     "output_type": "stream",
     "text": [
      "C:\\Users\\vadim.kopytko\\AppData\\Roaming\\Python\\Python310\\site-packages\\sklearn\\base.py:1152: DataConversionWarning: A column-vector y was passed when a 1d array was expected. Please change the shape of y to (n_samples,), for example using ravel().\n",
      "  return fit_method(estimator, *args, **kwargs)\n"
     ]
    },
    {
     "name": "stdout",
     "output_type": "stream",
     "text": [
      "[CV 2/3] END max_depth=10, max_features=4, min_samples_leaf=3;, score=0.815 total time=   1.6s\n"
     ]
    },
    {
     "name": "stderr",
     "output_type": "stream",
     "text": [
      "C:\\Users\\vadim.kopytko\\AppData\\Roaming\\Python\\Python310\\site-packages\\sklearn\\base.py:1152: DataConversionWarning: A column-vector y was passed when a 1d array was expected. Please change the shape of y to (n_samples,), for example using ravel().\n",
      "  return fit_method(estimator, *args, **kwargs)\n"
     ]
    },
    {
     "name": "stdout",
     "output_type": "stream",
     "text": [
      "[CV 3/3] END max_depth=10, max_features=4, min_samples_leaf=3;, score=0.813 total time=   1.6s\n"
     ]
    },
    {
     "name": "stderr",
     "output_type": "stream",
     "text": [
      "C:\\Users\\vadim.kopytko\\AppData\\Roaming\\Python\\Python310\\site-packages\\sklearn\\base.py:1152: DataConversionWarning: A column-vector y was passed when a 1d array was expected. Please change the shape of y to (n_samples,), for example using ravel().\n",
      "  return fit_method(estimator, *args, **kwargs)\n"
     ]
    },
    {
     "name": "stdout",
     "output_type": "stream",
     "text": [
      "[CV 1/3] END max_depth=10, max_features=4, min_samples_leaf=5;, score=0.812 total time=   1.6s\n"
     ]
    },
    {
     "name": "stderr",
     "output_type": "stream",
     "text": [
      "C:\\Users\\vadim.kopytko\\AppData\\Roaming\\Python\\Python310\\site-packages\\sklearn\\base.py:1152: DataConversionWarning: A column-vector y was passed when a 1d array was expected. Please change the shape of y to (n_samples,), for example using ravel().\n",
      "  return fit_method(estimator, *args, **kwargs)\n"
     ]
    },
    {
     "name": "stdout",
     "output_type": "stream",
     "text": [
      "[CV 2/3] END max_depth=10, max_features=4, min_samples_leaf=5;, score=0.811 total time=   1.5s\n"
     ]
    },
    {
     "name": "stderr",
     "output_type": "stream",
     "text": [
      "C:\\Users\\vadim.kopytko\\AppData\\Roaming\\Python\\Python310\\site-packages\\sklearn\\base.py:1152: DataConversionWarning: A column-vector y was passed when a 1d array was expected. Please change the shape of y to (n_samples,), for example using ravel().\n",
      "  return fit_method(estimator, *args, **kwargs)\n"
     ]
    },
    {
     "name": "stdout",
     "output_type": "stream",
     "text": [
      "[CV 3/3] END max_depth=10, max_features=4, min_samples_leaf=5;, score=0.813 total time=   1.6s\n"
     ]
    },
    {
     "name": "stderr",
     "output_type": "stream",
     "text": [
      "C:\\Users\\vadim.kopytko\\AppData\\Roaming\\Python\\Python310\\site-packages\\sklearn\\base.py:1152: DataConversionWarning: A column-vector y was passed when a 1d array was expected. Please change the shape of y to (n_samples,), for example using ravel().\n",
      "  return fit_method(estimator, *args, **kwargs)\n"
     ]
    },
    {
     "name": "stdout",
     "output_type": "stream",
     "text": [
      "[CV 1/3] END max_depth=10, max_features=4, min_samples_leaf=7;, score=0.811 total time=   1.5s\n"
     ]
    },
    {
     "name": "stderr",
     "output_type": "stream",
     "text": [
      "C:\\Users\\vadim.kopytko\\AppData\\Roaming\\Python\\Python310\\site-packages\\sklearn\\base.py:1152: DataConversionWarning: A column-vector y was passed when a 1d array was expected. Please change the shape of y to (n_samples,), for example using ravel().\n",
      "  return fit_method(estimator, *args, **kwargs)\n"
     ]
    },
    {
     "name": "stdout",
     "output_type": "stream",
     "text": [
      "[CV 2/3] END max_depth=10, max_features=4, min_samples_leaf=7;, score=0.812 total time=   1.6s\n"
     ]
    },
    {
     "name": "stderr",
     "output_type": "stream",
     "text": [
      "C:\\Users\\vadim.kopytko\\AppData\\Roaming\\Python\\Python310\\site-packages\\sklearn\\base.py:1152: DataConversionWarning: A column-vector y was passed when a 1d array was expected. Please change the shape of y to (n_samples,), for example using ravel().\n",
      "  return fit_method(estimator, *args, **kwargs)\n"
     ]
    },
    {
     "name": "stdout",
     "output_type": "stream",
     "text": [
      "[CV 3/3] END max_depth=10, max_features=4, min_samples_leaf=7;, score=0.812 total time=   1.6s\n"
     ]
    },
    {
     "name": "stderr",
     "output_type": "stream",
     "text": [
      "C:\\Users\\vadim.kopytko\\AppData\\Roaming\\Python\\Python310\\site-packages\\sklearn\\base.py:1152: DataConversionWarning: A column-vector y was passed when a 1d array was expected. Please change the shape of y to (n_samples,), for example using ravel().\n",
      "  return fit_method(estimator, *args, **kwargs)\n"
     ]
    },
    {
     "name": "stdout",
     "output_type": "stream",
     "text": [
      "[CV 1/3] END max_depth=10, max_features=4, min_samples_leaf=9;, score=0.809 total time=   1.5s\n"
     ]
    },
    {
     "name": "stderr",
     "output_type": "stream",
     "text": [
      "C:\\Users\\vadim.kopytko\\AppData\\Roaming\\Python\\Python310\\site-packages\\sklearn\\base.py:1152: DataConversionWarning: A column-vector y was passed when a 1d array was expected. Please change the shape of y to (n_samples,), for example using ravel().\n",
      "  return fit_method(estimator, *args, **kwargs)\n"
     ]
    },
    {
     "name": "stdout",
     "output_type": "stream",
     "text": [
      "[CV 2/3] END max_depth=10, max_features=4, min_samples_leaf=9;, score=0.812 total time=   1.5s\n"
     ]
    },
    {
     "name": "stderr",
     "output_type": "stream",
     "text": [
      "C:\\Users\\vadim.kopytko\\AppData\\Roaming\\Python\\Python310\\site-packages\\sklearn\\base.py:1152: DataConversionWarning: A column-vector y was passed when a 1d array was expected. Please change the shape of y to (n_samples,), for example using ravel().\n",
      "  return fit_method(estimator, *args, **kwargs)\n"
     ]
    },
    {
     "name": "stdout",
     "output_type": "stream",
     "text": [
      "[CV 3/3] END max_depth=10, max_features=4, min_samples_leaf=9;, score=0.811 total time=   1.5s\n"
     ]
    },
    {
     "name": "stderr",
     "output_type": "stream",
     "text": [
      "C:\\Users\\vadim.kopytko\\AppData\\Roaming\\Python\\Python310\\site-packages\\sklearn\\base.py:1152: DataConversionWarning: A column-vector y was passed when a 1d array was expected. Please change the shape of y to (n_samples,), for example using ravel().\n",
      "  return fit_method(estimator, *args, **kwargs)\n"
     ]
    },
    {
     "name": "stdout",
     "output_type": "stream",
     "text": [
      "[CV 1/3] END max_depth=10, max_features=4, min_samples_leaf=11;, score=0.813 total time=   1.5s\n"
     ]
    },
    {
     "name": "stderr",
     "output_type": "stream",
     "text": [
      "C:\\Users\\vadim.kopytko\\AppData\\Roaming\\Python\\Python310\\site-packages\\sklearn\\base.py:1152: DataConversionWarning: A column-vector y was passed when a 1d array was expected. Please change the shape of y to (n_samples,), for example using ravel().\n",
      "  return fit_method(estimator, *args, **kwargs)\n"
     ]
    },
    {
     "name": "stdout",
     "output_type": "stream",
     "text": [
      "[CV 2/3] END max_depth=10, max_features=4, min_samples_leaf=11;, score=0.812 total time=   1.5s\n"
     ]
    },
    {
     "name": "stderr",
     "output_type": "stream",
     "text": [
      "C:\\Users\\vadim.kopytko\\AppData\\Roaming\\Python\\Python310\\site-packages\\sklearn\\base.py:1152: DataConversionWarning: A column-vector y was passed when a 1d array was expected. Please change the shape of y to (n_samples,), for example using ravel().\n",
      "  return fit_method(estimator, *args, **kwargs)\n"
     ]
    },
    {
     "name": "stdout",
     "output_type": "stream",
     "text": [
      "[CV 3/3] END max_depth=10, max_features=4, min_samples_leaf=11;, score=0.813 total time=   1.5s\n"
     ]
    },
    {
     "name": "stderr",
     "output_type": "stream",
     "text": [
      "C:\\Users\\vadim.kopytko\\AppData\\Roaming\\Python\\Python310\\site-packages\\sklearn\\base.py:1152: DataConversionWarning: A column-vector y was passed when a 1d array was expected. Please change the shape of y to (n_samples,), for example using ravel().\n",
      "  return fit_method(estimator, *args, **kwargs)\n"
     ]
    },
    {
     "name": "stdout",
     "output_type": "stream",
     "text": [
      "[CV 1/3] END max_depth=10, max_features=5, min_samples_leaf=3;, score=0.819 total time=   1.8s\n"
     ]
    },
    {
     "name": "stderr",
     "output_type": "stream",
     "text": [
      "C:\\Users\\vadim.kopytko\\AppData\\Roaming\\Python\\Python310\\site-packages\\sklearn\\base.py:1152: DataConversionWarning: A column-vector y was passed when a 1d array was expected. Please change the shape of y to (n_samples,), for example using ravel().\n",
      "  return fit_method(estimator, *args, **kwargs)\n"
     ]
    },
    {
     "name": "stdout",
     "output_type": "stream",
     "text": [
      "[CV 2/3] END max_depth=10, max_features=5, min_samples_leaf=3;, score=0.826 total time=   1.9s\n"
     ]
    },
    {
     "name": "stderr",
     "output_type": "stream",
     "text": [
      "C:\\Users\\vadim.kopytko\\AppData\\Roaming\\Python\\Python310\\site-packages\\sklearn\\base.py:1152: DataConversionWarning: A column-vector y was passed when a 1d array was expected. Please change the shape of y to (n_samples,), for example using ravel().\n",
      "  return fit_method(estimator, *args, **kwargs)\n"
     ]
    },
    {
     "name": "stdout",
     "output_type": "stream",
     "text": [
      "[CV 3/3] END max_depth=10, max_features=5, min_samples_leaf=3;, score=0.820 total time=   1.8s\n"
     ]
    },
    {
     "name": "stderr",
     "output_type": "stream",
     "text": [
      "C:\\Users\\vadim.kopytko\\AppData\\Roaming\\Python\\Python310\\site-packages\\sklearn\\base.py:1152: DataConversionWarning: A column-vector y was passed when a 1d array was expected. Please change the shape of y to (n_samples,), for example using ravel().\n",
      "  return fit_method(estimator, *args, **kwargs)\n"
     ]
    },
    {
     "name": "stdout",
     "output_type": "stream",
     "text": [
      "[CV 1/3] END max_depth=10, max_features=5, min_samples_leaf=5;, score=0.821 total time=   1.9s\n"
     ]
    },
    {
     "name": "stderr",
     "output_type": "stream",
     "text": [
      "C:\\Users\\vadim.kopytko\\AppData\\Roaming\\Python\\Python310\\site-packages\\sklearn\\base.py:1152: DataConversionWarning: A column-vector y was passed when a 1d array was expected. Please change the shape of y to (n_samples,), for example using ravel().\n",
      "  return fit_method(estimator, *args, **kwargs)\n"
     ]
    },
    {
     "name": "stdout",
     "output_type": "stream",
     "text": [
      "[CV 2/3] END max_depth=10, max_features=5, min_samples_leaf=5;, score=0.826 total time=   1.9s\n"
     ]
    },
    {
     "name": "stderr",
     "output_type": "stream",
     "text": [
      "C:\\Users\\vadim.kopytko\\AppData\\Roaming\\Python\\Python310\\site-packages\\sklearn\\base.py:1152: DataConversionWarning: A column-vector y was passed when a 1d array was expected. Please change the shape of y to (n_samples,), for example using ravel().\n",
      "  return fit_method(estimator, *args, **kwargs)\n"
     ]
    },
    {
     "name": "stdout",
     "output_type": "stream",
     "text": [
      "[CV 3/3] END max_depth=10, max_features=5, min_samples_leaf=5;, score=0.820 total time=   1.9s\n"
     ]
    },
    {
     "name": "stderr",
     "output_type": "stream",
     "text": [
      "C:\\Users\\vadim.kopytko\\AppData\\Roaming\\Python\\Python310\\site-packages\\sklearn\\base.py:1152: DataConversionWarning: A column-vector y was passed when a 1d array was expected. Please change the shape of y to (n_samples,), for example using ravel().\n",
      "  return fit_method(estimator, *args, **kwargs)\n"
     ]
    },
    {
     "name": "stdout",
     "output_type": "stream",
     "text": [
      "[CV 1/3] END max_depth=10, max_features=5, min_samples_leaf=7;, score=0.820 total time=   1.8s\n"
     ]
    },
    {
     "name": "stderr",
     "output_type": "stream",
     "text": [
      "C:\\Users\\vadim.kopytko\\AppData\\Roaming\\Python\\Python310\\site-packages\\sklearn\\base.py:1152: DataConversionWarning: A column-vector y was passed when a 1d array was expected. Please change the shape of y to (n_samples,), for example using ravel().\n",
      "  return fit_method(estimator, *args, **kwargs)\n"
     ]
    },
    {
     "name": "stdout",
     "output_type": "stream",
     "text": [
      "[CV 2/3] END max_depth=10, max_features=5, min_samples_leaf=7;, score=0.819 total time=   1.8s\n"
     ]
    },
    {
     "name": "stderr",
     "output_type": "stream",
     "text": [
      "C:\\Users\\vadim.kopytko\\AppData\\Roaming\\Python\\Python310\\site-packages\\sklearn\\base.py:1152: DataConversionWarning: A column-vector y was passed when a 1d array was expected. Please change the shape of y to (n_samples,), for example using ravel().\n",
      "  return fit_method(estimator, *args, **kwargs)\n"
     ]
    },
    {
     "name": "stdout",
     "output_type": "stream",
     "text": [
      "[CV 3/3] END max_depth=10, max_features=5, min_samples_leaf=7;, score=0.820 total time=   1.8s\n"
     ]
    },
    {
     "name": "stderr",
     "output_type": "stream",
     "text": [
      "C:\\Users\\vadim.kopytko\\AppData\\Roaming\\Python\\Python310\\site-packages\\sklearn\\base.py:1152: DataConversionWarning: A column-vector y was passed when a 1d array was expected. Please change the shape of y to (n_samples,), for example using ravel().\n",
      "  return fit_method(estimator, *args, **kwargs)\n"
     ]
    },
    {
     "name": "stdout",
     "output_type": "stream",
     "text": [
      "[CV 1/3] END max_depth=10, max_features=5, min_samples_leaf=9;, score=0.819 total time=   1.8s\n"
     ]
    },
    {
     "name": "stderr",
     "output_type": "stream",
     "text": [
      "C:\\Users\\vadim.kopytko\\AppData\\Roaming\\Python\\Python310\\site-packages\\sklearn\\base.py:1152: DataConversionWarning: A column-vector y was passed when a 1d array was expected. Please change the shape of y to (n_samples,), for example using ravel().\n",
      "  return fit_method(estimator, *args, **kwargs)\n"
     ]
    },
    {
     "name": "stdout",
     "output_type": "stream",
     "text": [
      "[CV 2/3] END max_depth=10, max_features=5, min_samples_leaf=9;, score=0.824 total time=   2.1s\n"
     ]
    },
    {
     "name": "stderr",
     "output_type": "stream",
     "text": [
      "C:\\Users\\vadim.kopytko\\AppData\\Roaming\\Python\\Python310\\site-packages\\sklearn\\base.py:1152: DataConversionWarning: A column-vector y was passed when a 1d array was expected. Please change the shape of y to (n_samples,), for example using ravel().\n",
      "  return fit_method(estimator, *args, **kwargs)\n"
     ]
    },
    {
     "name": "stdout",
     "output_type": "stream",
     "text": [
      "[CV 3/3] END max_depth=10, max_features=5, min_samples_leaf=9;, score=0.816 total time=   2.0s\n"
     ]
    },
    {
     "name": "stderr",
     "output_type": "stream",
     "text": [
      "C:\\Users\\vadim.kopytko\\AppData\\Roaming\\Python\\Python310\\site-packages\\sklearn\\base.py:1152: DataConversionWarning: A column-vector y was passed when a 1d array was expected. Please change the shape of y to (n_samples,), for example using ravel().\n",
      "  return fit_method(estimator, *args, **kwargs)\n"
     ]
    },
    {
     "name": "stdout",
     "output_type": "stream",
     "text": [
      "[CV 1/3] END max_depth=10, max_features=5, min_samples_leaf=11;, score=0.822 total time=   1.9s\n"
     ]
    },
    {
     "name": "stderr",
     "output_type": "stream",
     "text": [
      "C:\\Users\\vadim.kopytko\\AppData\\Roaming\\Python\\Python310\\site-packages\\sklearn\\base.py:1152: DataConversionWarning: A column-vector y was passed when a 1d array was expected. Please change the shape of y to (n_samples,), for example using ravel().\n",
      "  return fit_method(estimator, *args, **kwargs)\n"
     ]
    },
    {
     "name": "stdout",
     "output_type": "stream",
     "text": [
      "[CV 2/3] END max_depth=10, max_features=5, min_samples_leaf=11;, score=0.826 total time=   1.9s\n"
     ]
    },
    {
     "name": "stderr",
     "output_type": "stream",
     "text": [
      "C:\\Users\\vadim.kopytko\\AppData\\Roaming\\Python\\Python310\\site-packages\\sklearn\\base.py:1152: DataConversionWarning: A column-vector y was passed when a 1d array was expected. Please change the shape of y to (n_samples,), for example using ravel().\n",
      "  return fit_method(estimator, *args, **kwargs)\n"
     ]
    },
    {
     "name": "stdout",
     "output_type": "stream",
     "text": [
      "[CV 3/3] END max_depth=10, max_features=5, min_samples_leaf=11;, score=0.817 total time=   1.9s\n"
     ]
    },
    {
     "name": "stderr",
     "output_type": "stream",
     "text": [
      "C:\\Users\\vadim.kopytko\\AppData\\Roaming\\Python\\Python310\\site-packages\\sklearn\\base.py:1152: DataConversionWarning: A column-vector y was passed when a 1d array was expected. Please change the shape of y to (n_samples,), for example using ravel().\n",
      "  return fit_method(estimator, *args, **kwargs)\n"
     ]
    },
    {
     "name": "stdout",
     "output_type": "stream",
     "text": [
      "[CV 1/3] END max_depth=10, max_features=6, min_samples_leaf=3;, score=0.832 total time=   2.4s\n"
     ]
    },
    {
     "name": "stderr",
     "output_type": "stream",
     "text": [
      "C:\\Users\\vadim.kopytko\\AppData\\Roaming\\Python\\Python310\\site-packages\\sklearn\\base.py:1152: DataConversionWarning: A column-vector y was passed when a 1d array was expected. Please change the shape of y to (n_samples,), for example using ravel().\n",
      "  return fit_method(estimator, *args, **kwargs)\n"
     ]
    },
    {
     "name": "stdout",
     "output_type": "stream",
     "text": [
      "[CV 2/3] END max_depth=10, max_features=6, min_samples_leaf=3;, score=0.834 total time=   3.7s\n"
     ]
    },
    {
     "name": "stderr",
     "output_type": "stream",
     "text": [
      "C:\\Users\\vadim.kopytko\\AppData\\Roaming\\Python\\Python310\\site-packages\\sklearn\\base.py:1152: DataConversionWarning: A column-vector y was passed when a 1d array was expected. Please change the shape of y to (n_samples,), for example using ravel().\n",
      "  return fit_method(estimator, *args, **kwargs)\n"
     ]
    },
    {
     "name": "stdout",
     "output_type": "stream",
     "text": [
      "[CV 3/3] END max_depth=10, max_features=6, min_samples_leaf=3;, score=0.830 total time=   3.4s\n"
     ]
    },
    {
     "name": "stderr",
     "output_type": "stream",
     "text": [
      "C:\\Users\\vadim.kopytko\\AppData\\Roaming\\Python\\Python310\\site-packages\\sklearn\\base.py:1152: DataConversionWarning: A column-vector y was passed when a 1d array was expected. Please change the shape of y to (n_samples,), for example using ravel().\n",
      "  return fit_method(estimator, *args, **kwargs)\n"
     ]
    },
    {
     "name": "stdout",
     "output_type": "stream",
     "text": [
      "[CV 1/3] END max_depth=10, max_features=6, min_samples_leaf=5;, score=0.829 total time=   3.2s\n"
     ]
    },
    {
     "name": "stderr",
     "output_type": "stream",
     "text": [
      "C:\\Users\\vadim.kopytko\\AppData\\Roaming\\Python\\Python310\\site-packages\\sklearn\\base.py:1152: DataConversionWarning: A column-vector y was passed when a 1d array was expected. Please change the shape of y to (n_samples,), for example using ravel().\n",
      "  return fit_method(estimator, *args, **kwargs)\n"
     ]
    },
    {
     "name": "stdout",
     "output_type": "stream",
     "text": [
      "[CV 2/3] END max_depth=10, max_features=6, min_samples_leaf=5;, score=0.835 total time=   3.2s\n"
     ]
    },
    {
     "name": "stderr",
     "output_type": "stream",
     "text": [
      "C:\\Users\\vadim.kopytko\\AppData\\Roaming\\Python\\Python310\\site-packages\\sklearn\\base.py:1152: DataConversionWarning: A column-vector y was passed when a 1d array was expected. Please change the shape of y to (n_samples,), for example using ravel().\n",
      "  return fit_method(estimator, *args, **kwargs)\n"
     ]
    },
    {
     "name": "stdout",
     "output_type": "stream",
     "text": [
      "[CV 3/3] END max_depth=10, max_features=6, min_samples_leaf=5;, score=0.828 total time=   2.4s\n"
     ]
    },
    {
     "name": "stderr",
     "output_type": "stream",
     "text": [
      "C:\\Users\\vadim.kopytko\\AppData\\Roaming\\Python\\Python310\\site-packages\\sklearn\\base.py:1152: DataConversionWarning: A column-vector y was passed when a 1d array was expected. Please change the shape of y to (n_samples,), for example using ravel().\n",
      "  return fit_method(estimator, *args, **kwargs)\n"
     ]
    },
    {
     "name": "stdout",
     "output_type": "stream",
     "text": [
      "[CV 1/3] END max_depth=10, max_features=6, min_samples_leaf=7;, score=0.831 total time=   2.2s\n"
     ]
    },
    {
     "name": "stderr",
     "output_type": "stream",
     "text": [
      "C:\\Users\\vadim.kopytko\\AppData\\Roaming\\Python\\Python310\\site-packages\\sklearn\\base.py:1152: DataConversionWarning: A column-vector y was passed when a 1d array was expected. Please change the shape of y to (n_samples,), for example using ravel().\n",
      "  return fit_method(estimator, *args, **kwargs)\n"
     ]
    },
    {
     "name": "stdout",
     "output_type": "stream",
     "text": [
      "[CV 2/3] END max_depth=10, max_features=6, min_samples_leaf=7;, score=0.835 total time=   2.1s\n"
     ]
    },
    {
     "name": "stderr",
     "output_type": "stream",
     "text": [
      "C:\\Users\\vadim.kopytko\\AppData\\Roaming\\Python\\Python310\\site-packages\\sklearn\\base.py:1152: DataConversionWarning: A column-vector y was passed when a 1d array was expected. Please change the shape of y to (n_samples,), for example using ravel().\n",
      "  return fit_method(estimator, *args, **kwargs)\n"
     ]
    },
    {
     "name": "stdout",
     "output_type": "stream",
     "text": [
      "[CV 3/3] END max_depth=10, max_features=6, min_samples_leaf=7;, score=0.831 total time=   2.1s\n"
     ]
    },
    {
     "name": "stderr",
     "output_type": "stream",
     "text": [
      "C:\\Users\\vadim.kopytko\\AppData\\Roaming\\Python\\Python310\\site-packages\\sklearn\\base.py:1152: DataConversionWarning: A column-vector y was passed when a 1d array was expected. Please change the shape of y to (n_samples,), for example using ravel().\n",
      "  return fit_method(estimator, *args, **kwargs)\n"
     ]
    },
    {
     "name": "stdout",
     "output_type": "stream",
     "text": [
      "[CV 1/3] END max_depth=10, max_features=6, min_samples_leaf=9;, score=0.830 total time=   2.1s\n"
     ]
    },
    {
     "name": "stderr",
     "output_type": "stream",
     "text": [
      "C:\\Users\\vadim.kopytko\\AppData\\Roaming\\Python\\Python310\\site-packages\\sklearn\\base.py:1152: DataConversionWarning: A column-vector y was passed when a 1d array was expected. Please change the shape of y to (n_samples,), for example using ravel().\n",
      "  return fit_method(estimator, *args, **kwargs)\n"
     ]
    },
    {
     "name": "stdout",
     "output_type": "stream",
     "text": [
      "[CV 2/3] END max_depth=10, max_features=6, min_samples_leaf=9;, score=0.835 total time=   2.4s\n"
     ]
    },
    {
     "name": "stderr",
     "output_type": "stream",
     "text": [
      "C:\\Users\\vadim.kopytko\\AppData\\Roaming\\Python\\Python310\\site-packages\\sklearn\\base.py:1152: DataConversionWarning: A column-vector y was passed when a 1d array was expected. Please change the shape of y to (n_samples,), for example using ravel().\n",
      "  return fit_method(estimator, *args, **kwargs)\n"
     ]
    },
    {
     "name": "stdout",
     "output_type": "stream",
     "text": [
      "[CV 3/3] END max_depth=10, max_features=6, min_samples_leaf=9;, score=0.831 total time=   2.1s\n"
     ]
    },
    {
     "name": "stderr",
     "output_type": "stream",
     "text": [
      "C:\\Users\\vadim.kopytko\\AppData\\Roaming\\Python\\Python310\\site-packages\\sklearn\\base.py:1152: DataConversionWarning: A column-vector y was passed when a 1d array was expected. Please change the shape of y to (n_samples,), for example using ravel().\n",
      "  return fit_method(estimator, *args, **kwargs)\n"
     ]
    },
    {
     "name": "stdout",
     "output_type": "stream",
     "text": [
      "[CV 1/3] END max_depth=10, max_features=6, min_samples_leaf=11;, score=0.831 total time=   2.1s\n"
     ]
    },
    {
     "name": "stderr",
     "output_type": "stream",
     "text": [
      "C:\\Users\\vadim.kopytko\\AppData\\Roaming\\Python\\Python310\\site-packages\\sklearn\\base.py:1152: DataConversionWarning: A column-vector y was passed when a 1d array was expected. Please change the shape of y to (n_samples,), for example using ravel().\n",
      "  return fit_method(estimator, *args, **kwargs)\n"
     ]
    },
    {
     "name": "stdout",
     "output_type": "stream",
     "text": [
      "[CV 2/3] END max_depth=10, max_features=6, min_samples_leaf=11;, score=0.835 total time=   2.3s\n"
     ]
    },
    {
     "name": "stderr",
     "output_type": "stream",
     "text": [
      "C:\\Users\\vadim.kopytko\\AppData\\Roaming\\Python\\Python310\\site-packages\\sklearn\\base.py:1152: DataConversionWarning: A column-vector y was passed when a 1d array was expected. Please change the shape of y to (n_samples,), for example using ravel().\n",
      "  return fit_method(estimator, *args, **kwargs)\n"
     ]
    },
    {
     "name": "stdout",
     "output_type": "stream",
     "text": [
      "[CV 3/3] END max_depth=10, max_features=6, min_samples_leaf=11;, score=0.827 total time=   2.2s\n"
     ]
    },
    {
     "name": "stderr",
     "output_type": "stream",
     "text": [
      "C:\\Users\\vadim.kopytko\\AppData\\Roaming\\Python\\Python310\\site-packages\\sklearn\\base.py:1152: DataConversionWarning: A column-vector y was passed when a 1d array was expected. Please change the shape of y to (n_samples,), for example using ravel().\n",
      "  return fit_method(estimator, *args, **kwargs)\n"
     ]
    },
    {
     "name": "stdout",
     "output_type": "stream",
     "text": [
      "[CV 1/3] END max_depth=10, max_features=7, min_samples_leaf=3;, score=0.833 total time=   2.5s\n"
     ]
    },
    {
     "name": "stderr",
     "output_type": "stream",
     "text": [
      "C:\\Users\\vadim.kopytko\\AppData\\Roaming\\Python\\Python310\\site-packages\\sklearn\\base.py:1152: DataConversionWarning: A column-vector y was passed when a 1d array was expected. Please change the shape of y to (n_samples,), for example using ravel().\n",
      "  return fit_method(estimator, *args, **kwargs)\n"
     ]
    },
    {
     "name": "stdout",
     "output_type": "stream",
     "text": [
      "[CV 2/3] END max_depth=10, max_features=7, min_samples_leaf=3;, score=0.839 total time=   2.5s\n"
     ]
    },
    {
     "name": "stderr",
     "output_type": "stream",
     "text": [
      "C:\\Users\\vadim.kopytko\\AppData\\Roaming\\Python\\Python310\\site-packages\\sklearn\\base.py:1152: DataConversionWarning: A column-vector y was passed when a 1d array was expected. Please change the shape of y to (n_samples,), for example using ravel().\n",
      "  return fit_method(estimator, *args, **kwargs)\n"
     ]
    },
    {
     "name": "stdout",
     "output_type": "stream",
     "text": [
      "[CV 3/3] END max_depth=10, max_features=7, min_samples_leaf=3;, score=0.831 total time=   2.5s\n"
     ]
    },
    {
     "name": "stderr",
     "output_type": "stream",
     "text": [
      "C:\\Users\\vadim.kopytko\\AppData\\Roaming\\Python\\Python310\\site-packages\\sklearn\\base.py:1152: DataConversionWarning: A column-vector y was passed when a 1d array was expected. Please change the shape of y to (n_samples,), for example using ravel().\n",
      "  return fit_method(estimator, *args, **kwargs)\n"
     ]
    },
    {
     "name": "stdout",
     "output_type": "stream",
     "text": [
      "[CV 1/3] END max_depth=10, max_features=7, min_samples_leaf=5;, score=0.834 total time=   2.5s\n"
     ]
    },
    {
     "name": "stderr",
     "output_type": "stream",
     "text": [
      "C:\\Users\\vadim.kopytko\\AppData\\Roaming\\Python\\Python310\\site-packages\\sklearn\\base.py:1152: DataConversionWarning: A column-vector y was passed when a 1d array was expected. Please change the shape of y to (n_samples,), for example using ravel().\n",
      "  return fit_method(estimator, *args, **kwargs)\n"
     ]
    },
    {
     "name": "stdout",
     "output_type": "stream",
     "text": [
      "[CV 2/3] END max_depth=10, max_features=7, min_samples_leaf=5;, score=0.838 total time=   3.7s\n"
     ]
    },
    {
     "name": "stderr",
     "output_type": "stream",
     "text": [
      "C:\\Users\\vadim.kopytko\\AppData\\Roaming\\Python\\Python310\\site-packages\\sklearn\\base.py:1152: DataConversionWarning: A column-vector y was passed when a 1d array was expected. Please change the shape of y to (n_samples,), for example using ravel().\n",
      "  return fit_method(estimator, *args, **kwargs)\n"
     ]
    },
    {
     "name": "stdout",
     "output_type": "stream",
     "text": [
      "[CV 3/3] END max_depth=10, max_features=7, min_samples_leaf=5;, score=0.832 total time=   3.9s\n"
     ]
    },
    {
     "name": "stderr",
     "output_type": "stream",
     "text": [
      "C:\\Users\\vadim.kopytko\\AppData\\Roaming\\Python\\Python310\\site-packages\\sklearn\\base.py:1152: DataConversionWarning: A column-vector y was passed when a 1d array was expected. Please change the shape of y to (n_samples,), for example using ravel().\n",
      "  return fit_method(estimator, *args, **kwargs)\n"
     ]
    },
    {
     "name": "stdout",
     "output_type": "stream",
     "text": [
      "[CV 1/3] END max_depth=10, max_features=7, min_samples_leaf=7;, score=0.831 total time=   3.9s\n"
     ]
    },
    {
     "name": "stderr",
     "output_type": "stream",
     "text": [
      "C:\\Users\\vadim.kopytko\\AppData\\Roaming\\Python\\Python310\\site-packages\\sklearn\\base.py:1152: DataConversionWarning: A column-vector y was passed when a 1d array was expected. Please change the shape of y to (n_samples,), for example using ravel().\n",
      "  return fit_method(estimator, *args, **kwargs)\n"
     ]
    },
    {
     "name": "stdout",
     "output_type": "stream",
     "text": [
      "[CV 2/3] END max_depth=10, max_features=7, min_samples_leaf=7;, score=0.838 total time=   3.7s\n"
     ]
    },
    {
     "name": "stderr",
     "output_type": "stream",
     "text": [
      "C:\\Users\\vadim.kopytko\\AppData\\Roaming\\Python\\Python310\\site-packages\\sklearn\\base.py:1152: DataConversionWarning: A column-vector y was passed when a 1d array was expected. Please change the shape of y to (n_samples,), for example using ravel().\n",
      "  return fit_method(estimator, *args, **kwargs)\n"
     ]
    },
    {
     "name": "stdout",
     "output_type": "stream",
     "text": [
      "[CV 3/3] END max_depth=10, max_features=7, min_samples_leaf=7;, score=0.829 total time=   3.8s\n"
     ]
    },
    {
     "name": "stderr",
     "output_type": "stream",
     "text": [
      "C:\\Users\\vadim.kopytko\\AppData\\Roaming\\Python\\Python310\\site-packages\\sklearn\\base.py:1152: DataConversionWarning: A column-vector y was passed when a 1d array was expected. Please change the shape of y to (n_samples,), for example using ravel().\n",
      "  return fit_method(estimator, *args, **kwargs)\n"
     ]
    },
    {
     "name": "stdout",
     "output_type": "stream",
     "text": [
      "[CV 1/3] END max_depth=10, max_features=7, min_samples_leaf=9;, score=0.833 total time=   4.0s\n"
     ]
    },
    {
     "name": "stderr",
     "output_type": "stream",
     "text": [
      "C:\\Users\\vadim.kopytko\\AppData\\Roaming\\Python\\Python310\\site-packages\\sklearn\\base.py:1152: DataConversionWarning: A column-vector y was passed when a 1d array was expected. Please change the shape of y to (n_samples,), for example using ravel().\n",
      "  return fit_method(estimator, *args, **kwargs)\n"
     ]
    },
    {
     "name": "stdout",
     "output_type": "stream",
     "text": [
      "[CV 2/3] END max_depth=10, max_features=7, min_samples_leaf=9;, score=0.838 total time=   4.1s\n"
     ]
    },
    {
     "name": "stderr",
     "output_type": "stream",
     "text": [
      "C:\\Users\\vadim.kopytko\\AppData\\Roaming\\Python\\Python310\\site-packages\\sklearn\\base.py:1152: DataConversionWarning: A column-vector y was passed when a 1d array was expected. Please change the shape of y to (n_samples,), for example using ravel().\n",
      "  return fit_method(estimator, *args, **kwargs)\n"
     ]
    },
    {
     "name": "stdout",
     "output_type": "stream",
     "text": [
      "[CV 3/3] END max_depth=10, max_features=7, min_samples_leaf=9;, score=0.831 total time=   3.8s\n"
     ]
    },
    {
     "name": "stderr",
     "output_type": "stream",
     "text": [
      "C:\\Users\\vadim.kopytko\\AppData\\Roaming\\Python\\Python310\\site-packages\\sklearn\\base.py:1152: DataConversionWarning: A column-vector y was passed when a 1d array was expected. Please change the shape of y to (n_samples,), for example using ravel().\n",
      "  return fit_method(estimator, *args, **kwargs)\n"
     ]
    },
    {
     "name": "stdout",
     "output_type": "stream",
     "text": [
      "[CV 1/3] END max_depth=10, max_features=7, min_samples_leaf=11;, score=0.834 total time=   3.7s\n"
     ]
    },
    {
     "name": "stderr",
     "output_type": "stream",
     "text": [
      "C:\\Users\\vadim.kopytko\\AppData\\Roaming\\Python\\Python310\\site-packages\\sklearn\\base.py:1152: DataConversionWarning: A column-vector y was passed when a 1d array was expected. Please change the shape of y to (n_samples,), for example using ravel().\n",
      "  return fit_method(estimator, *args, **kwargs)\n"
     ]
    },
    {
     "name": "stdout",
     "output_type": "stream",
     "text": [
      "[CV 2/3] END max_depth=10, max_features=7, min_samples_leaf=11;, score=0.837 total time=   4.1s\n"
     ]
    },
    {
     "name": "stderr",
     "output_type": "stream",
     "text": [
      "C:\\Users\\vadim.kopytko\\AppData\\Roaming\\Python\\Python310\\site-packages\\sklearn\\base.py:1152: DataConversionWarning: A column-vector y was passed when a 1d array was expected. Please change the shape of y to (n_samples,), for example using ravel().\n",
      "  return fit_method(estimator, *args, **kwargs)\n"
     ]
    },
    {
     "name": "stdout",
     "output_type": "stream",
     "text": [
      "[CV 3/3] END max_depth=10, max_features=7, min_samples_leaf=11;, score=0.828 total time=   4.2s\n"
     ]
    },
    {
     "name": "stderr",
     "output_type": "stream",
     "text": [
      "C:\\Users\\vadim.kopytko\\AppData\\Roaming\\Python\\Python310\\site-packages\\sklearn\\base.py:1152: DataConversionWarning: A column-vector y was passed when a 1d array was expected. Please change the shape of y to (n_samples,), for example using ravel().\n",
      "  return fit_method(estimator, *args, **kwargs)\n"
     ]
    },
    {
     "name": "stdout",
     "output_type": "stream",
     "text": [
      "[CV 1/3] END max_depth=15, max_features=4, min_samples_leaf=3;, score=0.829 total time=   4.5s\n"
     ]
    },
    {
     "name": "stderr",
     "output_type": "stream",
     "text": [
      "C:\\Users\\vadim.kopytko\\AppData\\Roaming\\Python\\Python310\\site-packages\\sklearn\\base.py:1152: DataConversionWarning: A column-vector y was passed when a 1d array was expected. Please change the shape of y to (n_samples,), for example using ravel().\n",
      "  return fit_method(estimator, *args, **kwargs)\n"
     ]
    },
    {
     "name": "stdout",
     "output_type": "stream",
     "text": [
      "[CV 2/3] END max_depth=15, max_features=4, min_samples_leaf=3;, score=0.836 total time=   4.1s\n"
     ]
    },
    {
     "name": "stderr",
     "output_type": "stream",
     "text": [
      "C:\\Users\\vadim.kopytko\\AppData\\Roaming\\Python\\Python310\\site-packages\\sklearn\\base.py:1152: DataConversionWarning: A column-vector y was passed when a 1d array was expected. Please change the shape of y to (n_samples,), for example using ravel().\n",
      "  return fit_method(estimator, *args, **kwargs)\n"
     ]
    },
    {
     "name": "stdout",
     "output_type": "stream",
     "text": [
      "[CV 3/3] END max_depth=15, max_features=4, min_samples_leaf=3;, score=0.829 total time=   4.4s\n"
     ]
    },
    {
     "name": "stderr",
     "output_type": "stream",
     "text": [
      "C:\\Users\\vadim.kopytko\\AppData\\Roaming\\Python\\Python310\\site-packages\\sklearn\\base.py:1152: DataConversionWarning: A column-vector y was passed when a 1d array was expected. Please change the shape of y to (n_samples,), for example using ravel().\n",
      "  return fit_method(estimator, *args, **kwargs)\n"
     ]
    },
    {
     "name": "stdout",
     "output_type": "stream",
     "text": [
      "[CV 1/3] END max_depth=15, max_features=4, min_samples_leaf=5;, score=0.828 total time=   4.5s\n"
     ]
    },
    {
     "name": "stderr",
     "output_type": "stream",
     "text": [
      "C:\\Users\\vadim.kopytko\\AppData\\Roaming\\Python\\Python310\\site-packages\\sklearn\\base.py:1152: DataConversionWarning: A column-vector y was passed when a 1d array was expected. Please change the shape of y to (n_samples,), for example using ravel().\n",
      "  return fit_method(estimator, *args, **kwargs)\n"
     ]
    },
    {
     "name": "stdout",
     "output_type": "stream",
     "text": [
      "[CV 2/3] END max_depth=15, max_features=4, min_samples_leaf=5;, score=0.834 total time=   4.0s\n"
     ]
    },
    {
     "name": "stderr",
     "output_type": "stream",
     "text": [
      "C:\\Users\\vadim.kopytko\\AppData\\Roaming\\Python\\Python310\\site-packages\\sklearn\\base.py:1152: DataConversionWarning: A column-vector y was passed when a 1d array was expected. Please change the shape of y to (n_samples,), for example using ravel().\n",
      "  return fit_method(estimator, *args, **kwargs)\n"
     ]
    },
    {
     "name": "stdout",
     "output_type": "stream",
     "text": [
      "[CV 3/3] END max_depth=15, max_features=4, min_samples_leaf=5;, score=0.829 total time=   3.7s\n"
     ]
    },
    {
     "name": "stderr",
     "output_type": "stream",
     "text": [
      "C:\\Users\\vadim.kopytko\\AppData\\Roaming\\Python\\Python310\\site-packages\\sklearn\\base.py:1152: DataConversionWarning: A column-vector y was passed when a 1d array was expected. Please change the shape of y to (n_samples,), for example using ravel().\n",
      "  return fit_method(estimator, *args, **kwargs)\n"
     ]
    },
    {
     "name": "stdout",
     "output_type": "stream",
     "text": [
      "[CV 1/3] END max_depth=15, max_features=4, min_samples_leaf=7;, score=0.828 total time=   3.6s\n"
     ]
    },
    {
     "name": "stderr",
     "output_type": "stream",
     "text": [
      "C:\\Users\\vadim.kopytko\\AppData\\Roaming\\Python\\Python310\\site-packages\\sklearn\\base.py:1152: DataConversionWarning: A column-vector y was passed when a 1d array was expected. Please change the shape of y to (n_samples,), for example using ravel().\n",
      "  return fit_method(estimator, *args, **kwargs)\n"
     ]
    },
    {
     "name": "stdout",
     "output_type": "stream",
     "text": [
      "[CV 2/3] END max_depth=15, max_features=4, min_samples_leaf=7;, score=0.832 total time=   3.8s\n"
     ]
    },
    {
     "name": "stderr",
     "output_type": "stream",
     "text": [
      "C:\\Users\\vadim.kopytko\\AppData\\Roaming\\Python\\Python310\\site-packages\\sklearn\\base.py:1152: DataConversionWarning: A column-vector y was passed when a 1d array was expected. Please change the shape of y to (n_samples,), for example using ravel().\n",
      "  return fit_method(estimator, *args, **kwargs)\n"
     ]
    },
    {
     "name": "stdout",
     "output_type": "stream",
     "text": [
      "[CV 3/3] END max_depth=15, max_features=4, min_samples_leaf=7;, score=0.827 total time=   3.8s\n"
     ]
    },
    {
     "name": "stderr",
     "output_type": "stream",
     "text": [
      "C:\\Users\\vadim.kopytko\\AppData\\Roaming\\Python\\Python310\\site-packages\\sklearn\\base.py:1152: DataConversionWarning: A column-vector y was passed when a 1d array was expected. Please change the shape of y to (n_samples,), for example using ravel().\n",
      "  return fit_method(estimator, *args, **kwargs)\n"
     ]
    },
    {
     "name": "stdout",
     "output_type": "stream",
     "text": [
      "[CV 1/3] END max_depth=15, max_features=4, min_samples_leaf=9;, score=0.825 total time=   2.6s\n"
     ]
    },
    {
     "name": "stderr",
     "output_type": "stream",
     "text": [
      "C:\\Users\\vadim.kopytko\\AppData\\Roaming\\Python\\Python310\\site-packages\\sklearn\\base.py:1152: DataConversionWarning: A column-vector y was passed when a 1d array was expected. Please change the shape of y to (n_samples,), for example using ravel().\n",
      "  return fit_method(estimator, *args, **kwargs)\n"
     ]
    },
    {
     "name": "stdout",
     "output_type": "stream",
     "text": [
      "[CV 2/3] END max_depth=15, max_features=4, min_samples_leaf=9;, score=0.832 total time=   2.8s\n"
     ]
    },
    {
     "name": "stderr",
     "output_type": "stream",
     "text": [
      "C:\\Users\\vadim.kopytko\\AppData\\Roaming\\Python\\Python310\\site-packages\\sklearn\\base.py:1152: DataConversionWarning: A column-vector y was passed when a 1d array was expected. Please change the shape of y to (n_samples,), for example using ravel().\n",
      "  return fit_method(estimator, *args, **kwargs)\n"
     ]
    },
    {
     "name": "stdout",
     "output_type": "stream",
     "text": [
      "[CV 3/3] END max_depth=15, max_features=4, min_samples_leaf=9;, score=0.824 total time=   2.6s\n"
     ]
    },
    {
     "name": "stderr",
     "output_type": "stream",
     "text": [
      "C:\\Users\\vadim.kopytko\\AppData\\Roaming\\Python\\Python310\\site-packages\\sklearn\\base.py:1152: DataConversionWarning: A column-vector y was passed when a 1d array was expected. Please change the shape of y to (n_samples,), for example using ravel().\n",
      "  return fit_method(estimator, *args, **kwargs)\n"
     ]
    },
    {
     "name": "stdout",
     "output_type": "stream",
     "text": [
      "[CV 1/3] END max_depth=15, max_features=4, min_samples_leaf=11;, score=0.826 total time=   2.6s\n"
     ]
    },
    {
     "name": "stderr",
     "output_type": "stream",
     "text": [
      "C:\\Users\\vadim.kopytko\\AppData\\Roaming\\Python\\Python310\\site-packages\\sklearn\\base.py:1152: DataConversionWarning: A column-vector y was passed when a 1d array was expected. Please change the shape of y to (n_samples,), for example using ravel().\n",
      "  return fit_method(estimator, *args, **kwargs)\n"
     ]
    },
    {
     "name": "stdout",
     "output_type": "stream",
     "text": [
      "[CV 2/3] END max_depth=15, max_features=4, min_samples_leaf=11;, score=0.831 total time=   2.5s\n"
     ]
    },
    {
     "name": "stderr",
     "output_type": "stream",
     "text": [
      "C:\\Users\\vadim.kopytko\\AppData\\Roaming\\Python\\Python310\\site-packages\\sklearn\\base.py:1152: DataConversionWarning: A column-vector y was passed when a 1d array was expected. Please change the shape of y to (n_samples,), for example using ravel().\n",
      "  return fit_method(estimator, *args, **kwargs)\n"
     ]
    },
    {
     "name": "stdout",
     "output_type": "stream",
     "text": [
      "[CV 3/3] END max_depth=15, max_features=4, min_samples_leaf=11;, score=0.824 total time=   2.9s\n"
     ]
    },
    {
     "name": "stderr",
     "output_type": "stream",
     "text": [
      "C:\\Users\\vadim.kopytko\\AppData\\Roaming\\Python\\Python310\\site-packages\\sklearn\\base.py:1152: DataConversionWarning: A column-vector y was passed when a 1d array was expected. Please change the shape of y to (n_samples,), for example using ravel().\n",
      "  return fit_method(estimator, *args, **kwargs)\n"
     ]
    },
    {
     "name": "stdout",
     "output_type": "stream",
     "text": [
      "[CV 1/3] END max_depth=15, max_features=5, min_samples_leaf=3;, score=0.832 total time=   3.9s\n"
     ]
    },
    {
     "name": "stderr",
     "output_type": "stream",
     "text": [
      "C:\\Users\\vadim.kopytko\\AppData\\Roaming\\Python\\Python310\\site-packages\\sklearn\\base.py:1152: DataConversionWarning: A column-vector y was passed when a 1d array was expected. Please change the shape of y to (n_samples,), for example using ravel().\n",
      "  return fit_method(estimator, *args, **kwargs)\n"
     ]
    },
    {
     "name": "stdout",
     "output_type": "stream",
     "text": [
      "[CV 2/3] END max_depth=15, max_features=5, min_samples_leaf=3;, score=0.843 total time=   3.6s\n"
     ]
    },
    {
     "name": "stderr",
     "output_type": "stream",
     "text": [
      "C:\\Users\\vadim.kopytko\\AppData\\Roaming\\Python\\Python310\\site-packages\\sklearn\\base.py:1152: DataConversionWarning: A column-vector y was passed when a 1d array was expected. Please change the shape of y to (n_samples,), for example using ravel().\n",
      "  return fit_method(estimator, *args, **kwargs)\n"
     ]
    },
    {
     "name": "stdout",
     "output_type": "stream",
     "text": [
      "[CV 3/3] END max_depth=15, max_features=5, min_samples_leaf=3;, score=0.833 total time=   3.8s\n"
     ]
    },
    {
     "name": "stderr",
     "output_type": "stream",
     "text": [
      "C:\\Users\\vadim.kopytko\\AppData\\Roaming\\Python\\Python310\\site-packages\\sklearn\\base.py:1152: DataConversionWarning: A column-vector y was passed when a 1d array was expected. Please change the shape of y to (n_samples,), for example using ravel().\n",
      "  return fit_method(estimator, *args, **kwargs)\n"
     ]
    },
    {
     "name": "stdout",
     "output_type": "stream",
     "text": [
      "[CV 1/3] END max_depth=15, max_features=5, min_samples_leaf=5;, score=0.835 total time=   7.7s\n"
     ]
    },
    {
     "name": "stderr",
     "output_type": "stream",
     "text": [
      "C:\\Users\\vadim.kopytko\\AppData\\Roaming\\Python\\Python310\\site-packages\\sklearn\\base.py:1152: DataConversionWarning: A column-vector y was passed when a 1d array was expected. Please change the shape of y to (n_samples,), for example using ravel().\n",
      "  return fit_method(estimator, *args, **kwargs)\n"
     ]
    },
    {
     "name": "stdout",
     "output_type": "stream",
     "text": [
      "[CV 2/3] END max_depth=15, max_features=5, min_samples_leaf=5;, score=0.843 total time=   8.2s\n"
     ]
    },
    {
     "name": "stderr",
     "output_type": "stream",
     "text": [
      "C:\\Users\\vadim.kopytko\\AppData\\Roaming\\Python\\Python310\\site-packages\\sklearn\\base.py:1152: DataConversionWarning: A column-vector y was passed when a 1d array was expected. Please change the shape of y to (n_samples,), for example using ravel().\n",
      "  return fit_method(estimator, *args, **kwargs)\n"
     ]
    },
    {
     "name": "stdout",
     "output_type": "stream",
     "text": [
      "[CV 3/3] END max_depth=15, max_features=5, min_samples_leaf=5;, score=0.834 total time=   6.2s\n"
     ]
    },
    {
     "name": "stderr",
     "output_type": "stream",
     "text": [
      "C:\\Users\\vadim.kopytko\\AppData\\Roaming\\Python\\Python310\\site-packages\\sklearn\\base.py:1152: DataConversionWarning: A column-vector y was passed when a 1d array was expected. Please change the shape of y to (n_samples,), for example using ravel().\n",
      "  return fit_method(estimator, *args, **kwargs)\n"
     ]
    },
    {
     "name": "stdout",
     "output_type": "stream",
     "text": [
      "[CV 1/3] END max_depth=15, max_features=5, min_samples_leaf=7;, score=0.834 total time=   6.6s\n"
     ]
    },
    {
     "name": "stderr",
     "output_type": "stream",
     "text": [
      "C:\\Users\\vadim.kopytko\\AppData\\Roaming\\Python\\Python310\\site-packages\\sklearn\\base.py:1152: DataConversionWarning: A column-vector y was passed when a 1d array was expected. Please change the shape of y to (n_samples,), for example using ravel().\n",
      "  return fit_method(estimator, *args, **kwargs)\n"
     ]
    },
    {
     "name": "stdout",
     "output_type": "stream",
     "text": [
      "[CV 2/3] END max_depth=15, max_features=5, min_samples_leaf=7;, score=0.839 total time=   5.3s\n"
     ]
    },
    {
     "name": "stderr",
     "output_type": "stream",
     "text": [
      "C:\\Users\\vadim.kopytko\\AppData\\Roaming\\Python\\Python310\\site-packages\\sklearn\\base.py:1152: DataConversionWarning: A column-vector y was passed when a 1d array was expected. Please change the shape of y to (n_samples,), for example using ravel().\n",
      "  return fit_method(estimator, *args, **kwargs)\n"
     ]
    },
    {
     "name": "stdout",
     "output_type": "stream",
     "text": [
      "[CV 3/3] END max_depth=15, max_features=5, min_samples_leaf=7;, score=0.830 total time=   3.1s\n"
     ]
    },
    {
     "name": "stderr",
     "output_type": "stream",
     "text": [
      "C:\\Users\\vadim.kopytko\\AppData\\Roaming\\Python\\Python310\\site-packages\\sklearn\\base.py:1152: DataConversionWarning: A column-vector y was passed when a 1d array was expected. Please change the shape of y to (n_samples,), for example using ravel().\n",
      "  return fit_method(estimator, *args, **kwargs)\n"
     ]
    },
    {
     "name": "stdout",
     "output_type": "stream",
     "text": [
      "[CV 1/3] END max_depth=15, max_features=5, min_samples_leaf=9;, score=0.832 total time=   3.0s\n"
     ]
    },
    {
     "name": "stderr",
     "output_type": "stream",
     "text": [
      "C:\\Users\\vadim.kopytko\\AppData\\Roaming\\Python\\Python310\\site-packages\\sklearn\\base.py:1152: DataConversionWarning: A column-vector y was passed when a 1d array was expected. Please change the shape of y to (n_samples,), for example using ravel().\n",
      "  return fit_method(estimator, *args, **kwargs)\n"
     ]
    },
    {
     "name": "stdout",
     "output_type": "stream",
     "text": [
      "[CV 2/3] END max_depth=15, max_features=5, min_samples_leaf=9;, score=0.838 total time=   2.9s\n"
     ]
    },
    {
     "name": "stderr",
     "output_type": "stream",
     "text": [
      "C:\\Users\\vadim.kopytko\\AppData\\Roaming\\Python\\Python310\\site-packages\\sklearn\\base.py:1152: DataConversionWarning: A column-vector y was passed when a 1d array was expected. Please change the shape of y to (n_samples,), for example using ravel().\n",
      "  return fit_method(estimator, *args, **kwargs)\n"
     ]
    },
    {
     "name": "stdout",
     "output_type": "stream",
     "text": [
      "[CV 3/3] END max_depth=15, max_features=5, min_samples_leaf=9;, score=0.831 total time=   2.9s\n"
     ]
    },
    {
     "name": "stderr",
     "output_type": "stream",
     "text": [
      "C:\\Users\\vadim.kopytko\\AppData\\Roaming\\Python\\Python310\\site-packages\\sklearn\\base.py:1152: DataConversionWarning: A column-vector y was passed when a 1d array was expected. Please change the shape of y to (n_samples,), for example using ravel().\n",
      "  return fit_method(estimator, *args, **kwargs)\n"
     ]
    },
    {
     "name": "stdout",
     "output_type": "stream",
     "text": [
      "[CV 1/3] END max_depth=15, max_features=5, min_samples_leaf=11;, score=0.834 total time=   2.8s\n"
     ]
    },
    {
     "name": "stderr",
     "output_type": "stream",
     "text": [
      "C:\\Users\\vadim.kopytko\\AppData\\Roaming\\Python\\Python310\\site-packages\\sklearn\\base.py:1152: DataConversionWarning: A column-vector y was passed when a 1d array was expected. Please change the shape of y to (n_samples,), for example using ravel().\n",
      "  return fit_method(estimator, *args, **kwargs)\n"
     ]
    },
    {
     "name": "stdout",
     "output_type": "stream",
     "text": [
      "[CV 2/3] END max_depth=15, max_features=5, min_samples_leaf=11;, score=0.838 total time=   2.9s\n"
     ]
    },
    {
     "name": "stderr",
     "output_type": "stream",
     "text": [
      "C:\\Users\\vadim.kopytko\\AppData\\Roaming\\Python\\Python310\\site-packages\\sklearn\\base.py:1152: DataConversionWarning: A column-vector y was passed when a 1d array was expected. Please change the shape of y to (n_samples,), for example using ravel().\n",
      "  return fit_method(estimator, *args, **kwargs)\n"
     ]
    },
    {
     "name": "stdout",
     "output_type": "stream",
     "text": [
      "[CV 3/3] END max_depth=15, max_features=5, min_samples_leaf=11;, score=0.831 total time=   2.9s\n"
     ]
    },
    {
     "name": "stderr",
     "output_type": "stream",
     "text": [
      "C:\\Users\\vadim.kopytko\\AppData\\Roaming\\Python\\Python310\\site-packages\\sklearn\\base.py:1152: DataConversionWarning: A column-vector y was passed when a 1d array was expected. Please change the shape of y to (n_samples,), for example using ravel().\n",
      "  return fit_method(estimator, *args, **kwargs)\n"
     ]
    },
    {
     "name": "stdout",
     "output_type": "stream",
     "text": [
      "[CV 1/3] END max_depth=15, max_features=6, min_samples_leaf=3;, score=0.841 total time=   3.4s\n"
     ]
    },
    {
     "name": "stderr",
     "output_type": "stream",
     "text": [
      "C:\\Users\\vadim.kopytko\\AppData\\Roaming\\Python\\Python310\\site-packages\\sklearn\\base.py:1152: DataConversionWarning: A column-vector y was passed when a 1d array was expected. Please change the shape of y to (n_samples,), for example using ravel().\n",
      "  return fit_method(estimator, *args, **kwargs)\n"
     ]
    },
    {
     "name": "stdout",
     "output_type": "stream",
     "text": [
      "[CV 2/3] END max_depth=15, max_features=6, min_samples_leaf=3;, score=0.847 total time=   3.1s\n"
     ]
    },
    {
     "name": "stderr",
     "output_type": "stream",
     "text": [
      "C:\\Users\\vadim.kopytko\\AppData\\Roaming\\Python\\Python310\\site-packages\\sklearn\\base.py:1152: DataConversionWarning: A column-vector y was passed when a 1d array was expected. Please change the shape of y to (n_samples,), for example using ravel().\n",
      "  return fit_method(estimator, *args, **kwargs)\n"
     ]
    },
    {
     "name": "stdout",
     "output_type": "stream",
     "text": [
      "[CV 3/3] END max_depth=15, max_features=6, min_samples_leaf=3;, score=0.840 total time=   3.2s\n"
     ]
    },
    {
     "name": "stderr",
     "output_type": "stream",
     "text": [
      "C:\\Users\\vadim.kopytko\\AppData\\Roaming\\Python\\Python310\\site-packages\\sklearn\\base.py:1152: DataConversionWarning: A column-vector y was passed when a 1d array was expected. Please change the shape of y to (n_samples,), for example using ravel().\n",
      "  return fit_method(estimator, *args, **kwargs)\n"
     ]
    },
    {
     "name": "stdout",
     "output_type": "stream",
     "text": [
      "[CV 1/3] END max_depth=15, max_features=6, min_samples_leaf=5;, score=0.842 total time=   3.1s\n"
     ]
    },
    {
     "name": "stderr",
     "output_type": "stream",
     "text": [
      "C:\\Users\\vadim.kopytko\\AppData\\Roaming\\Python\\Python310\\site-packages\\sklearn\\base.py:1152: DataConversionWarning: A column-vector y was passed when a 1d array was expected. Please change the shape of y to (n_samples,), for example using ravel().\n",
      "  return fit_method(estimator, *args, **kwargs)\n"
     ]
    },
    {
     "name": "stdout",
     "output_type": "stream",
     "text": [
      "[CV 2/3] END max_depth=15, max_features=6, min_samples_leaf=5;, score=0.847 total time=   3.0s\n"
     ]
    },
    {
     "name": "stderr",
     "output_type": "stream",
     "text": [
      "C:\\Users\\vadim.kopytko\\AppData\\Roaming\\Python\\Python310\\site-packages\\sklearn\\base.py:1152: DataConversionWarning: A column-vector y was passed when a 1d array was expected. Please change the shape of y to (n_samples,), for example using ravel().\n",
      "  return fit_method(estimator, *args, **kwargs)\n"
     ]
    },
    {
     "name": "stdout",
     "output_type": "stream",
     "text": [
      "[CV 3/3] END max_depth=15, max_features=6, min_samples_leaf=5;, score=0.839 total time=   3.0s\n"
     ]
    },
    {
     "name": "stderr",
     "output_type": "stream",
     "text": [
      "C:\\Users\\vadim.kopytko\\AppData\\Roaming\\Python\\Python310\\site-packages\\sklearn\\base.py:1152: DataConversionWarning: A column-vector y was passed when a 1d array was expected. Please change the shape of y to (n_samples,), for example using ravel().\n",
      "  return fit_method(estimator, *args, **kwargs)\n"
     ]
    },
    {
     "name": "stdout",
     "output_type": "stream",
     "text": [
      "[CV 1/3] END max_depth=15, max_features=6, min_samples_leaf=7;, score=0.842 total time=   3.0s\n"
     ]
    },
    {
     "name": "stderr",
     "output_type": "stream",
     "text": [
      "C:\\Users\\vadim.kopytko\\AppData\\Roaming\\Python\\Python310\\site-packages\\sklearn\\base.py:1152: DataConversionWarning: A column-vector y was passed when a 1d array was expected. Please change the shape of y to (n_samples,), for example using ravel().\n",
      "  return fit_method(estimator, *args, **kwargs)\n"
     ]
    },
    {
     "name": "stdout",
     "output_type": "stream",
     "text": [
      "[CV 2/3] END max_depth=15, max_features=6, min_samples_leaf=7;, score=0.845 total time=   2.9s\n"
     ]
    },
    {
     "name": "stderr",
     "output_type": "stream",
     "text": [
      "C:\\Users\\vadim.kopytko\\AppData\\Roaming\\Python\\Python310\\site-packages\\sklearn\\base.py:1152: DataConversionWarning: A column-vector y was passed when a 1d array was expected. Please change the shape of y to (n_samples,), for example using ravel().\n",
      "  return fit_method(estimator, *args, **kwargs)\n"
     ]
    },
    {
     "name": "stdout",
     "output_type": "stream",
     "text": [
      "[CV 3/3] END max_depth=15, max_features=6, min_samples_leaf=7;, score=0.841 total time=   3.0s\n"
     ]
    },
    {
     "name": "stderr",
     "output_type": "stream",
     "text": [
      "C:\\Users\\vadim.kopytko\\AppData\\Roaming\\Python\\Python310\\site-packages\\sklearn\\base.py:1152: DataConversionWarning: A column-vector y was passed when a 1d array was expected. Please change the shape of y to (n_samples,), for example using ravel().\n",
      "  return fit_method(estimator, *args, **kwargs)\n"
     ]
    },
    {
     "name": "stdout",
     "output_type": "stream",
     "text": [
      "[CV 1/3] END max_depth=15, max_features=6, min_samples_leaf=9;, score=0.840 total time=   3.1s\n"
     ]
    },
    {
     "name": "stderr",
     "output_type": "stream",
     "text": [
      "C:\\Users\\vadim.kopytko\\AppData\\Roaming\\Python\\Python310\\site-packages\\sklearn\\base.py:1152: DataConversionWarning: A column-vector y was passed when a 1d array was expected. Please change the shape of y to (n_samples,), for example using ravel().\n",
      "  return fit_method(estimator, *args, **kwargs)\n"
     ]
    },
    {
     "name": "stdout",
     "output_type": "stream",
     "text": [
      "[CV 2/3] END max_depth=15, max_features=6, min_samples_leaf=9;, score=0.845 total time=   3.0s\n"
     ]
    },
    {
     "name": "stderr",
     "output_type": "stream",
     "text": [
      "C:\\Users\\vadim.kopytko\\AppData\\Roaming\\Python\\Python310\\site-packages\\sklearn\\base.py:1152: DataConversionWarning: A column-vector y was passed when a 1d array was expected. Please change the shape of y to (n_samples,), for example using ravel().\n",
      "  return fit_method(estimator, *args, **kwargs)\n"
     ]
    },
    {
     "name": "stdout",
     "output_type": "stream",
     "text": [
      "[CV 3/3] END max_depth=15, max_features=6, min_samples_leaf=9;, score=0.837 total time=   3.0s\n"
     ]
    },
    {
     "name": "stderr",
     "output_type": "stream",
     "text": [
      "C:\\Users\\vadim.kopytko\\AppData\\Roaming\\Python\\Python310\\site-packages\\sklearn\\base.py:1152: DataConversionWarning: A column-vector y was passed when a 1d array was expected. Please change the shape of y to (n_samples,), for example using ravel().\n",
      "  return fit_method(estimator, *args, **kwargs)\n"
     ]
    },
    {
     "name": "stdout",
     "output_type": "stream",
     "text": [
      "[CV 1/3] END max_depth=15, max_features=6, min_samples_leaf=11;, score=0.840 total time=   2.8s\n"
     ]
    },
    {
     "name": "stderr",
     "output_type": "stream",
     "text": [
      "C:\\Users\\vadim.kopytko\\AppData\\Roaming\\Python\\Python310\\site-packages\\sklearn\\base.py:1152: DataConversionWarning: A column-vector y was passed when a 1d array was expected. Please change the shape of y to (n_samples,), for example using ravel().\n",
      "  return fit_method(estimator, *args, **kwargs)\n"
     ]
    },
    {
     "name": "stdout",
     "output_type": "stream",
     "text": [
      "[CV 2/3] END max_depth=15, max_features=6, min_samples_leaf=11;, score=0.846 total time=   2.9s\n"
     ]
    },
    {
     "name": "stderr",
     "output_type": "stream",
     "text": [
      "C:\\Users\\vadim.kopytko\\AppData\\Roaming\\Python\\Python310\\site-packages\\sklearn\\base.py:1152: DataConversionWarning: A column-vector y was passed when a 1d array was expected. Please change the shape of y to (n_samples,), for example using ravel().\n",
      "  return fit_method(estimator, *args, **kwargs)\n"
     ]
    },
    {
     "name": "stdout",
     "output_type": "stream",
     "text": [
      "[CV 3/3] END max_depth=15, max_features=6, min_samples_leaf=11;, score=0.838 total time=   2.9s\n"
     ]
    },
    {
     "name": "stderr",
     "output_type": "stream",
     "text": [
      "C:\\Users\\vadim.kopytko\\AppData\\Roaming\\Python\\Python310\\site-packages\\sklearn\\base.py:1152: DataConversionWarning: A column-vector y was passed when a 1d array was expected. Please change the shape of y to (n_samples,), for example using ravel().\n",
      "  return fit_method(estimator, *args, **kwargs)\n"
     ]
    },
    {
     "name": "stdout",
     "output_type": "stream",
     "text": [
      "[CV 1/3] END max_depth=15, max_features=7, min_samples_leaf=3;, score=0.845 total time=   3.8s\n"
     ]
    },
    {
     "name": "stderr",
     "output_type": "stream",
     "text": [
      "C:\\Users\\vadim.kopytko\\AppData\\Roaming\\Python\\Python310\\site-packages\\sklearn\\base.py:1152: DataConversionWarning: A column-vector y was passed when a 1d array was expected. Please change the shape of y to (n_samples,), for example using ravel().\n",
      "  return fit_method(estimator, *args, **kwargs)\n"
     ]
    },
    {
     "name": "stdout",
     "output_type": "stream",
     "text": [
      "[CV 2/3] END max_depth=15, max_features=7, min_samples_leaf=3;, score=0.850 total time=   3.9s\n"
     ]
    },
    {
     "name": "stderr",
     "output_type": "stream",
     "text": [
      "C:\\Users\\vadim.kopytko\\AppData\\Roaming\\Python\\Python310\\site-packages\\sklearn\\base.py:1152: DataConversionWarning: A column-vector y was passed when a 1d array was expected. Please change the shape of y to (n_samples,), for example using ravel().\n",
      "  return fit_method(estimator, *args, **kwargs)\n"
     ]
    },
    {
     "name": "stdout",
     "output_type": "stream",
     "text": [
      "[CV 3/3] END max_depth=15, max_features=7, min_samples_leaf=3;, score=0.845 total time=   3.8s\n"
     ]
    },
    {
     "name": "stderr",
     "output_type": "stream",
     "text": [
      "C:\\Users\\vadim.kopytko\\AppData\\Roaming\\Python\\Python310\\site-packages\\sklearn\\base.py:1152: DataConversionWarning: A column-vector y was passed when a 1d array was expected. Please change the shape of y to (n_samples,), for example using ravel().\n",
      "  return fit_method(estimator, *args, **kwargs)\n"
     ]
    },
    {
     "name": "stdout",
     "output_type": "stream",
     "text": [
      "[CV 1/3] END max_depth=15, max_features=7, min_samples_leaf=5;, score=0.844 total time=   3.6s\n"
     ]
    },
    {
     "name": "stderr",
     "output_type": "stream",
     "text": [
      "C:\\Users\\vadim.kopytko\\AppData\\Roaming\\Python\\Python310\\site-packages\\sklearn\\base.py:1152: DataConversionWarning: A column-vector y was passed when a 1d array was expected. Please change the shape of y to (n_samples,), for example using ravel().\n",
      "  return fit_method(estimator, *args, **kwargs)\n"
     ]
    },
    {
     "name": "stdout",
     "output_type": "stream",
     "text": [
      "[CV 2/3] END max_depth=15, max_features=7, min_samples_leaf=5;, score=0.849 total time=   3.7s\n"
     ]
    },
    {
     "name": "stderr",
     "output_type": "stream",
     "text": [
      "C:\\Users\\vadim.kopytko\\AppData\\Roaming\\Python\\Python310\\site-packages\\sklearn\\base.py:1152: DataConversionWarning: A column-vector y was passed when a 1d array was expected. Please change the shape of y to (n_samples,), for example using ravel().\n",
      "  return fit_method(estimator, *args, **kwargs)\n"
     ]
    },
    {
     "name": "stdout",
     "output_type": "stream",
     "text": [
      "[CV 3/3] END max_depth=15, max_features=7, min_samples_leaf=5;, score=0.844 total time=   3.6s\n"
     ]
    },
    {
     "name": "stderr",
     "output_type": "stream",
     "text": [
      "C:\\Users\\vadim.kopytko\\AppData\\Roaming\\Python\\Python310\\site-packages\\sklearn\\base.py:1152: DataConversionWarning: A column-vector y was passed when a 1d array was expected. Please change the shape of y to (n_samples,), for example using ravel().\n",
      "  return fit_method(estimator, *args, **kwargs)\n"
     ]
    },
    {
     "name": "stdout",
     "output_type": "stream",
     "text": [
      "[CV 1/3] END max_depth=15, max_features=7, min_samples_leaf=7;, score=0.842 total time=   3.6s\n"
     ]
    },
    {
     "name": "stderr",
     "output_type": "stream",
     "text": [
      "C:\\Users\\vadim.kopytko\\AppData\\Roaming\\Python\\Python310\\site-packages\\sklearn\\base.py:1152: DataConversionWarning: A column-vector y was passed when a 1d array was expected. Please change the shape of y to (n_samples,), for example using ravel().\n",
      "  return fit_method(estimator, *args, **kwargs)\n"
     ]
    },
    {
     "name": "stdout",
     "output_type": "stream",
     "text": [
      "[CV 2/3] END max_depth=15, max_features=7, min_samples_leaf=7;, score=0.850 total time=   3.5s\n"
     ]
    },
    {
     "name": "stderr",
     "output_type": "stream",
     "text": [
      "C:\\Users\\vadim.kopytko\\AppData\\Roaming\\Python\\Python310\\site-packages\\sklearn\\base.py:1152: DataConversionWarning: A column-vector y was passed when a 1d array was expected. Please change the shape of y to (n_samples,), for example using ravel().\n",
      "  return fit_method(estimator, *args, **kwargs)\n"
     ]
    },
    {
     "name": "stdout",
     "output_type": "stream",
     "text": [
      "[CV 3/3] END max_depth=15, max_features=7, min_samples_leaf=7;, score=0.841 total time=   3.7s\n"
     ]
    },
    {
     "name": "stderr",
     "output_type": "stream",
     "text": [
      "C:\\Users\\vadim.kopytko\\AppData\\Roaming\\Python\\Python310\\site-packages\\sklearn\\base.py:1152: DataConversionWarning: A column-vector y was passed when a 1d array was expected. Please change the shape of y to (n_samples,), for example using ravel().\n",
      "  return fit_method(estimator, *args, **kwargs)\n"
     ]
    },
    {
     "name": "stdout",
     "output_type": "stream",
     "text": [
      "[CV 1/3] END max_depth=15, max_features=7, min_samples_leaf=9;, score=0.842 total time=   3.5s\n"
     ]
    },
    {
     "name": "stderr",
     "output_type": "stream",
     "text": [
      "C:\\Users\\vadim.kopytko\\AppData\\Roaming\\Python\\Python310\\site-packages\\sklearn\\base.py:1152: DataConversionWarning: A column-vector y was passed when a 1d array was expected. Please change the shape of y to (n_samples,), for example using ravel().\n",
      "  return fit_method(estimator, *args, **kwargs)\n"
     ]
    },
    {
     "name": "stdout",
     "output_type": "stream",
     "text": [
      "[CV 2/3] END max_depth=15, max_features=7, min_samples_leaf=9;, score=0.848 total time=   3.4s\n"
     ]
    },
    {
     "name": "stderr",
     "output_type": "stream",
     "text": [
      "C:\\Users\\vadim.kopytko\\AppData\\Roaming\\Python\\Python310\\site-packages\\sklearn\\base.py:1152: DataConversionWarning: A column-vector y was passed when a 1d array was expected. Please change the shape of y to (n_samples,), for example using ravel().\n",
      "  return fit_method(estimator, *args, **kwargs)\n"
     ]
    },
    {
     "name": "stdout",
     "output_type": "stream",
     "text": [
      "[CV 3/3] END max_depth=15, max_features=7, min_samples_leaf=9;, score=0.841 total time=   3.5s\n"
     ]
    },
    {
     "name": "stderr",
     "output_type": "stream",
     "text": [
      "C:\\Users\\vadim.kopytko\\AppData\\Roaming\\Python\\Python310\\site-packages\\sklearn\\base.py:1152: DataConversionWarning: A column-vector y was passed when a 1d array was expected. Please change the shape of y to (n_samples,), for example using ravel().\n",
      "  return fit_method(estimator, *args, **kwargs)\n"
     ]
    },
    {
     "name": "stdout",
     "output_type": "stream",
     "text": [
      "[CV 1/3] END max_depth=15, max_features=7, min_samples_leaf=11;, score=0.840 total time=   3.3s\n"
     ]
    },
    {
     "name": "stderr",
     "output_type": "stream",
     "text": [
      "C:\\Users\\vadim.kopytko\\AppData\\Roaming\\Python\\Python310\\site-packages\\sklearn\\base.py:1152: DataConversionWarning: A column-vector y was passed when a 1d array was expected. Please change the shape of y to (n_samples,), for example using ravel().\n",
      "  return fit_method(estimator, *args, **kwargs)\n"
     ]
    },
    {
     "name": "stdout",
     "output_type": "stream",
     "text": [
      "[CV 2/3] END max_depth=15, max_features=7, min_samples_leaf=11;, score=0.847 total time=   3.3s\n"
     ]
    },
    {
     "name": "stderr",
     "output_type": "stream",
     "text": [
      "C:\\Users\\vadim.kopytko\\AppData\\Roaming\\Python\\Python310\\site-packages\\sklearn\\base.py:1152: DataConversionWarning: A column-vector y was passed when a 1d array was expected. Please change the shape of y to (n_samples,), for example using ravel().\n",
      "  return fit_method(estimator, *args, **kwargs)\n"
     ]
    },
    {
     "name": "stdout",
     "output_type": "stream",
     "text": [
      "[CV 3/3] END max_depth=15, max_features=7, min_samples_leaf=11;, score=0.840 total time=   3.4s\n"
     ]
    },
    {
     "name": "stderr",
     "output_type": "stream",
     "text": [
      "C:\\Users\\vadim.kopytko\\AppData\\Roaming\\Python\\Python310\\site-packages\\sklearn\\base.py:1152: DataConversionWarning: A column-vector y was passed when a 1d array was expected. Please change the shape of y to (n_samples,), for example using ravel().\n",
      "  return fit_method(estimator, *args, **kwargs)\n"
     ]
    },
    {
     "data": {
      "text/plain": [
       "{'max_depth': 15, 'max_features': 7, 'min_samples_leaf': 3}"
      ]
     },
     "execution_count": 103,
     "metadata": {},
     "output_type": "execute_result"
    }
   ],
   "source": [
    "params_2 = {'max_features': [ 4, 5, 6, 7], 'min_samples_leaf': [3, 5, 7, 9, 11], 'max_depth': [5, 10, 15]}\n",
    "\n",
    "gs_rf = model_selection.GridSearchCV(\n",
    "    estimator=ensemble.RandomForestClassifier(random_state = 31),\n",
    "    cv=3,\n",
    "    param_grid=params_2,\n",
    "    verbose=3\n",
    ")\n",
    "gs_rf.fit(X_train, y_train)\n",
    "gs_rf.best_params_"
   ]
  },
  {
   "cell_type": "code",
   "execution_count": 107,
   "metadata": {},
   "outputs": [
    {
     "name": "stderr",
     "output_type": "stream",
     "text": [
      "C:\\Users\\vadim.kopytko\\AppData\\Roaming\\Python\\Python310\\site-packages\\sklearn\\base.py:1152: DataConversionWarning: A column-vector y was passed when a 1d array was expected. Please change the shape of y to (n_samples,), for example using ravel().\n",
      "  return fit_method(estimator, *args, **kwargs)\n"
     ]
    },
    {
     "name": "stdout",
     "output_type": "stream",
     "text": [
      "0.7\n"
     ]
    }
   ],
   "source": [
    "dt_opt = ensemble.RandomForestClassifier(\n",
    "    n_estimators=100,\n",
    "    **gs_rf.best_params_,\n",
    "    random_state=42).fit(X_train, y_train)\n",
    "y_test_pred_dt_opt = dt_opt.predict(X_test)\n",
    "print(np.round( metrics.roc_auc_score(y_test, y_test_pred_dt_opt), 2))"
   ]
  },
  {
   "cell_type": "code",
   "execution_count": 111,
   "metadata": {},
   "outputs": [
    {
     "data": {
      "text/html": [
       "<div>\n",
       "<style scoped>\n",
       "    .dataframe tbody tr th:only-of-type {\n",
       "        vertical-align: middle;\n",
       "    }\n",
       "\n",
       "    .dataframe tbody tr th {\n",
       "        vertical-align: top;\n",
       "    }\n",
       "\n",
       "    .dataframe thead th {\n",
       "        text-align: right;\n",
       "    }\n",
       "</style>\n",
       "<table border=\"1\" class=\"dataframe\">\n",
       "  <thead>\n",
       "    <tr style=\"text-align: right;\">\n",
       "      <th></th>\n",
       "      <th>features</th>\n",
       "      <th>coef</th>\n",
       "    </tr>\n",
       "  </thead>\n",
       "  <tbody>\n",
       "    <tr>\n",
       "      <th>7</th>\n",
       "      <td>Humidity3pm</td>\n",
       "      <td>0.245610</td>\n",
       "    </tr>\n",
       "    <tr>\n",
       "      <th>2</th>\n",
       "      <td>Rainfall</td>\n",
       "      <td>0.089892</td>\n",
       "    </tr>\n",
       "    <tr>\n",
       "      <th>10</th>\n",
       "      <td>Cloud9am</td>\n",
       "      <td>0.077081</td>\n",
       "    </tr>\n",
       "    <tr>\n",
       "      <th>6</th>\n",
       "      <td>Humidity9am</td>\n",
       "      <td>0.066047</td>\n",
       "    </tr>\n",
       "    <tr>\n",
       "      <th>9</th>\n",
       "      <td>Pressure3pm</td>\n",
       "      <td>0.060751</td>\n",
       "    </tr>\n",
       "    <tr>\n",
       "      <th>...</th>\n",
       "      <td>...</td>\n",
       "      <td>...</td>\n",
       "    </tr>\n",
       "    <tr>\n",
       "      <th>72</th>\n",
       "      <td>Location_Witchcliffe</td>\n",
       "      <td>0.000000</td>\n",
       "    </tr>\n",
       "    <tr>\n",
       "      <th>43</th>\n",
       "      <td>Location_Launceston</td>\n",
       "      <td>0.000000</td>\n",
       "    </tr>\n",
       "    <tr>\n",
       "      <th>49</th>\n",
       "      <td>Location_MountGinini</td>\n",
       "      <td>0.000000</td>\n",
       "    </tr>\n",
       "    <tr>\n",
       "      <th>50</th>\n",
       "      <td>Location_Newcastle</td>\n",
       "      <td>0.000000</td>\n",
       "    </tr>\n",
       "    <tr>\n",
       "      <th>56</th>\n",
       "      <td>Location_Penrith</td>\n",
       "      <td>0.000000</td>\n",
       "    </tr>\n",
       "  </tbody>\n",
       "</table>\n",
       "<p>123 rows × 2 columns</p>\n",
       "</div>"
      ],
      "text/plain": [
       "                features      coef\n",
       "7            Humidity3pm  0.245610\n",
       "2               Rainfall  0.089892\n",
       "10              Cloud9am  0.077081\n",
       "6            Humidity9am  0.066047\n",
       "9            Pressure3pm  0.060751\n",
       "..                   ...       ...\n",
       "72  Location_Witchcliffe  0.000000\n",
       "43   Location_Launceston  0.000000\n",
       "49  Location_MountGinini  0.000000\n",
       "50    Location_Newcastle  0.000000\n",
       "56      Location_Penrith  0.000000\n",
       "\n",
       "[123 rows x 2 columns]"
      ]
     },
     "execution_count": 111,
     "metadata": {},
     "output_type": "execute_result"
    }
   ],
   "source": [
    "df_f = pd.DataFrame({'features': X_train.columns,'coef': dt_opt.feature_importances_})\n",
    "df_f.sort_values(by='coef', ascending=False)"
   ]
  },
  {
   "cell_type": "markdown",
   "metadata": {},
   "source": [
    "# БУСТИНГ"
   ]
  },
  {
   "cell_type": "code",
   "execution_count": 170,
   "metadata": {},
   "outputs": [],
   "source": [
    "import xgboost\n",
    "import catboost\n",
    "from catboost.utils import get_confusion_matrix\n",
    "from sklearn.preprocessing import StandardScaler"
   ]
  },
  {
   "cell_type": "code",
   "execution_count": 118,
   "metadata": {},
   "outputs": [
    {
     "data": {
      "text/html": [
       "<div>\n",
       "<style scoped>\n",
       "    .dataframe tbody tr th:only-of-type {\n",
       "        vertical-align: middle;\n",
       "    }\n",
       "\n",
       "    .dataframe tbody tr th {\n",
       "        vertical-align: top;\n",
       "    }\n",
       "\n",
       "    .dataframe thead th {\n",
       "        text-align: right;\n",
       "    }\n",
       "</style>\n",
       "<table border=\"1\" class=\"dataframe\">\n",
       "  <thead>\n",
       "    <tr style=\"text-align: right;\">\n",
       "      <th></th>\n",
       "      <th>id</th>\n",
       "      <th>Gender</th>\n",
       "      <th>Customer Type</th>\n",
       "      <th>Age</th>\n",
       "      <th>Type of Travel</th>\n",
       "      <th>Class</th>\n",
       "      <th>Flight Distance</th>\n",
       "      <th>Inflight wifi service</th>\n",
       "      <th>Departure/Arrival time convenient</th>\n",
       "      <th>Ease of Online booking</th>\n",
       "      <th>...</th>\n",
       "      <th>Inflight entertainment</th>\n",
       "      <th>On-board service</th>\n",
       "      <th>Leg room service</th>\n",
       "      <th>Baggage handling</th>\n",
       "      <th>Checkin service</th>\n",
       "      <th>Inflight service</th>\n",
       "      <th>Cleanliness</th>\n",
       "      <th>Departure Delay in Minutes</th>\n",
       "      <th>Arrival Delay in Minutes</th>\n",
       "      <th>satisfaction</th>\n",
       "    </tr>\n",
       "  </thead>\n",
       "  <tbody>\n",
       "    <tr>\n",
       "      <th>0</th>\n",
       "      <td>70172</td>\n",
       "      <td>Male</td>\n",
       "      <td>Loyal Customer</td>\n",
       "      <td>13</td>\n",
       "      <td>Personal Travel</td>\n",
       "      <td>Eco Plus</td>\n",
       "      <td>460</td>\n",
       "      <td>3</td>\n",
       "      <td>4</td>\n",
       "      <td>3</td>\n",
       "      <td>...</td>\n",
       "      <td>5</td>\n",
       "      <td>4</td>\n",
       "      <td>3</td>\n",
       "      <td>4</td>\n",
       "      <td>4</td>\n",
       "      <td>5</td>\n",
       "      <td>5</td>\n",
       "      <td>25</td>\n",
       "      <td>18.0</td>\n",
       "      <td>neutral or dissatisfied</td>\n",
       "    </tr>\n",
       "    <tr>\n",
       "      <th>1</th>\n",
       "      <td>5047</td>\n",
       "      <td>Male</td>\n",
       "      <td>disloyal Customer</td>\n",
       "      <td>25</td>\n",
       "      <td>Business travel</td>\n",
       "      <td>Business</td>\n",
       "      <td>235</td>\n",
       "      <td>3</td>\n",
       "      <td>2</td>\n",
       "      <td>3</td>\n",
       "      <td>...</td>\n",
       "      <td>1</td>\n",
       "      <td>1</td>\n",
       "      <td>5</td>\n",
       "      <td>3</td>\n",
       "      <td>1</td>\n",
       "      <td>4</td>\n",
       "      <td>1</td>\n",
       "      <td>1</td>\n",
       "      <td>6.0</td>\n",
       "      <td>neutral or dissatisfied</td>\n",
       "    </tr>\n",
       "    <tr>\n",
       "      <th>2</th>\n",
       "      <td>110028</td>\n",
       "      <td>Female</td>\n",
       "      <td>Loyal Customer</td>\n",
       "      <td>26</td>\n",
       "      <td>Business travel</td>\n",
       "      <td>Business</td>\n",
       "      <td>1142</td>\n",
       "      <td>2</td>\n",
       "      <td>2</td>\n",
       "      <td>2</td>\n",
       "      <td>...</td>\n",
       "      <td>5</td>\n",
       "      <td>4</td>\n",
       "      <td>3</td>\n",
       "      <td>4</td>\n",
       "      <td>4</td>\n",
       "      <td>4</td>\n",
       "      <td>5</td>\n",
       "      <td>0</td>\n",
       "      <td>0.0</td>\n",
       "      <td>satisfied</td>\n",
       "    </tr>\n",
       "    <tr>\n",
       "      <th>3</th>\n",
       "      <td>24026</td>\n",
       "      <td>Female</td>\n",
       "      <td>Loyal Customer</td>\n",
       "      <td>25</td>\n",
       "      <td>Business travel</td>\n",
       "      <td>Business</td>\n",
       "      <td>562</td>\n",
       "      <td>2</td>\n",
       "      <td>5</td>\n",
       "      <td>5</td>\n",
       "      <td>...</td>\n",
       "      <td>2</td>\n",
       "      <td>2</td>\n",
       "      <td>5</td>\n",
       "      <td>3</td>\n",
       "      <td>1</td>\n",
       "      <td>4</td>\n",
       "      <td>2</td>\n",
       "      <td>11</td>\n",
       "      <td>9.0</td>\n",
       "      <td>neutral or dissatisfied</td>\n",
       "    </tr>\n",
       "    <tr>\n",
       "      <th>4</th>\n",
       "      <td>119299</td>\n",
       "      <td>Male</td>\n",
       "      <td>Loyal Customer</td>\n",
       "      <td>61</td>\n",
       "      <td>Business travel</td>\n",
       "      <td>Business</td>\n",
       "      <td>214</td>\n",
       "      <td>3</td>\n",
       "      <td>3</td>\n",
       "      <td>3</td>\n",
       "      <td>...</td>\n",
       "      <td>3</td>\n",
       "      <td>3</td>\n",
       "      <td>4</td>\n",
       "      <td>4</td>\n",
       "      <td>3</td>\n",
       "      <td>3</td>\n",
       "      <td>3</td>\n",
       "      <td>0</td>\n",
       "      <td>0.0</td>\n",
       "      <td>satisfied</td>\n",
       "    </tr>\n",
       "  </tbody>\n",
       "</table>\n",
       "<p>5 rows × 24 columns</p>\n",
       "</div>"
      ],
      "text/plain": [
       "       id  Gender      Customer Type  Age   Type of Travel     Class  \\\n",
       "0   70172    Male     Loyal Customer   13  Personal Travel  Eco Plus   \n",
       "1    5047    Male  disloyal Customer   25  Business travel  Business   \n",
       "2  110028  Female     Loyal Customer   26  Business travel  Business   \n",
       "3   24026  Female     Loyal Customer   25  Business travel  Business   \n",
       "4  119299    Male     Loyal Customer   61  Business travel  Business   \n",
       "\n",
       "   Flight Distance  Inflight wifi service  Departure/Arrival time convenient  \\\n",
       "0              460                      3                                  4   \n",
       "1              235                      3                                  2   \n",
       "2             1142                      2                                  2   \n",
       "3              562                      2                                  5   \n",
       "4              214                      3                                  3   \n",
       "\n",
       "   Ease of Online booking  ...  Inflight entertainment  On-board service  \\\n",
       "0                       3  ...                       5                 4   \n",
       "1                       3  ...                       1                 1   \n",
       "2                       2  ...                       5                 4   \n",
       "3                       5  ...                       2                 2   \n",
       "4                       3  ...                       3                 3   \n",
       "\n",
       "   Leg room service  Baggage handling  Checkin service  Inflight service  \\\n",
       "0                 3                 4                4                 5   \n",
       "1                 5                 3                1                 4   \n",
       "2                 3                 4                4                 4   \n",
       "3                 5                 3                1                 4   \n",
       "4                 4                 4                3                 3   \n",
       "\n",
       "   Cleanliness  Departure Delay in Minutes  Arrival Delay in Minutes  \\\n",
       "0            5                          25                      18.0   \n",
       "1            1                           1                       6.0   \n",
       "2            5                           0                       0.0   \n",
       "3            2                          11                       9.0   \n",
       "4            3                           0                       0.0   \n",
       "\n",
       "              satisfaction  \n",
       "0  neutral or dissatisfied  \n",
       "1  neutral or dissatisfied  \n",
       "2                satisfied  \n",
       "3  neutral or dissatisfied  \n",
       "4                satisfied  \n",
       "\n",
       "[5 rows x 24 columns]"
      ]
     },
     "execution_count": 118,
     "metadata": {},
     "output_type": "execute_result"
    }
   ],
   "source": [
    "air = pd.read_csv('data/AirPass.csv', index_col=0)\n",
    "air.head()"
   ]
  },
  {
   "cell_type": "code",
   "execution_count": 120,
   "metadata": {},
   "outputs": [
    {
     "data": {
      "text/plain": [
       "id                                     0\n",
       "Gender                                 0\n",
       "Customer Type                          0\n",
       "Age                                    0\n",
       "Type of Travel                         0\n",
       "Class                                  0\n",
       "Flight Distance                        0\n",
       "Inflight wifi service                  0\n",
       "Departure/Arrival time convenient      0\n",
       "Ease of Online booking                 0\n",
       "Gate location                          0\n",
       "Food and drink                         0\n",
       "Online boarding                        0\n",
       "Seat comfort                           0\n",
       "Inflight entertainment                 0\n",
       "On-board service                       0\n",
       "Leg room service                       0\n",
       "Baggage handling                       0\n",
       "Checkin service                        0\n",
       "Inflight service                       0\n",
       "Cleanliness                            0\n",
       "Departure Delay in Minutes             0\n",
       "Arrival Delay in Minutes             310\n",
       "satisfaction                           0\n",
       "dtype: int64"
      ]
     },
     "execution_count": 120,
     "metadata": {},
     "output_type": "execute_result"
    }
   ],
   "source": [
    "# посмотрим на пропуски \n",
    "air.isna().sum()"
   ]
  },
  {
   "cell_type": "code",
   "execution_count": 121,
   "metadata": {},
   "outputs": [
    {
     "data": {
      "text/plain": [
       "15.133392362180475"
      ]
     },
     "execution_count": 121,
     "metadata": {},
     "output_type": "execute_result"
    }
   ],
   "source": [
    "# заполним пропуски медианным значением\n",
    "air['Arrival Delay in Minutes'] = air['Arrival Delay in Minutes'].fillna(air['Arrival Delay in Minutes'].median())\n",
    "air['Arrival Delay in Minutes'].mean()"
   ]
  },
  {
   "cell_type": "code",
   "execution_count": 133,
   "metadata": {},
   "outputs": [
    {
     "data": {
      "image/png": "[encoded data removed]",
      "text/plain": [
       "<Figure size 1500x600 with 1 Axes>"
      ]
     },
     "metadata": {},
     "output_type": "display_data"
    }
   ],
   "source": [
    "fig = plt.figure(figsize=(15,6))\n",
    "cp = sns.countplot(\n",
    "    air,\n",
    "    x = 'Gender',\n",
    "    hue='satisfaction'\n",
    ")\n",
    "cp.set(title='Распределение мужчин и женщин по удовлетворенности', xlabel='Пол', ylabel='Количество');"
   ]
  },
  {
   "cell_type": "code",
   "execution_count": 134,
   "metadata": {},
   "outputs": [
    {
     "data": {
      "image/png": "[encoded data removed]",
      "text/plain": [
       "<Figure size 1500x600 with 1 Axes>"
      ]
     },
     "metadata": {},
     "output_type": "display_data"
    }
   ],
   "source": [
    "fig = plt.figure(figsize=(15,6))\n",
    "cp = sns.countplot(\n",
    "    air,\n",
    "    x = 'Type of Travel',\n",
    "    hue='satisfaction'\n",
    ")\n",
    "cp.set(title='Распределение целей поездки и удовлетворенности', xlabel='Цель поездки', ylabel='Количество');"
   ]
  },
  {
   "cell_type": "code",
   "execution_count": 136,
   "metadata": {},
   "outputs": [
    {
     "data": {
      "text/plain": [
       "Class\n",
       "Business    34480\n",
       "Eco          8701\n",
       "Eco Plus     1844\n",
       "Name: id, dtype: int64"
      ]
     },
     "execution_count": 136,
     "metadata": {},
     "output_type": "execute_result"
    }
   ],
   "source": [
    "air[air['satisfaction'] == 'satisfied'].groupby('Class')['id'].count().sort_values(ascending=False)"
   ]
  },
  {
   "cell_type": "code",
   "execution_count": 137,
   "metadata": {},
   "outputs": [],
   "source": [
    "air['satisfaction'] = air['satisfaction'].map({'neutral or dissatisfied':0 , 'satisfied':1})\n",
    "air['Customer Type'] = air['Customer Type'].map({'Loyal Customer':1, 'disloyal Customer':0})\n",
    "air['Type of Travel'] = air['Type of Travel'].map({'Personal Travel':0, 'Business travel':1})\n",
    "air['Gender'] = air['Gender'].map({'Male': 0, 'Female': 1})"
   ]
  },
  {
   "cell_type": "code",
   "execution_count": 143,
   "metadata": {},
   "outputs": [
    {
     "data": {
      "text/plain": [
       "Index(['Class'], dtype='object')"
      ]
     },
     "execution_count": 143,
     "metadata": {},
     "output_type": "execute_result"
    }
   ],
   "source": [
    "# проверим, какие столбцы остались категориальными\n",
    "air.select_dtypes('object').columns"
   ]
  },
  {
   "cell_type": "code",
   "execution_count": 144,
   "metadata": {},
   "outputs": [],
   "source": [
    "# закидируем столбец Класса с помощью OHE\n",
    "air = pd.get_dummies(air, ['Class'])"
   ]
  },
  {
   "cell_type": "code",
   "execution_count": 145,
   "metadata": {},
   "outputs": [
    {
     "data": {
      "text/plain": [
       "(103904, 26)"
      ]
     },
     "execution_count": 145,
     "metadata": {},
     "output_type": "execute_result"
    }
   ],
   "source": [
    "# итоговый размер датасета\n",
    "air.shape"
   ]
  },
  {
   "cell_type": "code",
   "execution_count": 146,
   "metadata": {},
   "outputs": [],
   "source": [
    "# разобьем столбцы на признаки и целевую переменную\n",
    "X = air.drop('satisfaction', axis=1)\n",
    "y = air[['satisfaction']]"
   ]
  },
  {
   "cell_type": "code",
   "execution_count": 149,
   "metadata": {},
   "outputs": [
    {
     "data": {
      "text/plain": [
       "(20781, 25)"
      ]
     },
     "execution_count": 149,
     "metadata": {},
     "output_type": "execute_result"
    }
   ],
   "source": [
    "# разобьем признаки на тренировочную и тестовую выборки\n",
    "X_train, X_test, y_train, y_test = model_selection.train_test_split(X, y, test_size=0.2, random_state=26)\n",
    "X_test.shape"
   ]
  },
  {
   "cell_type": "code",
   "execution_count": 151,
   "metadata": {},
   "outputs": [],
   "source": [
    "# стандартизируем данные\n",
    "scale = StandardScaler().fit(X_train)\n",
    "X_train_scaled = scale.transform(X_train)\n",
    "X_test_scaled = scale.transform(X_test)"
   ]
  },
  {
   "cell_type": "code",
   "execution_count": 156,
   "metadata": {},
   "outputs": [
    {
     "name": "stderr",
     "output_type": "stream",
     "text": [
      "C:\\Users\\vadim.kopytko\\AppData\\Roaming\\Python\\Python310\\site-packages\\sklearn\\utils\\validation.py:1183: DataConversionWarning: A column-vector y was passed when a 1d array was expected. Please change the shape of y to (n_samples, ), for example using ravel().\n",
      "  y = column_or_1d(y, warn=True)\n"
     ]
    },
    {
     "name": "stdout",
     "output_type": "stream",
     "text": [
      "f1 train: 0.854\n",
      "f1 test: 0.855\n"
     ]
    }
   ],
   "source": [
    "# модель логистической регрессии\n",
    "lg = linear_model.LogisticRegression().fit(X_train_scaled, y_train)\n",
    "y_train_pred_lg = lg.predict(X_train_scaled)\n",
    "y_test_pred_lg = lg.predict(X_test_scaled)\n",
    "print('f1 train: {}'.format(np.round(metrics.f1_score(y_train, y_train_pred_lg), 3)))\n",
    "print('f1 test: {}'.format(np.round(metrics.f1_score(y_test, y_test_pred_lg), 3)))"
   ]
  },
  {
   "cell_type": "code",
   "execution_count": 157,
   "metadata": {},
   "outputs": [
    {
     "name": "stderr",
     "output_type": "stream",
     "text": [
      "C:\\Users\\vadim.kopytko\\AppData\\Roaming\\Python\\Python310\\site-packages\\sklearn\\utils\\validation.py:1183: DataConversionWarning: A column-vector y was passed when a 1d array was expected. Please change the shape of y to (n_samples, ), for example using ravel().\n",
      "  y = column_or_1d(y, warn=True)\n"
     ]
    },
    {
     "name": "stdout",
     "output_type": "stream",
     "text": [
      "f1 train: 1.0\n",
      "f1 test: 0.941\n"
     ]
    }
   ],
   "source": [
    "# ансамбль AdaBoost\n",
    "ab = ensemble.AdaBoostClassifier(\n",
    "    estimator=tree.DecisionTreeClassifier(random_state = 26),\n",
    "    learning_rate=0.01)\n",
    "ab.fit(X_train_scaled, y_train)\n",
    "y_train_pred_ab = ab.predict(X_train_scaled)\n",
    "y_test_pred_ab = ab.predict(X_test_scaled)\n",
    "print('f1 train: {}'.format(np.round(metrics.f1_score(y_train, y_train_pred_ab), 3)))\n",
    "print('f1 test: {}'.format(np.round(metrics.f1_score(y_test, y_test_pred_ab), 3)))"
   ]
  },
  {
   "cell_type": "code",
   "execution_count": 159,
   "metadata": {},
   "outputs": [
    {
     "name": "stdout",
     "output_type": "stream",
     "text": [
      "Fitting 5 folds for each of 24 candidates, totalling 120 fits\n"
     ]
    },
    {
     "name": "stderr",
     "output_type": "stream",
     "text": [
      "C:\\Users\\vadim.kopytko\\AppData\\Roaming\\Python\\Python310\\site-packages\\sklearn\\ensemble\\_gb.py:424: DataConversionWarning: A column-vector y was passed when a 1d array was expected. Please change the shape of y to (n_samples, ), for example using ravel().\n",
      "  y = column_or_1d(y, warn=True)\n"
     ]
    },
    {
     "data": {
      "text/plain": [
       "make_scorer(f1_score, average=binary)"
      ]
     },
     "execution_count": 159,
     "metadata": {},
     "output_type": "execute_result"
    }
   ],
   "source": [
    "# ансамбль AdaBoost\n",
    "params = {\"n_estimators\":2**np.arange(8), \"learning_rate\":0.1**np.arange(3)}\n",
    "\n",
    "gs_gb = model_selection.GridSearchCV(\n",
    "    ensemble.GradientBoostingClassifier(), \n",
    "    params,\n",
    "    n_jobs=-1,\n",
    "    verbose=True,\n",
    "    scoring='f1')\n",
    "gs_gb.fit(X_train_scaled, y_train)\n",
    "gs_gb.scorer_"
   ]
  },
  {
   "cell_type": "code",
   "execution_count": 164,
   "metadata": {},
   "outputs": [
    {
     "data": {
      "text/plain": [
       "0.95"
      ]
     },
     "execution_count": 164,
     "metadata": {},
     "output_type": "execute_result"
    }
   ],
   "source": [
    "gs_gb.best_score_.round(3)"
   ]
  },
  {
   "cell_type": "code",
   "execution_count": 167,
   "metadata": {},
   "outputs": [
    {
     "name": "stdout",
     "output_type": "stream",
     "text": [
      "f1 train: 0.976\n",
      "f1 test: 0.957\n"
     ]
    }
   ],
   "source": [
    "xgb = xgboost.XGBClassifier(random_state = 26)\n",
    "xgb.fit(X_train_scaled, y_train)\n",
    "\n",
    "y_train_pred_xgb = xgb.predict(X_train_scaled)\n",
    "y_test_pred_xgb = xgb.predict(X_test_scaled)\n",
    "print('f1 train: {}'.format(np.round(metrics.f1_score(y_train, y_train_pred_xgb), 3)))\n",
    "print('f1 test: {}'.format(np.round(metrics.f1_score(y_test, y_test_pred_xgb), 3)))"
   ]
  },
  {
   "cell_type": "code",
   "execution_count": 168,
   "metadata": {},
   "outputs": [
    {
     "name": "stdout",
     "output_type": "stream",
     "text": [
      "Learning rate set to 0.068023\n",
      "0:\tlearn: 0.6018089\ttotal: 141ms\tremaining: 2m 20s\n",
      "1:\tlearn: 0.5020769\ttotal: 154ms\tremaining: 1m 16s\n",
      "2:\tlearn: 0.4472481\ttotal: 166ms\tremaining: 55.2s\n",
      "3:\tlearn: 0.4028675\ttotal: 179ms\tremaining: 44.6s\n",
      "4:\tlearn: 0.3674724\ttotal: 192ms\tremaining: 38.3s\n",
      "5:\tlearn: 0.3397844\ttotal: 208ms\tremaining: 34.5s\n",
      "6:\tlearn: 0.3121211\ttotal: 254ms\tremaining: 36s\n",
      "7:\tlearn: 0.2917499\ttotal: 297ms\tremaining: 36.8s\n",
      "8:\tlearn: 0.2749039\ttotal: 324ms\tremaining: 35.7s\n",
      "9:\tlearn: 0.2575191\ttotal: 341ms\tremaining: 33.7s\n",
      "10:\tlearn: 0.2473690\ttotal: 354ms\tremaining: 31.8s\n",
      "11:\tlearn: 0.2377531\ttotal: 365ms\tremaining: 30s\n",
      "12:\tlearn: 0.2279309\ttotal: 377ms\tremaining: 28.6s\n",
      "13:\tlearn: 0.2212512\ttotal: 390ms\tremaining: 27.5s\n",
      "14:\tlearn: 0.2100359\ttotal: 405ms\tremaining: 26.6s\n",
      "15:\tlearn: 0.2025733\ttotal: 422ms\tremaining: 26s\n",
      "16:\tlearn: 0.1942303\ttotal: 434ms\tremaining: 25.1s\n",
      "17:\tlearn: 0.1877939\ttotal: 448ms\tremaining: 24.4s\n",
      "18:\tlearn: 0.1832381\ttotal: 462ms\tremaining: 23.8s\n",
      "19:\tlearn: 0.1797364\ttotal: 476ms\tremaining: 23.3s\n",
      "20:\tlearn: 0.1766271\ttotal: 490ms\tremaining: 22.8s\n",
      "21:\tlearn: 0.1724834\ttotal: 504ms\tremaining: 22.4s\n",
      "22:\tlearn: 0.1681076\ttotal: 518ms\tremaining: 22s\n",
      "23:\tlearn: 0.1659676\ttotal: 534ms\tremaining: 21.7s\n",
      "24:\tlearn: 0.1636305\ttotal: 547ms\tremaining: 21.3s\n",
      "25:\tlearn: 0.1615296\ttotal: 563ms\tremaining: 21.1s\n",
      "26:\tlearn: 0.1591234\ttotal: 575ms\tremaining: 20.7s\n",
      "27:\tlearn: 0.1572189\ttotal: 591ms\tremaining: 20.5s\n",
      "28:\tlearn: 0.1557160\ttotal: 606ms\tremaining: 20.3s\n",
      "29:\tlearn: 0.1541993\ttotal: 622ms\tremaining: 20.1s\n",
      "30:\tlearn: 0.1527118\ttotal: 639ms\tremaining: 20s\n",
      "31:\tlearn: 0.1511750\ttotal: 654ms\tremaining: 19.8s\n",
      "32:\tlearn: 0.1495155\ttotal: 670ms\tremaining: 19.6s\n",
      "33:\tlearn: 0.1482199\ttotal: 687ms\tremaining: 19.5s\n",
      "34:\tlearn: 0.1447921\ttotal: 703ms\tremaining: 19.4s\n",
      "35:\tlearn: 0.1437619\ttotal: 719ms\tremaining: 19.3s\n",
      "36:\tlearn: 0.1428307\ttotal: 733ms\tremaining: 19.1s\n",
      "37:\tlearn: 0.1418335\ttotal: 746ms\tremaining: 18.9s\n",
      "38:\tlearn: 0.1405886\ttotal: 760ms\tremaining: 18.7s\n",
      "39:\tlearn: 0.1393059\ttotal: 771ms\tremaining: 18.5s\n",
      "40:\tlearn: 0.1385384\ttotal: 785ms\tremaining: 18.4s\n",
      "41:\tlearn: 0.1375509\ttotal: 798ms\tremaining: 18.2s\n",
      "42:\tlearn: 0.1359836\ttotal: 810ms\tremaining: 18s\n",
      "43:\tlearn: 0.1347066\ttotal: 821ms\tremaining: 17.8s\n",
      "44:\tlearn: 0.1327072\ttotal: 833ms\tremaining: 17.7s\n",
      "45:\tlearn: 0.1316580\ttotal: 846ms\tremaining: 17.6s\n",
      "46:\tlearn: 0.1304422\ttotal: 859ms\tremaining: 17.4s\n",
      "47:\tlearn: 0.1299835\ttotal: 870ms\tremaining: 17.3s\n",
      "48:\tlearn: 0.1295421\ttotal: 889ms\tremaining: 17.2s\n",
      "49:\tlearn: 0.1290791\ttotal: 899ms\tremaining: 17.1s\n",
      "50:\tlearn: 0.1285284\ttotal: 912ms\tremaining: 17s\n",
      "51:\tlearn: 0.1280241\ttotal: 925ms\tremaining: 16.9s\n",
      "52:\tlearn: 0.1272418\ttotal: 939ms\tremaining: 16.8s\n",
      "53:\tlearn: 0.1265525\ttotal: 955ms\tremaining: 16.7s\n",
      "54:\tlearn: 0.1258799\ttotal: 968ms\tremaining: 16.6s\n",
      "55:\tlearn: 0.1248607\ttotal: 984ms\tremaining: 16.6s\n",
      "56:\tlearn: 0.1242196\ttotal: 1s\tremaining: 16.6s\n",
      "57:\tlearn: 0.1240465\ttotal: 1.01s\tremaining: 16.5s\n",
      "58:\tlearn: 0.1227505\ttotal: 1.06s\tremaining: 16.9s\n",
      "59:\tlearn: 0.1219311\ttotal: 1.09s\tremaining: 17.1s\n",
      "60:\tlearn: 0.1214669\ttotal: 1.11s\tremaining: 17.1s\n",
      "61:\tlearn: 0.1209629\ttotal: 1.13s\tremaining: 17.1s\n",
      "62:\tlearn: 0.1204270\ttotal: 1.15s\tremaining: 17.2s\n",
      "63:\tlearn: 0.1197952\ttotal: 1.17s\tremaining: 17.1s\n",
      "64:\tlearn: 0.1188689\ttotal: 1.19s\tremaining: 17.2s\n",
      "65:\tlearn: 0.1179641\ttotal: 1.22s\tremaining: 17.2s\n",
      "66:\tlearn: 0.1175382\ttotal: 1.24s\tremaining: 17.2s\n",
      "67:\tlearn: 0.1170936\ttotal: 1.25s\tremaining: 17.2s\n",
      "68:\tlearn: 0.1167482\ttotal: 1.27s\tremaining: 17.2s\n",
      "69:\tlearn: 0.1164256\ttotal: 1.3s\tremaining: 17.3s\n",
      "70:\tlearn: 0.1161023\ttotal: 1.32s\tremaining: 17.3s\n",
      "71:\tlearn: 0.1154266\ttotal: 1.34s\tremaining: 17.2s\n",
      "72:\tlearn: 0.1143862\ttotal: 1.36s\tremaining: 17.2s\n",
      "73:\tlearn: 0.1141025\ttotal: 1.37s\tremaining: 17.2s\n",
      "74:\tlearn: 0.1138526\ttotal: 1.39s\tremaining: 17.2s\n",
      "75:\tlearn: 0.1134943\ttotal: 1.41s\tremaining: 17.1s\n",
      "76:\tlearn: 0.1132630\ttotal: 1.43s\tremaining: 17.1s\n",
      "77:\tlearn: 0.1129337\ttotal: 1.44s\tremaining: 17.1s\n",
      "78:\tlearn: 0.1123692\ttotal: 1.46s\tremaining: 17s\n",
      "79:\tlearn: 0.1120446\ttotal: 1.47s\tremaining: 17s\n",
      "80:\tlearn: 0.1117098\ttotal: 1.49s\tremaining: 16.9s\n",
      "81:\tlearn: 0.1108359\ttotal: 1.51s\tremaining: 16.9s\n",
      "82:\tlearn: 0.1102779\ttotal: 1.52s\tremaining: 16.8s\n",
      "83:\tlearn: 0.1099572\ttotal: 1.54s\tremaining: 16.8s\n",
      "84:\tlearn: 0.1098577\ttotal: 1.55s\tremaining: 16.7s\n",
      "85:\tlearn: 0.1092686\ttotal: 1.57s\tremaining: 16.7s\n",
      "86:\tlearn: 0.1090128\ttotal: 1.58s\tremaining: 16.6s\n",
      "87:\tlearn: 0.1087985\ttotal: 1.59s\tremaining: 16.5s\n",
      "88:\tlearn: 0.1081520\ttotal: 1.61s\tremaining: 16.5s\n",
      "89:\tlearn: 0.1079692\ttotal: 1.62s\tremaining: 16.4s\n",
      "90:\tlearn: 0.1077513\ttotal: 1.63s\tremaining: 16.3s\n",
      "91:\tlearn: 0.1075283\ttotal: 1.65s\tremaining: 16.2s\n",
      "92:\tlearn: 0.1071405\ttotal: 1.66s\tremaining: 16.2s\n",
      "93:\tlearn: 0.1070247\ttotal: 1.67s\tremaining: 16.1s\n",
      "94:\tlearn: 0.1068192\ttotal: 1.68s\tremaining: 16s\n",
      "95:\tlearn: 0.1064461\ttotal: 1.69s\tremaining: 15.9s\n",
      "96:\tlearn: 0.1059301\ttotal: 1.7s\tremaining: 15.9s\n",
      "97:\tlearn: 0.1056716\ttotal: 1.71s\tremaining: 15.8s\n",
      "98:\tlearn: 0.1054190\ttotal: 1.73s\tremaining: 15.7s\n",
      "99:\tlearn: 0.1051352\ttotal: 1.74s\tremaining: 15.7s\n",
      "100:\tlearn: 0.1047668\ttotal: 1.76s\tremaining: 15.7s\n",
      "101:\tlearn: 0.1044767\ttotal: 1.77s\tremaining: 15.6s\n",
      "102:\tlearn: 0.1041726\ttotal: 1.78s\tremaining: 15.6s\n",
      "103:\tlearn: 0.1039212\ttotal: 1.8s\tremaining: 15.5s\n",
      "104:\tlearn: 0.1034243\ttotal: 1.81s\tremaining: 15.4s\n",
      "105:\tlearn: 0.1032076\ttotal: 1.83s\tremaining: 15.4s\n",
      "106:\tlearn: 0.1030340\ttotal: 1.84s\tremaining: 15.4s\n",
      "107:\tlearn: 0.1025610\ttotal: 1.86s\tremaining: 15.4s\n",
      "108:\tlearn: 0.1022940\ttotal: 1.87s\tremaining: 15.3s\n",
      "109:\tlearn: 0.1021190\ttotal: 1.89s\tremaining: 15.3s\n",
      "110:\tlearn: 0.1017958\ttotal: 1.91s\tremaining: 15.3s\n",
      "111:\tlearn: 0.1015856\ttotal: 1.92s\tremaining: 15.2s\n",
      "112:\tlearn: 0.1011751\ttotal: 1.94s\tremaining: 15.2s\n",
      "113:\tlearn: 0.1008759\ttotal: 1.95s\tremaining: 15.2s\n",
      "114:\tlearn: 0.1006959\ttotal: 1.96s\tremaining: 15.1s\n",
      "115:\tlearn: 0.1005649\ttotal: 1.98s\tremaining: 15.1s\n",
      "116:\tlearn: 0.1003042\ttotal: 1.99s\tremaining: 15s\n",
      "117:\tlearn: 0.1000930\ttotal: 2s\tremaining: 15s\n",
      "118:\tlearn: 0.0999173\ttotal: 2.02s\tremaining: 14.9s\n",
      "119:\tlearn: 0.0995889\ttotal: 2.03s\tremaining: 14.9s\n",
      "120:\tlearn: 0.0992166\ttotal: 2.04s\tremaining: 14.8s\n",
      "121:\tlearn: 0.0991356\ttotal: 2.05s\tremaining: 14.7s\n",
      "122:\tlearn: 0.0990490\ttotal: 2.06s\tremaining: 14.7s\n",
      "123:\tlearn: 0.0988977\ttotal: 2.07s\tremaining: 14.6s\n",
      "124:\tlearn: 0.0987813\ttotal: 2.08s\tremaining: 14.6s\n",
      "125:\tlearn: 0.0982176\ttotal: 2.09s\tremaining: 14.5s\n",
      "126:\tlearn: 0.0979958\ttotal: 2.1s\tremaining: 14.4s\n",
      "127:\tlearn: 0.0975458\ttotal: 2.11s\tremaining: 14.4s\n",
      "128:\tlearn: 0.0973966\ttotal: 2.12s\tremaining: 14.3s\n",
      "129:\tlearn: 0.0971498\ttotal: 2.13s\tremaining: 14.3s\n",
      "130:\tlearn: 0.0969599\ttotal: 2.15s\tremaining: 14.2s\n",
      "131:\tlearn: 0.0968171\ttotal: 2.16s\tremaining: 14.2s\n",
      "132:\tlearn: 0.0966654\ttotal: 2.17s\tremaining: 14.2s\n",
      "133:\tlearn: 0.0965935\ttotal: 2.18s\tremaining: 14.1s\n",
      "134:\tlearn: 0.0965290\ttotal: 2.19s\tremaining: 14.1s\n",
      "135:\tlearn: 0.0963292\ttotal: 2.21s\tremaining: 14s\n",
      "136:\tlearn: 0.0962325\ttotal: 2.22s\tremaining: 14s\n",
      "137:\tlearn: 0.0960270\ttotal: 2.23s\tremaining: 13.9s\n",
      "138:\tlearn: 0.0957716\ttotal: 2.24s\tremaining: 13.9s\n",
      "139:\tlearn: 0.0956518\ttotal: 2.25s\tremaining: 13.8s\n",
      "140:\tlearn: 0.0954566\ttotal: 2.26s\tremaining: 13.8s\n",
      "141:\tlearn: 0.0952810\ttotal: 2.27s\tremaining: 13.7s\n",
      "142:\tlearn: 0.0951754\ttotal: 2.29s\tremaining: 13.7s\n",
      "143:\tlearn: 0.0950736\ttotal: 2.3s\tremaining: 13.7s\n",
      "144:\tlearn: 0.0948308\ttotal: 2.31s\tremaining: 13.6s\n",
      "145:\tlearn: 0.0947879\ttotal: 2.32s\tremaining: 13.6s\n",
      "146:\tlearn: 0.0942155\ttotal: 2.33s\tremaining: 13.5s\n",
      "147:\tlearn: 0.0940961\ttotal: 2.35s\tremaining: 13.5s\n",
      "148:\tlearn: 0.0939182\ttotal: 2.36s\tremaining: 13.5s\n",
      "149:\tlearn: 0.0937727\ttotal: 2.37s\tremaining: 13.4s\n",
      "150:\tlearn: 0.0935927\ttotal: 2.38s\tremaining: 13.4s\n",
      "151:\tlearn: 0.0935436\ttotal: 2.39s\tremaining: 13.4s\n",
      "152:\tlearn: 0.0931701\ttotal: 2.4s\tremaining: 13.3s\n",
      "153:\tlearn: 0.0929398\ttotal: 2.42s\tremaining: 13.3s\n",
      "154:\tlearn: 0.0928262\ttotal: 2.43s\tremaining: 13.2s\n",
      "155:\tlearn: 0.0926361\ttotal: 2.44s\tremaining: 13.2s\n",
      "156:\tlearn: 0.0923513\ttotal: 2.45s\tremaining: 13.1s\n",
      "157:\tlearn: 0.0922529\ttotal: 2.46s\tremaining: 13.1s\n",
      "158:\tlearn: 0.0921441\ttotal: 2.47s\tremaining: 13.1s\n",
      "159:\tlearn: 0.0920108\ttotal: 2.48s\tremaining: 13s\n",
      "160:\tlearn: 0.0918072\ttotal: 2.49s\tremaining: 13s\n",
      "161:\tlearn: 0.0917629\ttotal: 2.51s\tremaining: 13s\n",
      "162:\tlearn: 0.0916563\ttotal: 2.52s\tremaining: 12.9s\n",
      "163:\tlearn: 0.0915352\ttotal: 2.53s\tremaining: 12.9s\n",
      "164:\tlearn: 0.0913331\ttotal: 2.54s\tremaining: 12.8s\n",
      "165:\tlearn: 0.0911234\ttotal: 2.55s\tremaining: 12.8s\n",
      "166:\tlearn: 0.0909359\ttotal: 2.56s\tremaining: 12.8s\n",
      "167:\tlearn: 0.0907373\ttotal: 2.58s\tremaining: 12.8s\n",
      "168:\tlearn: 0.0905480\ttotal: 2.59s\tremaining: 12.7s\n",
      "169:\tlearn: 0.0903470\ttotal: 2.6s\tremaining: 12.7s\n",
      "170:\tlearn: 0.0903090\ttotal: 2.61s\tremaining: 12.7s\n",
      "171:\tlearn: 0.0901972\ttotal: 2.63s\tremaining: 12.7s\n",
      "172:\tlearn: 0.0900302\ttotal: 2.64s\tremaining: 12.6s\n",
      "173:\tlearn: 0.0898935\ttotal: 2.65s\tremaining: 12.6s\n",
      "174:\tlearn: 0.0897223\ttotal: 2.67s\tremaining: 12.6s\n",
      "175:\tlearn: 0.0896837\ttotal: 2.67s\tremaining: 12.5s\n",
      "176:\tlearn: 0.0892261\ttotal: 2.69s\tremaining: 12.5s\n",
      "177:\tlearn: 0.0890884\ttotal: 2.7s\tremaining: 12.5s\n",
      "178:\tlearn: 0.0889683\ttotal: 2.71s\tremaining: 12.4s\n",
      "179:\tlearn: 0.0888734\ttotal: 2.72s\tremaining: 12.4s\n",
      "180:\tlearn: 0.0887797\ttotal: 2.73s\tremaining: 12.4s\n",
      "181:\tlearn: 0.0886890\ttotal: 2.74s\tremaining: 12.3s\n",
      "182:\tlearn: 0.0886168\ttotal: 2.75s\tremaining: 12.3s\n",
      "183:\tlearn: 0.0885335\ttotal: 2.76s\tremaining: 12.3s\n",
      "184:\tlearn: 0.0884627\ttotal: 2.77s\tremaining: 12.2s\n",
      "185:\tlearn: 0.0883685\ttotal: 2.79s\tremaining: 12.2s\n",
      "186:\tlearn: 0.0882691\ttotal: 2.8s\tremaining: 12.2s\n",
      "187:\tlearn: 0.0880897\ttotal: 2.81s\tremaining: 12.1s\n",
      "188:\tlearn: 0.0880303\ttotal: 2.82s\tremaining: 12.1s\n",
      "189:\tlearn: 0.0879232\ttotal: 2.84s\tremaining: 12.1s\n",
      "190:\tlearn: 0.0876440\ttotal: 2.85s\tremaining: 12.1s\n",
      "191:\tlearn: 0.0875253\ttotal: 2.86s\tremaining: 12s\n",
      "192:\tlearn: 0.0874791\ttotal: 2.87s\tremaining: 12s\n",
      "193:\tlearn: 0.0872907\ttotal: 2.88s\tremaining: 12s\n",
      "194:\tlearn: 0.0872521\ttotal: 2.9s\tremaining: 12s\n",
      "195:\tlearn: 0.0870327\ttotal: 2.9s\tremaining: 11.9s\n",
      "196:\tlearn: 0.0868900\ttotal: 2.92s\tremaining: 11.9s\n",
      "197:\tlearn: 0.0868130\ttotal: 2.93s\tremaining: 11.9s\n",
      "198:\tlearn: 0.0867343\ttotal: 2.94s\tremaining: 11.8s\n",
      "199:\tlearn: 0.0866017\ttotal: 2.95s\tremaining: 11.8s\n",
      "200:\tlearn: 0.0865260\ttotal: 2.96s\tremaining: 11.8s\n",
      "201:\tlearn: 0.0864278\ttotal: 2.97s\tremaining: 11.7s\n",
      "202:\tlearn: 0.0863128\ttotal: 2.98s\tremaining: 11.7s\n",
      "203:\tlearn: 0.0862005\ttotal: 3s\tremaining: 11.7s\n",
      "204:\tlearn: 0.0861285\ttotal: 3.01s\tremaining: 11.7s\n",
      "205:\tlearn: 0.0860501\ttotal: 3.02s\tremaining: 11.6s\n",
      "206:\tlearn: 0.0858724\ttotal: 3.03s\tremaining: 11.6s\n",
      "207:\tlearn: 0.0857588\ttotal: 3.05s\tremaining: 11.6s\n",
      "208:\tlearn: 0.0856918\ttotal: 3.06s\tremaining: 11.6s\n",
      "209:\tlearn: 0.0855529\ttotal: 3.07s\tremaining: 11.5s\n",
      "210:\tlearn: 0.0854904\ttotal: 3.08s\tremaining: 11.5s\n",
      "211:\tlearn: 0.0854200\ttotal: 3.09s\tremaining: 11.5s\n",
      "212:\tlearn: 0.0853753\ttotal: 3.1s\tremaining: 11.5s\n",
      "213:\tlearn: 0.0853244\ttotal: 3.11s\tremaining: 11.4s\n",
      "214:\tlearn: 0.0852699\ttotal: 3.12s\tremaining: 11.4s\n",
      "215:\tlearn: 0.0852531\ttotal: 3.13s\tremaining: 11.4s\n",
      "216:\tlearn: 0.0852272\ttotal: 3.14s\tremaining: 11.3s\n",
      "217:\tlearn: 0.0851339\ttotal: 3.15s\tremaining: 11.3s\n",
      "218:\tlearn: 0.0850793\ttotal: 3.17s\tremaining: 11.3s\n",
      "219:\tlearn: 0.0850413\ttotal: 3.18s\tremaining: 11.3s\n",
      "220:\tlearn: 0.0849352\ttotal: 3.19s\tremaining: 11.3s\n",
      "221:\tlearn: 0.0848262\ttotal: 3.21s\tremaining: 11.2s\n",
      "222:\tlearn: 0.0846502\ttotal: 3.22s\tremaining: 11.2s\n",
      "223:\tlearn: 0.0846197\ttotal: 3.23s\tremaining: 11.2s\n",
      "224:\tlearn: 0.0843216\ttotal: 3.24s\tremaining: 11.2s\n",
      "225:\tlearn: 0.0841928\ttotal: 3.25s\tremaining: 11.1s\n",
      "226:\tlearn: 0.0841318\ttotal: 3.26s\tremaining: 11.1s\n",
      "227:\tlearn: 0.0840858\ttotal: 3.28s\tremaining: 11.1s\n",
      "228:\tlearn: 0.0839087\ttotal: 3.29s\tremaining: 11.1s\n",
      "229:\tlearn: 0.0838526\ttotal: 3.3s\tremaining: 11s\n",
      "230:\tlearn: 0.0837752\ttotal: 3.31s\tremaining: 11s\n",
      "231:\tlearn: 0.0836685\ttotal: 3.32s\tremaining: 11s\n",
      "232:\tlearn: 0.0836083\ttotal: 3.33s\tremaining: 11s\n",
      "233:\tlearn: 0.0835118\ttotal: 3.34s\tremaining: 10.9s\n",
      "234:\tlearn: 0.0834419\ttotal: 3.35s\tremaining: 10.9s\n",
      "235:\tlearn: 0.0833728\ttotal: 3.37s\tremaining: 10.9s\n",
      "236:\tlearn: 0.0832125\ttotal: 3.38s\tremaining: 10.9s\n",
      "237:\tlearn: 0.0831310\ttotal: 3.39s\tremaining: 10.9s\n",
      "238:\tlearn: 0.0830954\ttotal: 3.4s\tremaining: 10.8s\n",
      "239:\tlearn: 0.0830330\ttotal: 3.41s\tremaining: 10.8s\n",
      "240:\tlearn: 0.0829694\ttotal: 3.42s\tremaining: 10.8s\n",
      "241:\tlearn: 0.0829021\ttotal: 3.44s\tremaining: 10.8s\n",
      "242:\tlearn: 0.0828268\ttotal: 3.45s\tremaining: 10.8s\n",
      "243:\tlearn: 0.0827828\ttotal: 3.46s\tremaining: 10.7s\n",
      "244:\tlearn: 0.0827387\ttotal: 3.47s\tremaining: 10.7s\n",
      "245:\tlearn: 0.0826597\ttotal: 3.48s\tremaining: 10.7s\n",
      "246:\tlearn: 0.0825863\ttotal: 3.5s\tremaining: 10.7s\n",
      "247:\tlearn: 0.0825107\ttotal: 3.51s\tremaining: 10.6s\n",
      "248:\tlearn: 0.0824741\ttotal: 3.52s\tremaining: 10.6s\n",
      "249:\tlearn: 0.0824306\ttotal: 3.53s\tremaining: 10.6s\n",
      "250:\tlearn: 0.0824052\ttotal: 3.54s\tremaining: 10.6s\n",
      "251:\tlearn: 0.0823486\ttotal: 3.55s\tremaining: 10.5s\n",
      "252:\tlearn: 0.0822370\ttotal: 3.56s\tremaining: 10.5s\n",
      "253:\tlearn: 0.0821948\ttotal: 3.57s\tremaining: 10.5s\n",
      "254:\tlearn: 0.0821169\ttotal: 3.58s\tremaining: 10.5s\n",
      "255:\tlearn: 0.0820326\ttotal: 3.6s\tremaining: 10.5s\n",
      "256:\tlearn: 0.0819758\ttotal: 3.61s\tremaining: 10.4s\n",
      "257:\tlearn: 0.0818549\ttotal: 3.62s\tremaining: 10.4s\n",
      "258:\tlearn: 0.0817909\ttotal: 3.63s\tremaining: 10.4s\n",
      "259:\tlearn: 0.0817125\ttotal: 3.64s\tremaining: 10.4s\n",
      "260:\tlearn: 0.0816450\ttotal: 3.66s\tremaining: 10.4s\n",
      "261:\tlearn: 0.0815432\ttotal: 3.67s\tremaining: 10.3s\n",
      "262:\tlearn: 0.0814952\ttotal: 3.68s\tremaining: 10.3s\n",
      "263:\tlearn: 0.0814396\ttotal: 3.69s\tremaining: 10.3s\n",
      "264:\tlearn: 0.0814124\ttotal: 3.7s\tremaining: 10.3s\n",
      "265:\tlearn: 0.0814046\ttotal: 3.71s\tremaining: 10.2s\n",
      "266:\tlearn: 0.0812999\ttotal: 3.72s\tremaining: 10.2s\n",
      "267:\tlearn: 0.0812328\ttotal: 3.73s\tremaining: 10.2s\n",
      "268:\tlearn: 0.0812006\ttotal: 3.74s\tremaining: 10.2s\n",
      "269:\tlearn: 0.0810944\ttotal: 3.75s\tremaining: 10.1s\n",
      "270:\tlearn: 0.0810518\ttotal: 3.76s\tremaining: 10.1s\n",
      "271:\tlearn: 0.0809828\ttotal: 3.77s\tremaining: 10.1s\n",
      "272:\tlearn: 0.0809609\ttotal: 3.78s\tremaining: 10.1s\n",
      "273:\tlearn: 0.0808535\ttotal: 3.8s\tremaining: 10.1s\n",
      "274:\tlearn: 0.0807957\ttotal: 3.81s\tremaining: 10s\n",
      "275:\tlearn: 0.0807570\ttotal: 3.82s\tremaining: 10s\n",
      "276:\tlearn: 0.0806411\ttotal: 3.83s\tremaining: 10s\n",
      "277:\tlearn: 0.0805663\ttotal: 3.84s\tremaining: 9.98s\n",
      "278:\tlearn: 0.0804394\ttotal: 3.86s\tremaining: 9.97s\n",
      "279:\tlearn: 0.0803810\ttotal: 3.87s\tremaining: 9.95s\n",
      "280:\tlearn: 0.0802957\ttotal: 3.88s\tremaining: 9.94s\n",
      "281:\tlearn: 0.0802669\ttotal: 3.89s\tremaining: 9.92s\n",
      "282:\tlearn: 0.0802461\ttotal: 3.9s\tremaining: 9.89s\n",
      "283:\tlearn: 0.0801863\ttotal: 3.92s\tremaining: 9.88s\n",
      "284:\tlearn: 0.0801505\ttotal: 3.93s\tremaining: 9.86s\n",
      "285:\tlearn: 0.0801227\ttotal: 3.94s\tremaining: 9.85s\n",
      "286:\tlearn: 0.0801064\ttotal: 3.95s\tremaining: 9.82s\n",
      "287:\tlearn: 0.0800772\ttotal: 3.96s\tremaining: 9.8s\n",
      "288:\tlearn: 0.0799060\ttotal: 3.98s\tremaining: 9.78s\n",
      "289:\tlearn: 0.0797596\ttotal: 3.99s\tremaining: 9.76s\n",
      "290:\tlearn: 0.0797414\ttotal: 4s\tremaining: 9.74s\n",
      "291:\tlearn: 0.0797116\ttotal: 4.01s\tremaining: 9.72s\n",
      "292:\tlearn: 0.0796778\ttotal: 4.02s\tremaining: 9.69s\n",
      "293:\tlearn: 0.0796389\ttotal: 4.03s\tremaining: 9.68s\n",
      "294:\tlearn: 0.0795363\ttotal: 4.04s\tremaining: 9.66s\n",
      "295:\tlearn: 0.0794907\ttotal: 4.05s\tremaining: 9.64s\n",
      "296:\tlearn: 0.0794598\ttotal: 4.06s\tremaining: 9.62s\n",
      "297:\tlearn: 0.0793929\ttotal: 4.08s\tremaining: 9.61s\n",
      "298:\tlearn: 0.0793129\ttotal: 4.09s\tremaining: 9.59s\n",
      "299:\tlearn: 0.0792352\ttotal: 4.1s\tremaining: 9.56s\n",
      "300:\tlearn: 0.0790518\ttotal: 4.11s\tremaining: 9.55s\n",
      "301:\tlearn: 0.0789589\ttotal: 4.12s\tremaining: 9.53s\n",
      "302:\tlearn: 0.0788836\ttotal: 4.13s\tremaining: 9.51s\n",
      "303:\tlearn: 0.0788376\ttotal: 4.15s\tremaining: 9.49s\n",
      "304:\tlearn: 0.0787730\ttotal: 4.16s\tremaining: 9.47s\n",
      "305:\tlearn: 0.0787222\ttotal: 4.17s\tremaining: 9.45s\n",
      "306:\tlearn: 0.0786856\ttotal: 4.18s\tremaining: 9.43s\n",
      "307:\tlearn: 0.0786316\ttotal: 4.19s\tremaining: 9.41s\n",
      "308:\tlearn: 0.0785581\ttotal: 4.2s\tremaining: 9.39s\n",
      "309:\tlearn: 0.0785204\ttotal: 4.21s\tremaining: 9.37s\n",
      "310:\tlearn: 0.0784843\ttotal: 4.22s\tremaining: 9.36s\n",
      "311:\tlearn: 0.0784497\ttotal: 4.23s\tremaining: 9.34s\n",
      "312:\tlearn: 0.0784329\ttotal: 4.25s\tremaining: 9.32s\n",
      "313:\tlearn: 0.0783942\ttotal: 4.26s\tremaining: 9.31s\n",
      "314:\tlearn: 0.0783722\ttotal: 4.27s\tremaining: 9.29s\n",
      "315:\tlearn: 0.0782869\ttotal: 4.29s\tremaining: 9.28s\n",
      "316:\tlearn: 0.0782372\ttotal: 4.3s\tremaining: 9.26s\n",
      "317:\tlearn: 0.0782102\ttotal: 4.31s\tremaining: 9.24s\n",
      "318:\tlearn: 0.0781663\ttotal: 4.32s\tremaining: 9.23s\n",
      "319:\tlearn: 0.0781421\ttotal: 4.34s\tremaining: 9.22s\n",
      "320:\tlearn: 0.0781030\ttotal: 4.35s\tremaining: 9.2s\n",
      "321:\tlearn: 0.0780621\ttotal: 4.36s\tremaining: 9.18s\n",
      "322:\tlearn: 0.0779984\ttotal: 4.37s\tremaining: 9.16s\n",
      "323:\tlearn: 0.0779709\ttotal: 4.38s\tremaining: 9.15s\n",
      "324:\tlearn: 0.0778795\ttotal: 4.4s\tremaining: 9.13s\n",
      "325:\tlearn: 0.0777916\ttotal: 4.41s\tremaining: 9.11s\n",
      "326:\tlearn: 0.0777346\ttotal: 4.42s\tremaining: 9.1s\n",
      "327:\tlearn: 0.0776857\ttotal: 4.43s\tremaining: 9.08s\n",
      "328:\tlearn: 0.0776199\ttotal: 4.45s\tremaining: 9.07s\n",
      "329:\tlearn: 0.0775604\ttotal: 4.46s\tremaining: 9.05s\n",
      "330:\tlearn: 0.0774901\ttotal: 4.47s\tremaining: 9.04s\n",
      "331:\tlearn: 0.0774522\ttotal: 4.49s\tremaining: 9.02s\n",
      "332:\tlearn: 0.0774075\ttotal: 4.5s\tremaining: 9.01s\n",
      "333:\tlearn: 0.0773755\ttotal: 4.51s\tremaining: 8.99s\n",
      "334:\tlearn: 0.0773002\ttotal: 4.52s\tremaining: 8.97s\n",
      "335:\tlearn: 0.0772729\ttotal: 4.53s\tremaining: 8.96s\n",
      "336:\tlearn: 0.0771826\ttotal: 4.54s\tremaining: 8.94s\n",
      "337:\tlearn: 0.0770572\ttotal: 4.56s\tremaining: 8.92s\n",
      "338:\tlearn: 0.0769374\ttotal: 4.57s\tremaining: 8.91s\n",
      "339:\tlearn: 0.0768570\ttotal: 4.58s\tremaining: 8.89s\n",
      "340:\tlearn: 0.0767573\ttotal: 4.59s\tremaining: 8.87s\n",
      "341:\tlearn: 0.0766922\ttotal: 4.6s\tremaining: 8.85s\n",
      "342:\tlearn: 0.0765942\ttotal: 4.61s\tremaining: 8.84s\n",
      "343:\tlearn: 0.0765617\ttotal: 4.62s\tremaining: 8.82s\n",
      "344:\tlearn: 0.0765474\ttotal: 4.63s\tremaining: 8.8s\n",
      "345:\tlearn: 0.0765119\ttotal: 4.65s\tremaining: 8.79s\n",
      "346:\tlearn: 0.0764884\ttotal: 4.66s\tremaining: 8.77s\n",
      "347:\tlearn: 0.0764502\ttotal: 4.67s\tremaining: 8.76s\n",
      "348:\tlearn: 0.0764071\ttotal: 4.68s\tremaining: 8.74s\n",
      "349:\tlearn: 0.0763573\ttotal: 4.7s\tremaining: 8.72s\n",
      "350:\tlearn: 0.0763169\ttotal: 4.71s\tremaining: 8.7s\n",
      "351:\tlearn: 0.0762890\ttotal: 4.72s\tremaining: 8.68s\n",
      "352:\tlearn: 0.0761801\ttotal: 4.73s\tremaining: 8.67s\n",
      "353:\tlearn: 0.0761180\ttotal: 4.74s\tremaining: 8.65s\n",
      "354:\tlearn: 0.0761164\ttotal: 4.75s\tremaining: 8.63s\n",
      "355:\tlearn: 0.0760402\ttotal: 4.76s\tremaining: 8.62s\n",
      "356:\tlearn: 0.0760137\ttotal: 4.77s\tremaining: 8.6s\n",
      "357:\tlearn: 0.0759866\ttotal: 4.79s\tremaining: 8.58s\n",
      "358:\tlearn: 0.0759568\ttotal: 4.8s\tremaining: 8.57s\n",
      "359:\tlearn: 0.0758941\ttotal: 4.81s\tremaining: 8.56s\n",
      "360:\tlearn: 0.0758551\ttotal: 4.83s\tremaining: 8.54s\n",
      "361:\tlearn: 0.0758037\ttotal: 4.84s\tremaining: 8.53s\n",
      "362:\tlearn: 0.0757446\ttotal: 4.85s\tremaining: 8.51s\n",
      "363:\tlearn: 0.0757073\ttotal: 4.87s\tremaining: 8.51s\n",
      "364:\tlearn: 0.0756662\ttotal: 4.88s\tremaining: 8.49s\n",
      "365:\tlearn: 0.0756248\ttotal: 4.9s\tremaining: 8.49s\n",
      "366:\tlearn: 0.0755769\ttotal: 4.91s\tremaining: 8.47s\n",
      "367:\tlearn: 0.0755215\ttotal: 4.93s\tremaining: 8.46s\n",
      "368:\tlearn: 0.0754488\ttotal: 4.94s\tremaining: 8.45s\n",
      "369:\tlearn: 0.0754109\ttotal: 4.96s\tremaining: 8.44s\n",
      "370:\tlearn: 0.0753724\ttotal: 4.96s\tremaining: 8.42s\n",
      "371:\tlearn: 0.0753150\ttotal: 4.98s\tremaining: 8.4s\n",
      "372:\tlearn: 0.0752672\ttotal: 4.99s\tremaining: 8.39s\n",
      "373:\tlearn: 0.0751864\ttotal: 5s\tremaining: 8.37s\n",
      "374:\tlearn: 0.0751494\ttotal: 5.01s\tremaining: 8.35s\n",
      "375:\tlearn: 0.0751094\ttotal: 5.02s\tremaining: 8.34s\n",
      "376:\tlearn: 0.0750542\ttotal: 5.04s\tremaining: 8.32s\n",
      "377:\tlearn: 0.0750267\ttotal: 5.05s\tremaining: 8.3s\n",
      "378:\tlearn: 0.0749981\ttotal: 5.06s\tremaining: 8.29s\n",
      "379:\tlearn: 0.0748584\ttotal: 5.07s\tremaining: 8.28s\n",
      "380:\tlearn: 0.0747983\ttotal: 5.08s\tremaining: 8.26s\n",
      "381:\tlearn: 0.0747708\ttotal: 5.09s\tremaining: 8.24s\n",
      "382:\tlearn: 0.0747135\ttotal: 5.11s\tremaining: 8.23s\n",
      "383:\tlearn: 0.0746755\ttotal: 5.12s\tremaining: 8.21s\n",
      "384:\tlearn: 0.0746497\ttotal: 5.13s\tremaining: 8.2s\n",
      "385:\tlearn: 0.0746128\ttotal: 5.14s\tremaining: 8.18s\n",
      "386:\tlearn: 0.0745697\ttotal: 5.16s\tremaining: 8.17s\n",
      "387:\tlearn: 0.0745268\ttotal: 5.17s\tremaining: 8.15s\n",
      "388:\tlearn: 0.0744957\ttotal: 5.18s\tremaining: 8.14s\n",
      "389:\tlearn: 0.0744477\ttotal: 5.19s\tremaining: 8.12s\n",
      "390:\tlearn: 0.0744316\ttotal: 5.2s\tremaining: 8.1s\n",
      "391:\tlearn: 0.0743748\ttotal: 5.21s\tremaining: 8.09s\n",
      "392:\tlearn: 0.0743176\ttotal: 5.22s\tremaining: 8.07s\n",
      "393:\tlearn: 0.0742526\ttotal: 5.23s\tremaining: 8.05s\n",
      "394:\tlearn: 0.0741742\ttotal: 5.25s\tremaining: 8.03s\n",
      "395:\tlearn: 0.0740395\ttotal: 5.26s\tremaining: 8.02s\n",
      "396:\tlearn: 0.0739603\ttotal: 5.27s\tremaining: 8s\n",
      "397:\tlearn: 0.0739178\ttotal: 5.28s\tremaining: 7.98s\n",
      "398:\tlearn: 0.0738758\ttotal: 5.29s\tremaining: 7.97s\n",
      "399:\tlearn: 0.0738590\ttotal: 5.3s\tremaining: 7.95s\n",
      "400:\tlearn: 0.0738204\ttotal: 5.32s\tremaining: 7.94s\n",
      "401:\tlearn: 0.0737839\ttotal: 5.32s\tremaining: 7.92s\n",
      "402:\tlearn: 0.0737601\ttotal: 5.34s\tremaining: 7.91s\n",
      "403:\tlearn: 0.0737231\ttotal: 5.35s\tremaining: 7.89s\n",
      "404:\tlearn: 0.0736750\ttotal: 5.36s\tremaining: 7.87s\n",
      "405:\tlearn: 0.0736597\ttotal: 5.37s\tremaining: 7.86s\n",
      "406:\tlearn: 0.0736208\ttotal: 5.38s\tremaining: 7.84s\n",
      "407:\tlearn: 0.0735895\ttotal: 5.39s\tremaining: 7.82s\n",
      "408:\tlearn: 0.0735300\ttotal: 5.4s\tremaining: 7.81s\n",
      "409:\tlearn: 0.0734920\ttotal: 5.41s\tremaining: 7.79s\n",
      "410:\tlearn: 0.0734640\ttotal: 5.42s\tremaining: 7.78s\n",
      "411:\tlearn: 0.0734051\ttotal: 5.44s\tremaining: 7.76s\n",
      "412:\tlearn: 0.0732830\ttotal: 5.45s\tremaining: 7.75s\n",
      "413:\tlearn: 0.0732364\ttotal: 5.46s\tremaining: 7.73s\n",
      "414:\tlearn: 0.0731641\ttotal: 5.47s\tremaining: 7.72s\n",
      "415:\tlearn: 0.0731131\ttotal: 5.49s\tremaining: 7.7s\n",
      "416:\tlearn: 0.0730704\ttotal: 5.5s\tremaining: 7.69s\n",
      "417:\tlearn: 0.0730304\ttotal: 5.51s\tremaining: 7.67s\n",
      "418:\tlearn: 0.0729904\ttotal: 5.52s\tremaining: 7.66s\n",
      "419:\tlearn: 0.0729643\ttotal: 5.54s\tremaining: 7.64s\n",
      "420:\tlearn: 0.0729333\ttotal: 5.55s\tremaining: 7.63s\n",
      "421:\tlearn: 0.0728912\ttotal: 5.56s\tremaining: 7.61s\n",
      "422:\tlearn: 0.0728484\ttotal: 5.57s\tremaining: 7.59s\n",
      "423:\tlearn: 0.0728057\ttotal: 5.58s\tremaining: 7.58s\n",
      "424:\tlearn: 0.0727915\ttotal: 5.59s\tremaining: 7.57s\n",
      "425:\tlearn: 0.0727854\ttotal: 5.6s\tremaining: 7.55s\n",
      "426:\tlearn: 0.0727548\ttotal: 5.61s\tremaining: 7.53s\n",
      "427:\tlearn: 0.0727227\ttotal: 5.62s\tremaining: 7.52s\n",
      "428:\tlearn: 0.0727130\ttotal: 5.63s\tremaining: 7.5s\n",
      "429:\tlearn: 0.0726797\ttotal: 5.65s\tremaining: 7.49s\n",
      "430:\tlearn: 0.0726444\ttotal: 5.66s\tremaining: 7.47s\n",
      "431:\tlearn: 0.0726137\ttotal: 5.67s\tremaining: 7.46s\n",
      "432:\tlearn: 0.0725988\ttotal: 5.68s\tremaining: 7.44s\n",
      "433:\tlearn: 0.0725869\ttotal: 5.69s\tremaining: 7.42s\n",
      "434:\tlearn: 0.0725695\ttotal: 5.7s\tremaining: 7.41s\n",
      "435:\tlearn: 0.0725597\ttotal: 5.71s\tremaining: 7.39s\n",
      "436:\tlearn: 0.0725164\ttotal: 5.72s\tremaining: 7.38s\n",
      "437:\tlearn: 0.0724920\ttotal: 5.74s\tremaining: 7.36s\n",
      "438:\tlearn: 0.0724541\ttotal: 5.75s\tremaining: 7.34s\n",
      "439:\tlearn: 0.0724487\ttotal: 5.76s\tremaining: 7.33s\n",
      "440:\tlearn: 0.0723911\ttotal: 5.77s\tremaining: 7.31s\n",
      "441:\tlearn: 0.0722640\ttotal: 5.78s\tremaining: 7.3s\n",
      "442:\tlearn: 0.0722447\ttotal: 5.79s\tremaining: 7.28s\n",
      "443:\tlearn: 0.0721884\ttotal: 5.8s\tremaining: 7.26s\n",
      "444:\tlearn: 0.0721518\ttotal: 5.81s\tremaining: 7.25s\n",
      "445:\tlearn: 0.0721295\ttotal: 5.82s\tremaining: 7.23s\n",
      "446:\tlearn: 0.0720870\ttotal: 5.84s\tremaining: 7.22s\n",
      "447:\tlearn: 0.0720287\ttotal: 5.85s\tremaining: 7.21s\n",
      "448:\tlearn: 0.0720125\ttotal: 5.86s\tremaining: 7.2s\n",
      "449:\tlearn: 0.0719742\ttotal: 5.88s\tremaining: 7.19s\n",
      "450:\tlearn: 0.0719466\ttotal: 5.89s\tremaining: 7.17s\n",
      "451:\tlearn: 0.0719114\ttotal: 5.9s\tremaining: 7.16s\n",
      "452:\tlearn: 0.0718611\ttotal: 5.92s\tremaining: 7.14s\n",
      "453:\tlearn: 0.0717746\ttotal: 5.93s\tremaining: 7.13s\n",
      "454:\tlearn: 0.0717205\ttotal: 5.94s\tremaining: 7.12s\n",
      "455:\tlearn: 0.0716623\ttotal: 5.95s\tremaining: 7.1s\n",
      "456:\tlearn: 0.0716416\ttotal: 5.97s\tremaining: 7.09s\n",
      "457:\tlearn: 0.0716129\ttotal: 5.98s\tremaining: 7.08s\n",
      "458:\tlearn: 0.0715709\ttotal: 5.99s\tremaining: 7.06s\n",
      "459:\tlearn: 0.0715350\ttotal: 6s\tremaining: 7.05s\n",
      "460:\tlearn: 0.0714831\ttotal: 6.02s\tremaining: 7.04s\n",
      "461:\tlearn: 0.0714644\ttotal: 6.03s\tremaining: 7.02s\n",
      "462:\tlearn: 0.0714441\ttotal: 6.04s\tremaining: 7s\n",
      "463:\tlearn: 0.0714062\ttotal: 6.05s\tremaining: 6.99s\n",
      "464:\tlearn: 0.0713921\ttotal: 6.06s\tremaining: 6.97s\n",
      "465:\tlearn: 0.0713802\ttotal: 6.07s\tremaining: 6.96s\n",
      "466:\tlearn: 0.0713229\ttotal: 6.08s\tremaining: 6.94s\n",
      "467:\tlearn: 0.0712864\ttotal: 6.09s\tremaining: 6.92s\n",
      "468:\tlearn: 0.0712152\ttotal: 6.1s\tremaining: 6.91s\n",
      "469:\tlearn: 0.0711842\ttotal: 6.12s\tremaining: 6.9s\n",
      "470:\tlearn: 0.0711525\ttotal: 6.13s\tremaining: 6.88s\n",
      "471:\tlearn: 0.0711019\ttotal: 6.14s\tremaining: 6.87s\n",
      "472:\tlearn: 0.0710777\ttotal: 6.15s\tremaining: 6.85s\n",
      "473:\tlearn: 0.0710521\ttotal: 6.16s\tremaining: 6.84s\n",
      "474:\tlearn: 0.0710284\ttotal: 6.17s\tremaining: 6.82s\n",
      "475:\tlearn: 0.0709826\ttotal: 6.18s\tremaining: 6.81s\n",
      "476:\tlearn: 0.0708767\ttotal: 6.2s\tremaining: 6.79s\n",
      "477:\tlearn: 0.0708544\ttotal: 6.21s\tremaining: 6.78s\n",
      "478:\tlearn: 0.0708182\ttotal: 6.22s\tremaining: 6.76s\n",
      "479:\tlearn: 0.0707901\ttotal: 6.23s\tremaining: 6.75s\n",
      "480:\tlearn: 0.0707534\ttotal: 6.24s\tremaining: 6.74s\n",
      "481:\tlearn: 0.0707249\ttotal: 6.25s\tremaining: 6.72s\n",
      "482:\tlearn: 0.0707028\ttotal: 6.27s\tremaining: 6.71s\n",
      "483:\tlearn: 0.0706630\ttotal: 6.28s\tremaining: 6.69s\n",
      "484:\tlearn: 0.0706431\ttotal: 6.29s\tremaining: 6.68s\n",
      "485:\tlearn: 0.0706036\ttotal: 6.3s\tremaining: 6.67s\n",
      "486:\tlearn: 0.0705531\ttotal: 6.31s\tremaining: 6.65s\n",
      "487:\tlearn: 0.0705405\ttotal: 6.32s\tremaining: 6.63s\n",
      "488:\tlearn: 0.0705107\ttotal: 6.33s\tremaining: 6.62s\n",
      "489:\tlearn: 0.0704713\ttotal: 6.35s\tremaining: 6.61s\n",
      "490:\tlearn: 0.0704666\ttotal: 6.36s\tremaining: 6.59s\n",
      "491:\tlearn: 0.0704336\ttotal: 6.37s\tremaining: 6.58s\n",
      "492:\tlearn: 0.0704118\ttotal: 6.38s\tremaining: 6.56s\n",
      "493:\tlearn: 0.0703860\ttotal: 6.39s\tremaining: 6.55s\n",
      "494:\tlearn: 0.0703610\ttotal: 6.4s\tremaining: 6.53s\n",
      "495:\tlearn: 0.0703527\ttotal: 6.42s\tremaining: 6.52s\n",
      "496:\tlearn: 0.0703403\ttotal: 6.43s\tremaining: 6.51s\n",
      "497:\tlearn: 0.0703281\ttotal: 6.44s\tremaining: 6.49s\n",
      "498:\tlearn: 0.0703235\ttotal: 6.45s\tremaining: 6.47s\n",
      "499:\tlearn: 0.0703118\ttotal: 6.46s\tremaining: 6.46s\n",
      "500:\tlearn: 0.0702975\ttotal: 6.47s\tremaining: 6.45s\n",
      "501:\tlearn: 0.0702540\ttotal: 6.48s\tremaining: 6.43s\n",
      "502:\tlearn: 0.0702412\ttotal: 6.49s\tremaining: 6.42s\n",
      "503:\tlearn: 0.0702146\ttotal: 6.5s\tremaining: 6.4s\n",
      "504:\tlearn: 0.0702094\ttotal: 6.52s\tremaining: 6.39s\n",
      "505:\tlearn: 0.0701877\ttotal: 6.53s\tremaining: 6.37s\n",
      "506:\tlearn: 0.0701592\ttotal: 6.54s\tremaining: 6.36s\n",
      "507:\tlearn: 0.0701192\ttotal: 6.55s\tremaining: 6.34s\n",
      "508:\tlearn: 0.0700758\ttotal: 6.56s\tremaining: 6.33s\n",
      "509:\tlearn: 0.0700365\ttotal: 6.57s\tremaining: 6.32s\n",
      "510:\tlearn: 0.0700006\ttotal: 6.59s\tremaining: 6.3s\n",
      "511:\tlearn: 0.0699806\ttotal: 6.6s\tremaining: 6.29s\n",
      "512:\tlearn: 0.0699556\ttotal: 6.61s\tremaining: 6.27s\n",
      "513:\tlearn: 0.0698960\ttotal: 6.62s\tremaining: 6.26s\n",
      "514:\tlearn: 0.0698621\ttotal: 6.63s\tremaining: 6.25s\n",
      "515:\tlearn: 0.0698328\ttotal: 6.65s\tremaining: 6.23s\n",
      "516:\tlearn: 0.0697949\ttotal: 6.66s\tremaining: 6.22s\n",
      "517:\tlearn: 0.0697820\ttotal: 6.67s\tremaining: 6.21s\n",
      "518:\tlearn: 0.0697333\ttotal: 6.68s\tremaining: 6.19s\n",
      "519:\tlearn: 0.0696883\ttotal: 6.69s\tremaining: 6.18s\n",
      "520:\tlearn: 0.0696481\ttotal: 6.7s\tremaining: 6.16s\n",
      "521:\tlearn: 0.0696152\ttotal: 6.71s\tremaining: 6.15s\n",
      "522:\tlearn: 0.0695585\ttotal: 6.73s\tremaining: 6.14s\n",
      "523:\tlearn: 0.0695046\ttotal: 6.75s\tremaining: 6.13s\n",
      "524:\tlearn: 0.0694861\ttotal: 6.76s\tremaining: 6.12s\n",
      "525:\tlearn: 0.0694643\ttotal: 6.78s\tremaining: 6.11s\n",
      "526:\tlearn: 0.0694615\ttotal: 6.79s\tremaining: 6.09s\n",
      "527:\tlearn: 0.0694207\ttotal: 6.81s\tremaining: 6.08s\n",
      "528:\tlearn: 0.0694025\ttotal: 6.82s\tremaining: 6.07s\n",
      "529:\tlearn: 0.0693718\ttotal: 6.83s\tremaining: 6.06s\n",
      "530:\tlearn: 0.0693458\ttotal: 6.85s\tremaining: 6.05s\n",
      "531:\tlearn: 0.0693305\ttotal: 6.87s\tremaining: 6.04s\n",
      "532:\tlearn: 0.0693118\ttotal: 6.88s\tremaining: 6.03s\n",
      "533:\tlearn: 0.0692856\ttotal: 6.9s\tremaining: 6.02s\n",
      "534:\tlearn: 0.0692677\ttotal: 6.92s\tremaining: 6.01s\n",
      "535:\tlearn: 0.0692553\ttotal: 6.93s\tremaining: 6s\n",
      "536:\tlearn: 0.0692400\ttotal: 6.95s\tremaining: 5.99s\n",
      "537:\tlearn: 0.0691951\ttotal: 6.96s\tremaining: 5.98s\n",
      "538:\tlearn: 0.0691589\ttotal: 6.98s\tremaining: 5.97s\n",
      "539:\tlearn: 0.0691244\ttotal: 7s\tremaining: 5.96s\n",
      "540:\tlearn: 0.0690483\ttotal: 7.01s\tremaining: 5.95s\n",
      "541:\tlearn: 0.0690028\ttotal: 7.03s\tremaining: 5.94s\n",
      "542:\tlearn: 0.0689813\ttotal: 7.05s\tremaining: 5.93s\n",
      "543:\tlearn: 0.0689599\ttotal: 7.06s\tremaining: 5.92s\n",
      "544:\tlearn: 0.0689180\ttotal: 7.08s\tremaining: 5.91s\n",
      "545:\tlearn: 0.0688568\ttotal: 7.09s\tremaining: 5.89s\n",
      "546:\tlearn: 0.0688194\ttotal: 7.11s\tremaining: 5.88s\n",
      "547:\tlearn: 0.0688006\ttotal: 7.12s\tremaining: 5.87s\n",
      "548:\tlearn: 0.0687149\ttotal: 7.13s\tremaining: 5.86s\n",
      "549:\tlearn: 0.0687069\ttotal: 7.15s\tremaining: 5.85s\n",
      "550:\tlearn: 0.0686620\ttotal: 7.16s\tremaining: 5.83s\n",
      "551:\tlearn: 0.0686002\ttotal: 7.17s\tremaining: 5.82s\n",
      "552:\tlearn: 0.0685446\ttotal: 7.19s\tremaining: 5.81s\n",
      "553:\tlearn: 0.0685116\ttotal: 7.2s\tremaining: 5.8s\n",
      "554:\tlearn: 0.0684891\ttotal: 7.22s\tremaining: 5.79s\n",
      "555:\tlearn: 0.0684869\ttotal: 7.24s\tremaining: 5.78s\n",
      "556:\tlearn: 0.0684674\ttotal: 7.25s\tremaining: 5.77s\n",
      "557:\tlearn: 0.0684454\ttotal: 7.27s\tremaining: 5.76s\n",
      "558:\tlearn: 0.0684012\ttotal: 7.28s\tremaining: 5.75s\n",
      "559:\tlearn: 0.0683722\ttotal: 7.29s\tremaining: 5.73s\n",
      "560:\tlearn: 0.0683408\ttotal: 7.31s\tremaining: 5.72s\n",
      "561:\tlearn: 0.0682996\ttotal: 7.32s\tremaining: 5.71s\n",
      "562:\tlearn: 0.0682769\ttotal: 7.33s\tremaining: 5.69s\n",
      "563:\tlearn: 0.0682221\ttotal: 7.35s\tremaining: 5.68s\n",
      "564:\tlearn: 0.0682122\ttotal: 7.36s\tremaining: 5.67s\n",
      "565:\tlearn: 0.0681860\ttotal: 7.37s\tremaining: 5.65s\n",
      "566:\tlearn: 0.0681500\ttotal: 7.38s\tremaining: 5.64s\n",
      "567:\tlearn: 0.0681478\ttotal: 7.4s\tremaining: 5.63s\n",
      "568:\tlearn: 0.0681214\ttotal: 7.41s\tremaining: 5.62s\n",
      "569:\tlearn: 0.0680982\ttotal: 7.43s\tremaining: 5.6s\n",
      "570:\tlearn: 0.0680900\ttotal: 7.45s\tremaining: 5.59s\n",
      "571:\tlearn: 0.0680793\ttotal: 7.46s\tremaining: 5.58s\n",
      "572:\tlearn: 0.0680598\ttotal: 7.47s\tremaining: 5.57s\n",
      "573:\tlearn: 0.0680442\ttotal: 7.48s\tremaining: 5.55s\n",
      "574:\tlearn: 0.0680154\ttotal: 7.5s\tremaining: 5.54s\n",
      "575:\tlearn: 0.0679677\ttotal: 7.51s\tremaining: 5.53s\n",
      "576:\tlearn: 0.0679420\ttotal: 7.52s\tremaining: 5.52s\n",
      "577:\tlearn: 0.0679126\ttotal: 7.54s\tremaining: 5.5s\n",
      "578:\tlearn: 0.0678773\ttotal: 7.55s\tremaining: 5.49s\n",
      "579:\tlearn: 0.0678427\ttotal: 7.56s\tremaining: 5.48s\n",
      "580:\tlearn: 0.0677818\ttotal: 7.58s\tremaining: 5.46s\n",
      "581:\tlearn: 0.0677530\ttotal: 7.59s\tremaining: 5.45s\n",
      "582:\tlearn: 0.0677349\ttotal: 7.6s\tremaining: 5.43s\n",
      "583:\tlearn: 0.0676858\ttotal: 7.61s\tremaining: 5.42s\n",
      "584:\tlearn: 0.0676143\ttotal: 7.63s\tremaining: 5.41s\n",
      "585:\tlearn: 0.0675733\ttotal: 7.64s\tremaining: 5.4s\n",
      "586:\tlearn: 0.0675588\ttotal: 7.65s\tremaining: 5.38s\n",
      "587:\tlearn: 0.0675128\ttotal: 7.66s\tremaining: 5.37s\n",
      "588:\tlearn: 0.0674864\ttotal: 7.67s\tremaining: 5.35s\n",
      "589:\tlearn: 0.0674766\ttotal: 7.68s\tremaining: 5.34s\n",
      "590:\tlearn: 0.0674491\ttotal: 7.69s\tremaining: 5.33s\n",
      "591:\tlearn: 0.0674012\ttotal: 7.71s\tremaining: 5.31s\n",
      "592:\tlearn: 0.0673611\ttotal: 7.72s\tremaining: 5.3s\n",
      "593:\tlearn: 0.0673004\ttotal: 7.73s\tremaining: 5.28s\n",
      "594:\tlearn: 0.0672828\ttotal: 7.74s\tremaining: 5.27s\n",
      "595:\tlearn: 0.0672653\ttotal: 7.75s\tremaining: 5.25s\n",
      "596:\tlearn: 0.0672232\ttotal: 7.76s\tremaining: 5.24s\n",
      "597:\tlearn: 0.0671980\ttotal: 7.77s\tremaining: 5.23s\n",
      "598:\tlearn: 0.0671687\ttotal: 7.79s\tremaining: 5.21s\n",
      "599:\tlearn: 0.0671422\ttotal: 7.8s\tremaining: 5.2s\n",
      "600:\tlearn: 0.0671143\ttotal: 7.81s\tremaining: 5.18s\n",
      "601:\tlearn: 0.0671057\ttotal: 7.82s\tremaining: 5.17s\n",
      "602:\tlearn: 0.0670758\ttotal: 7.84s\tremaining: 5.16s\n",
      "603:\tlearn: 0.0670720\ttotal: 7.85s\tremaining: 5.14s\n",
      "604:\tlearn: 0.0670470\ttotal: 7.86s\tremaining: 5.13s\n",
      "605:\tlearn: 0.0670218\ttotal: 7.87s\tremaining: 5.12s\n",
      "606:\tlearn: 0.0669997\ttotal: 7.88s\tremaining: 5.1s\n",
      "607:\tlearn: 0.0669700\ttotal: 7.9s\tremaining: 5.09s\n",
      "608:\tlearn: 0.0669500\ttotal: 7.92s\tremaining: 5.08s\n",
      "609:\tlearn: 0.0669284\ttotal: 7.93s\tremaining: 5.07s\n",
      "610:\tlearn: 0.0668954\ttotal: 7.94s\tremaining: 5.06s\n",
      "611:\tlearn: 0.0668765\ttotal: 7.96s\tremaining: 5.04s\n",
      "612:\tlearn: 0.0668567\ttotal: 7.97s\tremaining: 5.03s\n",
      "613:\tlearn: 0.0668405\ttotal: 7.99s\tremaining: 5.02s\n",
      "614:\tlearn: 0.0668080\ttotal: 8s\tremaining: 5.01s\n",
      "615:\tlearn: 0.0667950\ttotal: 8.02s\tremaining: 5s\n",
      "616:\tlearn: 0.0667778\ttotal: 8.03s\tremaining: 4.99s\n",
      "617:\tlearn: 0.0667570\ttotal: 8.05s\tremaining: 4.98s\n",
      "618:\tlearn: 0.0667552\ttotal: 8.07s\tremaining: 4.96s\n",
      "619:\tlearn: 0.0667163\ttotal: 8.08s\tremaining: 4.96s\n",
      "620:\tlearn: 0.0666642\ttotal: 8.1s\tremaining: 4.94s\n",
      "621:\tlearn: 0.0666461\ttotal: 8.17s\tremaining: 4.96s\n",
      "622:\tlearn: 0.0666124\ttotal: 8.19s\tremaining: 4.96s\n",
      "623:\tlearn: 0.0665716\ttotal: 8.21s\tremaining: 4.95s\n",
      "624:\tlearn: 0.0665224\ttotal: 8.23s\tremaining: 4.94s\n",
      "625:\tlearn: 0.0664945\ttotal: 8.24s\tremaining: 4.92s\n",
      "626:\tlearn: 0.0664608\ttotal: 8.26s\tremaining: 4.91s\n",
      "627:\tlearn: 0.0664143\ttotal: 8.27s\tremaining: 4.9s\n",
      "628:\tlearn: 0.0663864\ttotal: 8.29s\tremaining: 4.89s\n",
      "629:\tlearn: 0.0663433\ttotal: 8.3s\tremaining: 4.88s\n",
      "630:\tlearn: 0.0663165\ttotal: 8.32s\tremaining: 4.87s\n",
      "631:\tlearn: 0.0663020\ttotal: 8.34s\tremaining: 4.85s\n",
      "632:\tlearn: 0.0662866\ttotal: 8.35s\tremaining: 4.84s\n",
      "633:\tlearn: 0.0662389\ttotal: 8.37s\tremaining: 4.83s\n",
      "634:\tlearn: 0.0662110\ttotal: 8.38s\tremaining: 4.82s\n",
      "635:\tlearn: 0.0661796\ttotal: 8.4s\tremaining: 4.81s\n",
      "636:\tlearn: 0.0661498\ttotal: 8.42s\tremaining: 4.8s\n",
      "637:\tlearn: 0.0661135\ttotal: 8.44s\tremaining: 4.79s\n",
      "638:\tlearn: 0.0660801\ttotal: 8.45s\tremaining: 4.78s\n",
      "639:\tlearn: 0.0660559\ttotal: 8.47s\tremaining: 4.77s\n",
      "640:\tlearn: 0.0660073\ttotal: 8.49s\tremaining: 4.76s\n",
      "641:\tlearn: 0.0659774\ttotal: 8.51s\tremaining: 4.75s\n",
      "642:\tlearn: 0.0659525\ttotal: 8.53s\tremaining: 4.74s\n",
      "643:\tlearn: 0.0659296\ttotal: 8.55s\tremaining: 4.73s\n",
      "644:\tlearn: 0.0658738\ttotal: 8.57s\tremaining: 4.72s\n",
      "645:\tlearn: 0.0658697\ttotal: 8.59s\tremaining: 4.71s\n",
      "646:\tlearn: 0.0658238\ttotal: 8.61s\tremaining: 4.7s\n",
      "647:\tlearn: 0.0658018\ttotal: 8.62s\tremaining: 4.68s\n",
      "648:\tlearn: 0.0657736\ttotal: 8.64s\tremaining: 4.67s\n",
      "649:\tlearn: 0.0657461\ttotal: 8.66s\tremaining: 4.66s\n",
      "650:\tlearn: 0.0657186\ttotal: 8.68s\tremaining: 4.66s\n",
      "651:\tlearn: 0.0656844\ttotal: 8.7s\tremaining: 4.64s\n",
      "652:\tlearn: 0.0656189\ttotal: 8.72s\tremaining: 4.63s\n",
      "653:\tlearn: 0.0655836\ttotal: 8.73s\tremaining: 4.62s\n",
      "654:\tlearn: 0.0655711\ttotal: 8.75s\tremaining: 4.61s\n",
      "655:\tlearn: 0.0655520\ttotal: 8.77s\tremaining: 4.6s\n",
      "656:\tlearn: 0.0655272\ttotal: 8.79s\tremaining: 4.59s\n",
      "657:\tlearn: 0.0654720\ttotal: 8.8s\tremaining: 4.57s\n",
      "658:\tlearn: 0.0654171\ttotal: 8.81s\tremaining: 4.56s\n",
      "659:\tlearn: 0.0653719\ttotal: 8.83s\tremaining: 4.55s\n",
      "660:\tlearn: 0.0653442\ttotal: 8.85s\tremaining: 4.54s\n",
      "661:\tlearn: 0.0653150\ttotal: 8.87s\tremaining: 4.53s\n",
      "662:\tlearn: 0.0652852\ttotal: 8.88s\tremaining: 4.51s\n",
      "663:\tlearn: 0.0652476\ttotal: 8.9s\tremaining: 4.5s\n",
      "664:\tlearn: 0.0652189\ttotal: 8.91s\tremaining: 4.49s\n",
      "665:\tlearn: 0.0651674\ttotal: 8.93s\tremaining: 4.48s\n",
      "666:\tlearn: 0.0651504\ttotal: 8.95s\tremaining: 4.47s\n",
      "667:\tlearn: 0.0651227\ttotal: 8.96s\tremaining: 4.45s\n",
      "668:\tlearn: 0.0650976\ttotal: 8.98s\tremaining: 4.44s\n",
      "669:\tlearn: 0.0650479\ttotal: 8.99s\tremaining: 4.43s\n",
      "670:\tlearn: 0.0650221\ttotal: 9.01s\tremaining: 4.42s\n",
      "671:\tlearn: 0.0649921\ttotal: 9.02s\tremaining: 4.4s\n",
      "672:\tlearn: 0.0649558\ttotal: 9.04s\tremaining: 4.39s\n",
      "673:\tlearn: 0.0649350\ttotal: 9.05s\tremaining: 4.38s\n",
      "674:\tlearn: 0.0648787\ttotal: 9.07s\tremaining: 4.37s\n",
      "675:\tlearn: 0.0648600\ttotal: 9.08s\tremaining: 4.35s\n",
      "676:\tlearn: 0.0648457\ttotal: 9.1s\tremaining: 4.34s\n",
      "677:\tlearn: 0.0648333\ttotal: 9.12s\tremaining: 4.33s\n",
      "678:\tlearn: 0.0648284\ttotal: 9.14s\tremaining: 4.32s\n",
      "679:\tlearn: 0.0648233\ttotal: 9.16s\tremaining: 4.31s\n",
      "680:\tlearn: 0.0647762\ttotal: 9.18s\tremaining: 4.3s\n",
      "681:\tlearn: 0.0647527\ttotal: 9.2s\tremaining: 4.29s\n",
      "682:\tlearn: 0.0647379\ttotal: 9.21s\tremaining: 4.28s\n",
      "683:\tlearn: 0.0647138\ttotal: 9.23s\tremaining: 4.27s\n",
      "684:\tlearn: 0.0646793\ttotal: 9.25s\tremaining: 4.25s\n",
      "685:\tlearn: 0.0646712\ttotal: 9.28s\tremaining: 4.25s\n",
      "686:\tlearn: 0.0646328\ttotal: 9.3s\tremaining: 4.24s\n",
      "687:\tlearn: 0.0646214\ttotal: 9.32s\tremaining: 4.23s\n",
      "688:\tlearn: 0.0645853\ttotal: 9.35s\tremaining: 4.22s\n",
      "689:\tlearn: 0.0645476\ttotal: 9.38s\tremaining: 4.21s\n",
      "690:\tlearn: 0.0645279\ttotal: 9.4s\tremaining: 4.2s\n",
      "691:\tlearn: 0.0644330\ttotal: 9.42s\tremaining: 4.19s\n",
      "692:\tlearn: 0.0644251\ttotal: 9.44s\tremaining: 4.18s\n",
      "693:\tlearn: 0.0644039\ttotal: 9.46s\tremaining: 4.17s\n",
      "694:\tlearn: 0.0643979\ttotal: 9.48s\tremaining: 4.16s\n",
      "695:\tlearn: 0.0643669\ttotal: 9.49s\tremaining: 4.15s\n",
      "696:\tlearn: 0.0643552\ttotal: 9.51s\tremaining: 4.13s\n",
      "697:\tlearn: 0.0643309\ttotal: 9.53s\tremaining: 4.12s\n",
      "698:\tlearn: 0.0643193\ttotal: 9.56s\tremaining: 4.12s\n",
      "699:\tlearn: 0.0642932\ttotal: 9.57s\tremaining: 4.1s\n",
      "700:\tlearn: 0.0642735\ttotal: 9.6s\tremaining: 4.09s\n",
      "701:\tlearn: 0.0642495\ttotal: 9.62s\tremaining: 4.08s\n",
      "702:\tlearn: 0.0642247\ttotal: 9.63s\tremaining: 4.07s\n",
      "703:\tlearn: 0.0641797\ttotal: 9.65s\tremaining: 4.06s\n",
      "704:\tlearn: 0.0641577\ttotal: 9.67s\tremaining: 4.05s\n",
      "705:\tlearn: 0.0641399\ttotal: 9.7s\tremaining: 4.04s\n",
      "706:\tlearn: 0.0641130\ttotal: 9.71s\tremaining: 4.03s\n",
      "707:\tlearn: 0.0640916\ttotal: 9.73s\tremaining: 4.01s\n",
      "708:\tlearn: 0.0640727\ttotal: 9.76s\tremaining: 4s\n",
      "709:\tlearn: 0.0640489\ttotal: 9.78s\tremaining: 4s\n",
      "710:\tlearn: 0.0640389\ttotal: 9.81s\tremaining: 3.99s\n",
      "711:\tlearn: 0.0640237\ttotal: 9.83s\tremaining: 3.98s\n",
      "712:\tlearn: 0.0640051\ttotal: 9.86s\tremaining: 3.97s\n",
      "713:\tlearn: 0.0639739\ttotal: 9.88s\tremaining: 3.96s\n",
      "714:\tlearn: 0.0639553\ttotal: 9.9s\tremaining: 3.94s\n",
      "715:\tlearn: 0.0639432\ttotal: 9.92s\tremaining: 3.93s\n",
      "716:\tlearn: 0.0639319\ttotal: 9.94s\tremaining: 3.92s\n",
      "717:\tlearn: 0.0639090\ttotal: 9.96s\tremaining: 3.91s\n",
      "718:\tlearn: 0.0638828\ttotal: 9.99s\tremaining: 3.9s\n",
      "719:\tlearn: 0.0638338\ttotal: 10s\tremaining: 3.89s\n",
      "720:\tlearn: 0.0637963\ttotal: 10s\tremaining: 3.88s\n",
      "721:\tlearn: 0.0637666\ttotal: 10.1s\tremaining: 3.87s\n",
      "722:\tlearn: 0.0637267\ttotal: 10.1s\tremaining: 3.86s\n",
      "723:\tlearn: 0.0636849\ttotal: 10.1s\tremaining: 3.85s\n",
      "724:\tlearn: 0.0636684\ttotal: 10.1s\tremaining: 3.84s\n",
      "725:\tlearn: 0.0636541\ttotal: 10.1s\tremaining: 3.82s\n",
      "726:\tlearn: 0.0636355\ttotal: 10.2s\tremaining: 3.81s\n",
      "727:\tlearn: 0.0635971\ttotal: 10.2s\tremaining: 3.8s\n",
      "728:\tlearn: 0.0635850\ttotal: 10.2s\tremaining: 3.79s\n",
      "729:\tlearn: 0.0635508\ttotal: 10.2s\tremaining: 3.77s\n",
      "730:\tlearn: 0.0635425\ttotal: 10.2s\tremaining: 3.76s\n",
      "731:\tlearn: 0.0635012\ttotal: 10.2s\tremaining: 3.75s\n",
      "732:\tlearn: 0.0634768\ttotal: 10.3s\tremaining: 3.74s\n",
      "733:\tlearn: 0.0634399\ttotal: 10.3s\tremaining: 3.72s\n",
      "734:\tlearn: 0.0634116\ttotal: 10.3s\tremaining: 3.71s\n",
      "735:\tlearn: 0.0634091\ttotal: 10.3s\tremaining: 3.7s\n",
      "736:\tlearn: 0.0633810\ttotal: 10.3s\tremaining: 3.68s\n",
      "737:\tlearn: 0.0633442\ttotal: 10.3s\tremaining: 3.67s\n",
      "738:\tlearn: 0.0633054\ttotal: 10.4s\tremaining: 3.66s\n",
      "739:\tlearn: 0.0632734\ttotal: 10.4s\tremaining: 3.65s\n",
      "740:\tlearn: 0.0631503\ttotal: 10.4s\tremaining: 3.63s\n",
      "741:\tlearn: 0.0631255\ttotal: 10.4s\tremaining: 3.62s\n",
      "742:\tlearn: 0.0630939\ttotal: 10.4s\tremaining: 3.61s\n",
      "743:\tlearn: 0.0630524\ttotal: 10.5s\tremaining: 3.6s\n",
      "744:\tlearn: 0.0630170\ttotal: 10.5s\tremaining: 3.59s\n",
      "745:\tlearn: 0.0630074\ttotal: 10.5s\tremaining: 3.58s\n",
      "746:\tlearn: 0.0629961\ttotal: 10.5s\tremaining: 3.57s\n",
      "747:\tlearn: 0.0629882\ttotal: 10.5s\tremaining: 3.55s\n",
      "748:\tlearn: 0.0629693\ttotal: 10.6s\tremaining: 3.54s\n",
      "749:\tlearn: 0.0629402\ttotal: 10.6s\tremaining: 3.53s\n",
      "750:\tlearn: 0.0629148\ttotal: 10.6s\tremaining: 3.51s\n",
      "751:\tlearn: 0.0629092\ttotal: 10.6s\tremaining: 3.5s\n",
      "752:\tlearn: 0.0628852\ttotal: 10.6s\tremaining: 3.49s\n",
      "753:\tlearn: 0.0628584\ttotal: 10.6s\tremaining: 3.47s\n",
      "754:\tlearn: 0.0628452\ttotal: 10.7s\tremaining: 3.46s\n",
      "755:\tlearn: 0.0628370\ttotal: 10.7s\tremaining: 3.45s\n",
      "756:\tlearn: 0.0628306\ttotal: 10.7s\tremaining: 3.43s\n",
      "757:\tlearn: 0.0627909\ttotal: 10.7s\tremaining: 3.42s\n",
      "758:\tlearn: 0.0627300\ttotal: 10.7s\tremaining: 3.41s\n",
      "759:\tlearn: 0.0626959\ttotal: 10.8s\tremaining: 3.4s\n",
      "760:\tlearn: 0.0626833\ttotal: 10.8s\tremaining: 3.38s\n",
      "761:\tlearn: 0.0626625\ttotal: 10.8s\tremaining: 3.37s\n",
      "762:\tlearn: 0.0626490\ttotal: 10.8s\tremaining: 3.35s\n",
      "763:\tlearn: 0.0626216\ttotal: 10.8s\tremaining: 3.34s\n",
      "764:\tlearn: 0.0626105\ttotal: 10.8s\tremaining: 3.33s\n",
      "765:\tlearn: 0.0626028\ttotal: 10.9s\tremaining: 3.31s\n",
      "766:\tlearn: 0.0625930\ttotal: 10.9s\tremaining: 3.3s\n",
      "767:\tlearn: 0.0625623\ttotal: 10.9s\tremaining: 3.29s\n",
      "768:\tlearn: 0.0625324\ttotal: 10.9s\tremaining: 3.28s\n",
      "769:\tlearn: 0.0625176\ttotal: 10.9s\tremaining: 3.26s\n",
      "770:\tlearn: 0.0625029\ttotal: 10.9s\tremaining: 3.25s\n",
      "771:\tlearn: 0.0624933\ttotal: 11s\tremaining: 3.24s\n",
      "772:\tlearn: 0.0624753\ttotal: 11s\tremaining: 3.22s\n",
      "773:\tlearn: 0.0624371\ttotal: 11s\tremaining: 3.21s\n",
      "774:\tlearn: 0.0624105\ttotal: 11s\tremaining: 3.2s\n",
      "775:\tlearn: 0.0624089\ttotal: 11s\tremaining: 3.18s\n",
      "776:\tlearn: 0.0623730\ttotal: 11s\tremaining: 3.17s\n",
      "777:\tlearn: 0.0623622\ttotal: 11.1s\tremaining: 3.15s\n",
      "778:\tlearn: 0.0623435\ttotal: 11.1s\tremaining: 3.14s\n",
      "779:\tlearn: 0.0623148\ttotal: 11.1s\tremaining: 3.13s\n",
      "780:\tlearn: 0.0622982\ttotal: 11.1s\tremaining: 3.12s\n",
      "781:\tlearn: 0.0622740\ttotal: 11.1s\tremaining: 3.1s\n",
      "782:\tlearn: 0.0622536\ttotal: 11.1s\tremaining: 3.09s\n",
      "783:\tlearn: 0.0622453\ttotal: 11.2s\tremaining: 3.08s\n",
      "784:\tlearn: 0.0622307\ttotal: 11.2s\tremaining: 3.06s\n",
      "785:\tlearn: 0.0622013\ttotal: 11.2s\tremaining: 3.05s\n",
      "786:\tlearn: 0.0621882\ttotal: 11.2s\tremaining: 3.03s\n",
      "787:\tlearn: 0.0621685\ttotal: 11.2s\tremaining: 3.02s\n",
      "788:\tlearn: 0.0621356\ttotal: 11.2s\tremaining: 3.01s\n",
      "789:\tlearn: 0.0621299\ttotal: 11.3s\tremaining: 2.99s\n",
      "790:\tlearn: 0.0621107\ttotal: 11.3s\tremaining: 2.98s\n",
      "791:\tlearn: 0.0620842\ttotal: 11.3s\tremaining: 2.96s\n",
      "792:\tlearn: 0.0620451\ttotal: 11.3s\tremaining: 2.95s\n",
      "793:\tlearn: 0.0620235\ttotal: 11.3s\tremaining: 2.94s\n",
      "794:\tlearn: 0.0620002\ttotal: 11.3s\tremaining: 2.93s\n",
      "795:\tlearn: 0.0619736\ttotal: 11.4s\tremaining: 2.91s\n",
      "796:\tlearn: 0.0619639\ttotal: 11.4s\tremaining: 2.9s\n",
      "797:\tlearn: 0.0619408\ttotal: 11.4s\tremaining: 2.89s\n",
      "798:\tlearn: 0.0619286\ttotal: 11.4s\tremaining: 2.87s\n",
      "799:\tlearn: 0.0619047\ttotal: 11.4s\tremaining: 2.86s\n",
      "800:\tlearn: 0.0618620\ttotal: 11.5s\tremaining: 2.85s\n",
      "801:\tlearn: 0.0618373\ttotal: 11.5s\tremaining: 2.83s\n",
      "802:\tlearn: 0.0618292\ttotal: 11.5s\tremaining: 2.82s\n",
      "803:\tlearn: 0.0618246\ttotal: 11.5s\tremaining: 2.8s\n",
      "804:\tlearn: 0.0618042\ttotal: 11.5s\tremaining: 2.79s\n",
      "805:\tlearn: 0.0617966\ttotal: 11.5s\tremaining: 2.78s\n",
      "806:\tlearn: 0.0617728\ttotal: 11.6s\tremaining: 2.76s\n",
      "807:\tlearn: 0.0617658\ttotal: 11.6s\tremaining: 2.75s\n",
      "808:\tlearn: 0.0617341\ttotal: 11.6s\tremaining: 2.74s\n",
      "809:\tlearn: 0.0617060\ttotal: 11.6s\tremaining: 2.72s\n",
      "810:\tlearn: 0.0616884\ttotal: 11.6s\tremaining: 2.71s\n",
      "811:\tlearn: 0.0616796\ttotal: 11.6s\tremaining: 2.69s\n",
      "812:\tlearn: 0.0616536\ttotal: 11.7s\tremaining: 2.68s\n",
      "813:\tlearn: 0.0616238\ttotal: 11.7s\tremaining: 2.67s\n",
      "814:\tlearn: 0.0616130\ttotal: 11.7s\tremaining: 2.65s\n",
      "815:\tlearn: 0.0615898\ttotal: 11.7s\tremaining: 2.64s\n",
      "816:\tlearn: 0.0615709\ttotal: 11.7s\tremaining: 2.63s\n",
      "817:\tlearn: 0.0615478\ttotal: 11.7s\tremaining: 2.61s\n",
      "818:\tlearn: 0.0615125\ttotal: 11.8s\tremaining: 2.6s\n",
      "819:\tlearn: 0.0614939\ttotal: 11.8s\tremaining: 2.59s\n",
      "820:\tlearn: 0.0614586\ttotal: 11.8s\tremaining: 2.57s\n",
      "821:\tlearn: 0.0614316\ttotal: 11.8s\tremaining: 2.56s\n",
      "822:\tlearn: 0.0613817\ttotal: 11.8s\tremaining: 2.54s\n",
      "823:\tlearn: 0.0613804\ttotal: 11.8s\tremaining: 2.53s\n",
      "824:\tlearn: 0.0613632\ttotal: 11.9s\tremaining: 2.52s\n",
      "825:\tlearn: 0.0613422\ttotal: 11.9s\tremaining: 2.5s\n",
      "826:\tlearn: 0.0613149\ttotal: 11.9s\tremaining: 2.49s\n",
      "827:\tlearn: 0.0612460\ttotal: 11.9s\tremaining: 2.48s\n",
      "828:\tlearn: 0.0612274\ttotal: 11.9s\tremaining: 2.46s\n",
      "829:\tlearn: 0.0612230\ttotal: 11.9s\tremaining: 2.45s\n",
      "830:\tlearn: 0.0611963\ttotal: 12s\tremaining: 2.43s\n",
      "831:\tlearn: 0.0611608\ttotal: 12s\tremaining: 2.42s\n",
      "832:\tlearn: 0.0611334\ttotal: 12s\tremaining: 2.4s\n",
      "833:\tlearn: 0.0611155\ttotal: 12s\tremaining: 2.39s\n",
      "834:\tlearn: 0.0610935\ttotal: 12s\tremaining: 2.38s\n",
      "835:\tlearn: 0.0610747\ttotal: 12.1s\tremaining: 2.36s\n",
      "836:\tlearn: 0.0610520\ttotal: 12.1s\tremaining: 2.35s\n",
      "837:\tlearn: 0.0610182\ttotal: 12.1s\tremaining: 2.34s\n",
      "838:\tlearn: 0.0609777\ttotal: 12.1s\tremaining: 2.32s\n",
      "839:\tlearn: 0.0609475\ttotal: 12.1s\tremaining: 2.31s\n",
      "840:\tlearn: 0.0609153\ttotal: 12.1s\tremaining: 2.29s\n",
      "841:\tlearn: 0.0608761\ttotal: 12.2s\tremaining: 2.28s\n",
      "842:\tlearn: 0.0608449\ttotal: 12.2s\tremaining: 2.27s\n",
      "843:\tlearn: 0.0608159\ttotal: 12.2s\tremaining: 2.25s\n",
      "844:\tlearn: 0.0607951\ttotal: 12.2s\tremaining: 2.24s\n",
      "845:\tlearn: 0.0607639\ttotal: 12.2s\tremaining: 2.23s\n",
      "846:\tlearn: 0.0607209\ttotal: 12.2s\tremaining: 2.21s\n",
      "847:\tlearn: 0.0606842\ttotal: 12.3s\tremaining: 2.2s\n",
      "848:\tlearn: 0.0606615\ttotal: 12.3s\tremaining: 2.18s\n",
      "849:\tlearn: 0.0606473\ttotal: 12.3s\tremaining: 2.17s\n",
      "850:\tlearn: 0.0606218\ttotal: 12.3s\tremaining: 2.15s\n",
      "851:\tlearn: 0.0605823\ttotal: 12.3s\tremaining: 2.14s\n",
      "852:\tlearn: 0.0605644\ttotal: 12.3s\tremaining: 2.13s\n",
      "853:\tlearn: 0.0605578\ttotal: 12.4s\tremaining: 2.11s\n",
      "854:\tlearn: 0.0605441\ttotal: 12.4s\tremaining: 2.1s\n",
      "855:\tlearn: 0.0604935\ttotal: 12.4s\tremaining: 2.08s\n",
      "856:\tlearn: 0.0604499\ttotal: 12.4s\tremaining: 2.07s\n",
      "857:\tlearn: 0.0604287\ttotal: 12.4s\tremaining: 2.06s\n",
      "858:\tlearn: 0.0604205\ttotal: 12.4s\tremaining: 2.04s\n",
      "859:\tlearn: 0.0603855\ttotal: 12.5s\tremaining: 2.03s\n",
      "860:\tlearn: 0.0603648\ttotal: 12.5s\tremaining: 2.02s\n",
      "861:\tlearn: 0.0603448\ttotal: 12.5s\tremaining: 2s\n",
      "862:\tlearn: 0.0602961\ttotal: 12.5s\tremaining: 1.99s\n",
      "863:\tlearn: 0.0602874\ttotal: 12.5s\tremaining: 1.97s\n",
      "864:\tlearn: 0.0602667\ttotal: 12.6s\tremaining: 1.96s\n",
      "865:\tlearn: 0.0602447\ttotal: 12.6s\tremaining: 1.94s\n",
      "866:\tlearn: 0.0602254\ttotal: 12.6s\tremaining: 1.93s\n",
      "867:\tlearn: 0.0602056\ttotal: 12.6s\tremaining: 1.92s\n",
      "868:\tlearn: 0.0601973\ttotal: 12.6s\tremaining: 1.9s\n",
      "869:\tlearn: 0.0601810\ttotal: 12.6s\tremaining: 1.89s\n",
      "870:\tlearn: 0.0601772\ttotal: 12.7s\tremaining: 1.87s\n",
      "871:\tlearn: 0.0601741\ttotal: 12.7s\tremaining: 1.86s\n",
      "872:\tlearn: 0.0601461\ttotal: 12.7s\tremaining: 1.84s\n",
      "873:\tlearn: 0.0601171\ttotal: 12.7s\tremaining: 1.83s\n",
      "874:\tlearn: 0.0600839\ttotal: 12.7s\tremaining: 1.82s\n",
      "875:\tlearn: 0.0600590\ttotal: 12.7s\tremaining: 1.8s\n",
      "876:\tlearn: 0.0600333\ttotal: 12.8s\tremaining: 1.79s\n",
      "877:\tlearn: 0.0600212\ttotal: 12.8s\tremaining: 1.77s\n",
      "878:\tlearn: 0.0599892\ttotal: 12.8s\tremaining: 1.76s\n",
      "879:\tlearn: 0.0599708\ttotal: 12.8s\tremaining: 1.75s\n",
      "880:\tlearn: 0.0599453\ttotal: 12.8s\tremaining: 1.73s\n",
      "881:\tlearn: 0.0599359\ttotal: 12.8s\tremaining: 1.72s\n",
      "882:\tlearn: 0.0599105\ttotal: 12.9s\tremaining: 1.7s\n",
      "883:\tlearn: 0.0598915\ttotal: 12.9s\tremaining: 1.69s\n",
      "884:\tlearn: 0.0598770\ttotal: 12.9s\tremaining: 1.68s\n",
      "885:\tlearn: 0.0598539\ttotal: 12.9s\tremaining: 1.66s\n",
      "886:\tlearn: 0.0598312\ttotal: 12.9s\tremaining: 1.65s\n",
      "887:\tlearn: 0.0598105\ttotal: 12.9s\tremaining: 1.63s\n",
      "888:\tlearn: 0.0597889\ttotal: 13s\tremaining: 1.62s\n",
      "889:\tlearn: 0.0597794\ttotal: 13s\tremaining: 1.6s\n",
      "890:\tlearn: 0.0597604\ttotal: 13s\tremaining: 1.59s\n",
      "891:\tlearn: 0.0597187\ttotal: 13s\tremaining: 1.57s\n",
      "892:\tlearn: 0.0597143\ttotal: 13s\tremaining: 1.56s\n",
      "893:\tlearn: 0.0597028\ttotal: 13s\tremaining: 1.55s\n",
      "894:\tlearn: 0.0596805\ttotal: 13.1s\tremaining: 1.53s\n",
      "895:\tlearn: 0.0596612\ttotal: 13.1s\tremaining: 1.52s\n",
      "896:\tlearn: 0.0596351\ttotal: 13.1s\tremaining: 1.5s\n",
      "897:\tlearn: 0.0596013\ttotal: 13.1s\tremaining: 1.49s\n",
      "898:\tlearn: 0.0595735\ttotal: 13.1s\tremaining: 1.48s\n",
      "899:\tlearn: 0.0595593\ttotal: 13.1s\tremaining: 1.46s\n",
      "900:\tlearn: 0.0595273\ttotal: 13.2s\tremaining: 1.45s\n",
      "901:\tlearn: 0.0595158\ttotal: 13.2s\tremaining: 1.43s\n",
      "902:\tlearn: 0.0594982\ttotal: 13.2s\tremaining: 1.42s\n",
      "903:\tlearn: 0.0594787\ttotal: 13.2s\tremaining: 1.4s\n",
      "904:\tlearn: 0.0594632\ttotal: 13.2s\tremaining: 1.39s\n",
      "905:\tlearn: 0.0594246\ttotal: 13.2s\tremaining: 1.37s\n",
      "906:\tlearn: 0.0593763\ttotal: 13.3s\tremaining: 1.36s\n",
      "907:\tlearn: 0.0593378\ttotal: 13.3s\tremaining: 1.34s\n",
      "908:\tlearn: 0.0593367\ttotal: 13.3s\tremaining: 1.33s\n",
      "909:\tlearn: 0.0593304\ttotal: 13.3s\tremaining: 1.32s\n",
      "910:\tlearn: 0.0593185\ttotal: 13.3s\tremaining: 1.3s\n",
      "911:\tlearn: 0.0593021\ttotal: 13.3s\tremaining: 1.29s\n",
      "912:\tlearn: 0.0592799\ttotal: 13.4s\tremaining: 1.27s\n",
      "913:\tlearn: 0.0592351\ttotal: 13.4s\tremaining: 1.26s\n",
      "914:\tlearn: 0.0592079\ttotal: 13.4s\tremaining: 1.25s\n",
      "915:\tlearn: 0.0591762\ttotal: 13.4s\tremaining: 1.23s\n",
      "916:\tlearn: 0.0591485\ttotal: 13.4s\tremaining: 1.22s\n",
      "917:\tlearn: 0.0591191\ttotal: 13.5s\tremaining: 1.2s\n",
      "918:\tlearn: 0.0590883\ttotal: 13.5s\tremaining: 1.19s\n",
      "919:\tlearn: 0.0590638\ttotal: 13.5s\tremaining: 1.17s\n",
      "920:\tlearn: 0.0590329\ttotal: 13.5s\tremaining: 1.16s\n",
      "921:\tlearn: 0.0589576\ttotal: 13.5s\tremaining: 1.14s\n",
      "922:\tlearn: 0.0589333\ttotal: 13.5s\tremaining: 1.13s\n",
      "923:\tlearn: 0.0589196\ttotal: 13.6s\tremaining: 1.11s\n",
      "924:\tlearn: 0.0588905\ttotal: 13.6s\tremaining: 1.1s\n",
      "925:\tlearn: 0.0588698\ttotal: 13.6s\tremaining: 1.09s\n",
      "926:\tlearn: 0.0588520\ttotal: 13.6s\tremaining: 1.07s\n",
      "927:\tlearn: 0.0588332\ttotal: 13.6s\tremaining: 1.06s\n",
      "928:\tlearn: 0.0588014\ttotal: 13.6s\tremaining: 1.04s\n",
      "929:\tlearn: 0.0587933\ttotal: 13.7s\tremaining: 1.03s\n",
      "930:\tlearn: 0.0587666\ttotal: 13.7s\tremaining: 1.01s\n",
      "931:\tlearn: 0.0587480\ttotal: 13.7s\tremaining: 999ms\n",
      "932:\tlearn: 0.0587200\ttotal: 13.7s\tremaining: 985ms\n",
      "933:\tlearn: 0.0586931\ttotal: 13.7s\tremaining: 970ms\n",
      "934:\tlearn: 0.0586619\ttotal: 13.7s\tremaining: 956ms\n",
      "935:\tlearn: 0.0586224\ttotal: 13.8s\tremaining: 941ms\n",
      "936:\tlearn: 0.0585776\ttotal: 13.8s\tremaining: 926ms\n",
      "937:\tlearn: 0.0585463\ttotal: 13.8s\tremaining: 912ms\n",
      "938:\tlearn: 0.0585125\ttotal: 13.8s\tremaining: 897ms\n",
      "939:\tlearn: 0.0584910\ttotal: 13.8s\tremaining: 883ms\n",
      "940:\tlearn: 0.0584684\ttotal: 13.8s\tremaining: 868ms\n",
      "941:\tlearn: 0.0584495\ttotal: 13.9s\tremaining: 854ms\n",
      "942:\tlearn: 0.0584443\ttotal: 13.9s\tremaining: 839ms\n",
      "943:\tlearn: 0.0584374\ttotal: 13.9s\tremaining: 825ms\n",
      "944:\tlearn: 0.0584100\ttotal: 13.9s\tremaining: 810ms\n",
      "945:\tlearn: 0.0583821\ttotal: 13.9s\tremaining: 795ms\n",
      "946:\tlearn: 0.0583653\ttotal: 13.9s\tremaining: 781ms\n",
      "947:\tlearn: 0.0583275\ttotal: 14s\tremaining: 766ms\n",
      "948:\tlearn: 0.0583181\ttotal: 14s\tremaining: 752ms\n",
      "949:\tlearn: 0.0582993\ttotal: 14s\tremaining: 737ms\n",
      "950:\tlearn: 0.0582789\ttotal: 14s\tremaining: 722ms\n",
      "951:\tlearn: 0.0582646\ttotal: 14s\tremaining: 708ms\n",
      "952:\tlearn: 0.0582430\ttotal: 14.1s\tremaining: 693ms\n",
      "953:\tlearn: 0.0582158\ttotal: 14.1s\tremaining: 679ms\n",
      "954:\tlearn: 0.0581972\ttotal: 14.1s\tremaining: 664ms\n",
      "955:\tlearn: 0.0581906\ttotal: 14.1s\tremaining: 650ms\n",
      "956:\tlearn: 0.0581625\ttotal: 14.1s\tremaining: 636ms\n",
      "957:\tlearn: 0.0581465\ttotal: 14.2s\tremaining: 621ms\n",
      "958:\tlearn: 0.0581165\ttotal: 14.2s\tremaining: 607ms\n",
      "959:\tlearn: 0.0581050\ttotal: 14.2s\tremaining: 592ms\n",
      "960:\tlearn: 0.0580962\ttotal: 14.2s\tremaining: 578ms\n",
      "961:\tlearn: 0.0580872\ttotal: 14.2s\tremaining: 563ms\n",
      "962:\tlearn: 0.0580182\ttotal: 14.3s\tremaining: 548ms\n",
      "963:\tlearn: 0.0579987\ttotal: 14.3s\tremaining: 534ms\n",
      "964:\tlearn: 0.0579797\ttotal: 14.3s\tremaining: 519ms\n",
      "965:\tlearn: 0.0579551\ttotal: 14.3s\tremaining: 504ms\n",
      "966:\tlearn: 0.0579340\ttotal: 14.3s\tremaining: 490ms\n",
      "967:\tlearn: 0.0579111\ttotal: 14.4s\tremaining: 475ms\n",
      "968:\tlearn: 0.0578857\ttotal: 14.4s\tremaining: 460ms\n",
      "969:\tlearn: 0.0578677\ttotal: 14.4s\tremaining: 445ms\n",
      "970:\tlearn: 0.0578412\ttotal: 14.4s\tremaining: 431ms\n",
      "971:\tlearn: 0.0578344\ttotal: 14.4s\tremaining: 416ms\n",
      "972:\tlearn: 0.0578051\ttotal: 14.4s\tremaining: 401ms\n",
      "973:\tlearn: 0.0577881\ttotal: 14.5s\tremaining: 386ms\n",
      "974:\tlearn: 0.0577764\ttotal: 14.5s\tremaining: 371ms\n",
      "975:\tlearn: 0.0577717\ttotal: 14.5s\tremaining: 356ms\n",
      "976:\tlearn: 0.0577560\ttotal: 14.5s\tremaining: 342ms\n",
      "977:\tlearn: 0.0577428\ttotal: 14.5s\tremaining: 327ms\n",
      "978:\tlearn: 0.0577212\ttotal: 14.5s\tremaining: 312ms\n",
      "979:\tlearn: 0.0576884\ttotal: 14.6s\tremaining: 297ms\n",
      "980:\tlearn: 0.0576655\ttotal: 14.6s\tremaining: 282ms\n",
      "981:\tlearn: 0.0576513\ttotal: 14.6s\tremaining: 268ms\n",
      "982:\tlearn: 0.0576211\ttotal: 14.6s\tremaining: 253ms\n",
      "983:\tlearn: 0.0576022\ttotal: 14.6s\tremaining: 238ms\n",
      "984:\tlearn: 0.0575876\ttotal: 14.7s\tremaining: 223ms\n",
      "985:\tlearn: 0.0575862\ttotal: 14.7s\tremaining: 208ms\n",
      "986:\tlearn: 0.0575806\ttotal: 14.7s\tremaining: 193ms\n",
      "987:\tlearn: 0.0575491\ttotal: 14.7s\tremaining: 179ms\n",
      "988:\tlearn: 0.0575177\ttotal: 14.7s\tremaining: 164ms\n",
      "989:\tlearn: 0.0574953\ttotal: 14.8s\tremaining: 149ms\n",
      "990:\tlearn: 0.0574835\ttotal: 14.8s\tremaining: 134ms\n",
      "991:\tlearn: 0.0574610\ttotal: 14.8s\tremaining: 119ms\n",
      "992:\tlearn: 0.0574531\ttotal: 14.8s\tremaining: 104ms\n",
      "993:\tlearn: 0.0574340\ttotal: 14.8s\tremaining: 89.5ms\n",
      "994:\tlearn: 0.0574075\ttotal: 14.8s\tremaining: 74.6ms\n",
      "995:\tlearn: 0.0573903\ttotal: 14.9s\tremaining: 59.7ms\n",
      "996:\tlearn: 0.0573620\ttotal: 14.9s\tremaining: 44.8ms\n",
      "997:\tlearn: 0.0573341\ttotal: 14.9s\tremaining: 29.9ms\n",
      "998:\tlearn: 0.0573131\ttotal: 14.9s\tremaining: 14.9ms\n",
      "999:\tlearn: 0.0573084\ttotal: 14.9s\tremaining: 0us\n",
      "f1 train: 0.974\n",
      "f1 test: 0.96\n"
     ]
    }
   ],
   "source": [
    "cat = catboost.CatBoostClassifier(random_state = 26)\n",
    "cat.fit(X_train_scaled, y_train)\n",
    "\n",
    "y_train_pred_cat = cat.predict(X_train_scaled)\n",
    "y_test_pred_cat = cat.predict(X_test_scaled)\n",
    "print('f1 train: {}'.format(np.round(metrics.f1_score(y_train, y_train_pred_cat), 3)))\n",
    "print('f1 test: {}'.format(np.round(metrics.f1_score(y_test, y_test_pred_cat), 3)))"
   ]
  },
  {
   "cell_type": "code",
   "execution_count": 176,
   "metadata": {},
   "outputs": [
    {
     "data": {
      "text/plain": [
       "array([[56.,  1.],\n",
       "       [ 2., 42.]])"
      ]
     },
     "execution_count": 176,
     "metadata": {},
     "output_type": "execute_result"
    }
   ],
   "source": [
    "# выведем матрицу ошибок для модели CatBoost\n",
    "np.round(get_confusion_matrix(cat, catboost.Pool(X_train_scaled, y_train))/X_train_scaled.shape[0] * 100, 0)"
   ]
  },
  {
   "cell_type": "code",
   "execution_count": 179,
   "metadata": {},
   "outputs": [
    {
     "data": {
      "text/html": [
       "<div>\n",
       "<style scoped>\n",
       "    .dataframe tbody tr th:only-of-type {\n",
       "        vertical-align: middle;\n",
       "    }\n",
       "\n",
       "    .dataframe tbody tr th {\n",
       "        vertical-align: top;\n",
       "    }\n",
       "\n",
       "    .dataframe thead th {\n",
       "        text-align: right;\n",
       "    }\n",
       "</style>\n",
       "<table border=\"1\" class=\"dataframe\">\n",
       "  <thead>\n",
       "    <tr style=\"text-align: right;\">\n",
       "      <th></th>\n",
       "      <th>features</th>\n",
       "      <th>coef</th>\n",
       "    </tr>\n",
       "  </thead>\n",
       "  <tbody>\n",
       "    <tr>\n",
       "      <th>6</th>\n",
       "      <td>Inflight wifi service</td>\n",
       "      <td>25.364737</td>\n",
       "    </tr>\n",
       "    <tr>\n",
       "      <th>4</th>\n",
       "      <td>Type of Travel</td>\n",
       "      <td>18.391876</td>\n",
       "    </tr>\n",
       "    <tr>\n",
       "      <th>11</th>\n",
       "      <td>Online boarding</td>\n",
       "      <td>7.401483</td>\n",
       "    </tr>\n",
       "    <tr>\n",
       "      <th>2</th>\n",
       "      <td>Customer Type</td>\n",
       "      <td>7.240564</td>\n",
       "    </tr>\n",
       "    <tr>\n",
       "      <th>22</th>\n",
       "      <td>Class_Business</td>\n",
       "      <td>5.420057</td>\n",
       "    </tr>\n",
       "    <tr>\n",
       "      <th>17</th>\n",
       "      <td>Checkin service</td>\n",
       "      <td>3.925791</td>\n",
       "    </tr>\n",
       "    <tr>\n",
       "      <th>3</th>\n",
       "      <td>Age</td>\n",
       "      <td>3.742350</td>\n",
       "    </tr>\n",
       "    <tr>\n",
       "      <th>16</th>\n",
       "      <td>Baggage handling</td>\n",
       "      <td>3.640798</td>\n",
       "    </tr>\n",
       "    <tr>\n",
       "      <th>9</th>\n",
       "      <td>Gate location</td>\n",
       "      <td>3.196286</td>\n",
       "    </tr>\n",
       "    <tr>\n",
       "      <th>12</th>\n",
       "      <td>Seat comfort</td>\n",
       "      <td>3.012455</td>\n",
       "    </tr>\n",
       "    <tr>\n",
       "      <th>18</th>\n",
       "      <td>Inflight service</td>\n",
       "      <td>2.872263</td>\n",
       "    </tr>\n",
       "    <tr>\n",
       "      <th>13</th>\n",
       "      <td>Inflight entertainment</td>\n",
       "      <td>2.839660</td>\n",
       "    </tr>\n",
       "    <tr>\n",
       "      <th>0</th>\n",
       "      <td>id</td>\n",
       "      <td>1.958821</td>\n",
       "    </tr>\n",
       "    <tr>\n",
       "      <th>5</th>\n",
       "      <td>Flight Distance</td>\n",
       "      <td>1.593574</td>\n",
       "    </tr>\n",
       "    <tr>\n",
       "      <th>7</th>\n",
       "      <td>Departure/Arrival time convenient</td>\n",
       "      <td>1.574078</td>\n",
       "    </tr>\n",
       "    <tr>\n",
       "      <th>19</th>\n",
       "      <td>Cleanliness</td>\n",
       "      <td>1.554563</td>\n",
       "    </tr>\n",
       "    <tr>\n",
       "      <th>8</th>\n",
       "      <td>Ease of Online booking</td>\n",
       "      <td>1.498563</td>\n",
       "    </tr>\n",
       "    <tr>\n",
       "      <th>14</th>\n",
       "      <td>On-board service</td>\n",
       "      <td>1.482136</td>\n",
       "    </tr>\n",
       "    <tr>\n",
       "      <th>15</th>\n",
       "      <td>Leg room service</td>\n",
       "      <td>1.217927</td>\n",
       "    </tr>\n",
       "    <tr>\n",
       "      <th>21</th>\n",
       "      <td>Arrival Delay in Minutes</td>\n",
       "      <td>0.835555</td>\n",
       "    </tr>\n",
       "    <tr>\n",
       "      <th>20</th>\n",
       "      <td>Departure Delay in Minutes</td>\n",
       "      <td>0.445704</td>\n",
       "    </tr>\n",
       "    <tr>\n",
       "      <th>10</th>\n",
       "      <td>Food and drink</td>\n",
       "      <td>0.369241</td>\n",
       "    </tr>\n",
       "    <tr>\n",
       "      <th>23</th>\n",
       "      <td>Class_Eco</td>\n",
       "      <td>0.230436</td>\n",
       "    </tr>\n",
       "    <tr>\n",
       "      <th>24</th>\n",
       "      <td>Class_Eco Plus</td>\n",
       "      <td>0.138083</td>\n",
       "    </tr>\n",
       "    <tr>\n",
       "      <th>1</th>\n",
       "      <td>Gender</td>\n",
       "      <td>0.052999</td>\n",
       "    </tr>\n",
       "  </tbody>\n",
       "</table>\n",
       "</div>"
      ],
      "text/plain": [
       "                             features       coef\n",
       "6               Inflight wifi service  25.364737\n",
       "4                      Type of Travel  18.391876\n",
       "11                    Online boarding   7.401483\n",
       "2                       Customer Type   7.240564\n",
       "22                     Class_Business   5.420057\n",
       "17                    Checkin service   3.925791\n",
       "3                                 Age   3.742350\n",
       "16                   Baggage handling   3.640798\n",
       "9                       Gate location   3.196286\n",
       "12                       Seat comfort   3.012455\n",
       "18                   Inflight service   2.872263\n",
       "13             Inflight entertainment   2.839660\n",
       "0                                  id   1.958821\n",
       "5                     Flight Distance   1.593574\n",
       "7   Departure/Arrival time convenient   1.574078\n",
       "19                        Cleanliness   1.554563\n",
       "8              Ease of Online booking   1.498563\n",
       "14                   On-board service   1.482136\n",
       "15                   Leg room service   1.217927\n",
       "21           Arrival Delay in Minutes   0.835555\n",
       "20         Departure Delay in Minutes   0.445704\n",
       "10                     Food and drink   0.369241\n",
       "23                          Class_Eco   0.230436\n",
       "24                     Class_Eco Plus   0.138083\n",
       "1                              Gender   0.052999"
      ]
     },
     "execution_count": 179,
     "metadata": {},
     "output_type": "execute_result"
    }
   ],
   "source": [
    "# датасет важности признаков\n",
    "df_cat = pd.DataFrame({'features': X_train.columns, 'coef': cat.feature_importances_})\n",
    "df_cat.sort_values(by='coef', ascending=False)"
   ]
  }
 ],
 "metadata": {
  "kernelspec": {
   "display_name": "Python 3",
   "language": "python",
   "name": "python3"
  },
  "language_info": {
   "codemirror_mode": {
    "name": "ipython",
    "version": 3
   },
   "file_extension": ".py",
   "mimetype": "text/x-python",
   "name": "python",
   "nbconvert_exporter": "python",
   "pygments_lexer": "ipython3",
   "version": "3.10.9"
  }
 },
 "nbformat": 4,
 "nbformat_minor": 2
}

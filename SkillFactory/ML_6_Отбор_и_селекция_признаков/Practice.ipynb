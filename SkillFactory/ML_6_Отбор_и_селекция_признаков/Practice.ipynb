{
 "cells": [
  {
   "cell_type": "code",
   "execution_count": 1,
   "metadata": {},
   "outputs": [],
   "source": [
    "import pandas as pd # для работы с данными\n",
    "import numpy as np  # для работы с данными\n",
    "from sklearn.linear_model import LinearRegression # для построения модели\n",
    "from sklearn.model_selection import train_test_split # для разделение выборки на тренировочную и тестовую\n",
    "from sklearn.feature_selection import RFE # для отбора признаков\n",
    "from sklearn.feature_selection import SelectKBest, f_regression # для отбора признаков\n",
    "from sklearn import metrics # для расчета метрик"
   ]
  },
  {
   "cell_type": "code",
   "execution_count": 92,
   "metadata": {},
   "outputs": [],
   "source": [
    "df = pd.read_excel('data/data_ford_price.xlsx')"
   ]
  },
  {
   "cell_type": "code",
   "execution_count": 93,
   "metadata": {},
   "outputs": [],
   "source": [
    "# заменим пропуски в поле weather на средним зачение по полю\n",
    "df['weather'] = df['weather'].fillna(np.round(np.mean(df['weather']), 2))"
   ]
  },
  {
   "cell_type": "code",
   "execution_count": 94,
   "metadata": {},
   "outputs": [
    {
     "data": {
      "text/plain": [
       "price            True\n",
       "year             True\n",
       "condition        True\n",
       "cylinders        True\n",
       "odometer         True\n",
       "title_status     True\n",
       "transmission     True\n",
       "drive           False\n",
       "size            False\n",
       "lat              True\n",
       "long             True\n",
       "weather          True\n",
       "dtype: bool"
      ]
     },
     "execution_count": 94,
     "metadata": {},
     "output_type": "execute_result"
    }
   ],
   "source": [
    "# проверим наличие пропусков\n",
    "df.isna().mean() == 0"
   ]
  },
  {
   "cell_type": "code",
   "execution_count": 95,
   "metadata": {},
   "outputs": [],
   "source": [
    "# отберем признаки с числовыми данными\n",
    "df_new = df[['price','year', 'cylinders', 'odometer', 'lat', 'long', 'weather']]"
   ]
  },
  {
   "cell_type": "code",
   "execution_count": 96,
   "metadata": {},
   "outputs": [],
   "source": [
    "# раздалим целевой признак и факторы\n",
    "y = df_new['price'] \n",
    "X = df_new.drop(columns='price')"
   ]
  },
  {
   "cell_type": "code",
   "execution_count": 97,
   "metadata": {},
   "outputs": [],
   "source": [
    "# разделим данные на тренировочные и тестовые\n",
    "X_train, X_valid, y_train, y_valid = train_test_split(X, y, test_size=0.2, random_state=42)"
   ]
  },
  {
   "cell_type": "markdown",
   "metadata": {},
   "source": [
    "##### Применим Метод рекурсивного исключения признаков (RFE)"
   ]
  },
  {
   "cell_type": "code",
   "execution_count": 98,
   "metadata": {},
   "outputs": [
    {
     "data": {
      "text/plain": [
       "array(['year', 'cylinders', 'lat'], dtype=object)"
      ]
     },
     "execution_count": 98,
     "metadata": {},
     "output_type": "execute_result"
    }
   ],
   "source": [
    "# применим RFE для подбора признаков \n",
    "model_rfe = LinearRegression()\n",
    "selector = RFE(model_rfe, n_features_to_select=3, step=1)\n",
    "selector = selector.fit(X_train, y_train)\n",
    " \n",
    "selector.get_feature_names_out()"
   ]
  },
  {
   "cell_type": "code",
   "execution_count": 106,
   "metadata": {},
   "outputs": [
    {
     "data": {
      "text/plain": [
       "['year', 'cylinders', 'lat']"
      ]
     },
     "execution_count": 106,
     "metadata": {},
     "output_type": "execute_result"
    }
   ],
   "source": [
    "list_rfe = selector.get_feature_names_out().tolist()\n",
    "list_rfe"
   ]
  },
  {
   "cell_type": "markdown",
   "metadata": {},
   "source": [
    "По итогам методам RFE 3 наиболее значимые поля: year, cylinders, lat."
   ]
  },
  {
   "cell_type": "code",
   "execution_count": 100,
   "metadata": {},
   "outputs": [],
   "source": [
    "# отберем признаки и на них обучим модель\n",
    "X_train_rfe = X_train[list_rfe]\n",
    "X_valid_rfe = X_valid[list_rfe]"
   ]
  },
  {
   "cell_type": "code",
   "execution_count": 101,
   "metadata": {},
   "outputs": [
    {
     "name": "stdout",
     "output_type": "stream",
     "text": [
      "Valid MAE on RFE:5513.684\n",
      "Valid R2 on RFE:0.386\n"
     ]
    }
   ],
   "source": [
    "# обучим модель, сделаем предсказание и подсчитаем метрики МАЕ и R2 на тестовой выборке\n",
    "model_rfe.fit(X_train_rfe, y_train)\n",
    "y_valid_pred = model_rfe.predict(X_valid_rfe)\n",
    "\n",
    "print('Valid MAE on RFE:{:.3f}'.format(metrics.mean_absolute_error(y_valid, y_valid_pred)))\n",
    "print('Valid R2 on RFE:{:.3f}'.format(metrics.r2_score(y_valid, y_valid_pred)))"
   ]
  },
  {
   "cell_type": "markdown",
   "metadata": {},
   "source": [
    "##### Примеим метод выбора признаков на основе фильтров (Метод выбора k лучших переменных)"
   ]
  },
  {
   "cell_type": "code",
   "execution_count": 102,
   "metadata": {},
   "outputs": [
    {
     "data": {
      "text/plain": [
       "array(['year', 'cylinders', 'odometer'], dtype=object)"
      ]
     },
     "execution_count": 102,
     "metadata": {},
     "output_type": "execute_result"
    }
   ],
   "source": [
    "selector_kbest = SelectKBest(f_regression, k=3)\n",
    "selector_kbest.fit(X_train, y_train)\n",
    " \n",
    "selector_kbest.get_feature_names_out()"
   ]
  },
  {
   "cell_type": "code",
   "execution_count": 105,
   "metadata": {},
   "outputs": [
    {
     "data": {
      "text/plain": [
       "['year', 'cylinders', 'odometer']"
      ]
     },
     "execution_count": 105,
     "metadata": {},
     "output_type": "execute_result"
    }
   ],
   "source": [
    "list_kbest = selector_kbest.get_feature_names_out().tolist()\n",
    "list_kbest"
   ]
  },
  {
   "cell_type": "markdown",
   "metadata": {},
   "source": [
    "По итогам методам SelectKBest 3 наиболее значимые поля: year, cylinders, odometer."
   ]
  },
  {
   "cell_type": "code",
   "execution_count": 107,
   "metadata": {},
   "outputs": [],
   "source": [
    "# отберем признаки и на них обучим модель\n",
    "X_train_kbest = X_train[list_kbest]\n",
    "X_valid_kbest = X_valid[list_kbest]"
   ]
  },
  {
   "cell_type": "code",
   "execution_count": 109,
   "metadata": {},
   "outputs": [
    {
     "name": "stdout",
     "output_type": "stream",
     "text": [
      "Valid MAE on KBEST:5120.182\n",
      "Valid R2 on KBEST:0.413\n"
     ]
    }
   ],
   "source": [
    "# обучим модель, сделаем предсказание и подсчитаем метрики МАЕ и R2 на тестовой выборке\n",
    "model_rfe.fit(X_train_kbest, y_train)\n",
    "y_valid_pred = model_rfe.predict(X_valid_kbest)\n",
    "\n",
    "print('Valid MAE on KBEST:{:.3f}'.format(metrics.mean_absolute_error(y_valid, y_valid_pred)))\n",
    "print('Valid R2 on KBEST:{:.3f}'.format(metrics.r2_score(y_valid, y_valid_pred)))"
   ]
  },
  {
   "cell_type": "markdown",
   "metadata": {},
   "source": [
    "**Вывод:** по итогам анализа метод RFE показал более лучший результат на метрике коэффициент детерминации R2 (0.386) в отличие от метода SELECTKBEST (0.413). Однако при этом метод RFE по метрике средняя абсолютная ошибка показал результат хуже."
   ]
  }
 ],
 "metadata": {
  "kernelspec": {
   "display_name": "Python 3",
   "language": "python",
   "name": "python3"
  },
  "language_info": {
   "codemirror_mode": {
    "name": "ipython",
    "version": 3
   },
   "file_extension": ".py",
   "mimetype": "text/x-python",
   "name": "python",
   "nbconvert_exporter": "python",
   "pygments_lexer": "ipython3",
   "version": "3.10.9"
  }
 },
 "nbformat": 4,
 "nbformat_minor": 2
}

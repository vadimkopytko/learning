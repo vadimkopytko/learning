{
 "cells": [
  {
   "cell_type": "code",
   "execution_count": 3,
   "metadata": {},
   "outputs": [],
   "source": [
    "import logging"
   ]
  },
  {
   "cell_type": "code",
   "execution_count": 4,
   "metadata": {},
   "outputs": [
    {
     "name": "stderr",
     "output_type": "stream",
     "text": [
      "WARNING:root:This message is a warning\n",
      "ERROR:root:This is an error message\n",
      "CRITICAL:root:This is a critical message\n"
     ]
    }
   ],
   "source": [
    "import logging\n",
    "logging.debug('This is a debug message')\n",
    "logging.info('This is an informational message')\n",
    "logging.warning('This message is a warning')\n",
    "logging.error('This is an error message')\n",
    "logging.critical('This is a critical message')"
   ]
  },
  {
   "cell_type": "code",
   "execution_count": 5,
   "metadata": {},
   "outputs": [],
   "source": [
    "from importlib import reload"
   ]
  },
  {
   "cell_type": "code",
   "execution_count": 6,
   "metadata": {},
   "outputs": [
    {
     "data": {
      "text/plain": [
       "<module 'logging' from 'c:\\\\Program Files\\\\Python310\\\\lib\\\\logging\\\\__init__.py'>"
      ]
     },
     "execution_count": 6,
     "metadata": {},
     "output_type": "execute_result"
    }
   ],
   "source": [
    "reload(logging) # сбросить настройки библиотеки"
   ]
  },
  {
   "cell_type": "code",
   "execution_count": 7,
   "metadata": {},
   "outputs": [],
   "source": [
    "logging.basicConfig(level=logging.DEBUG) # задать начальный уровень логгирования"
   ]
  },
  {
   "cell_type": "code",
   "execution_count": 9,
   "metadata": {},
   "outputs": [
    {
     "name": "stderr",
     "output_type": "stream",
     "text": [
      "DEBUG:root:This is a debug message\n",
      "INFO:root:This is an informational message\n",
      "WARNING:root:This message is a warning\n",
      "ERROR:root:This is an error message\n",
      "CRITICAL:root:This is a critical message\n"
     ]
    }
   ],
   "source": [
    "# теперь выводятся все 5 уровней\n",
    "logging.debug('This is a debug message')\n",
    "logging.info('This is an informational message')\n",
    "logging.warning('This message is a warning')\n",
    "logging.error('This is an error message')\n",
    "logging.critical('This is a critical message')"
   ]
  },
  {
   "cell_type": "code",
   "execution_count": 10,
   "metadata": {},
   "outputs": [
    {
     "data": {
      "text/plain": [
       "<FileHandler c:\\Users\\vadim.kopytko\\Desktop\\Learn\\Project\\SkillFactory\\EDA-5_Проектирование_экспериментов\\log_file.log (NOTSET)>"
      ]
     },
     "execution_count": 10,
     "metadata": {},
     "output_type": "execute_result"
    }
   ],
   "source": [
    "logging.FileHandler('log_file.log')"
   ]
  },
  {
   "cell_type": "code",
   "execution_count": 12,
   "metadata": {},
   "outputs": [
    {
     "name": "stderr",
     "output_type": "stream",
     "text": [
      "INFO: 2024-02-05 21:29:28,204: Check\n"
     ]
    }
   ],
   "source": [
    "reload(logging)\n",
    " \n",
    "logging.basicConfig(\n",
    "    format=\"%(levelname)s: %(asctime)s: %(message)s\",\n",
    "    level=logging.DEBUG\n",
    ")\n",
    "logging.info('Check')"
   ]
  },
  {
   "cell_type": "code",
   "execution_count": 13,
   "metadata": {},
   "outputs": [],
   "source": [
    "import os.path"
   ]
  },
  {
   "cell_type": "code",
   "execution_count": 19,
   "metadata": {},
   "outputs": [],
   "source": [
    "def get_logger (path, file):\n",
    "    \"\"\"[Создает лог-файл для логирования в него]\n",
    "    Аргументы:\n",
    "      path {string} -- путь к директории\n",
    "      file {string} -- имя файла\n",
    "    Возвращает:\n",
    "      [obj] -- [логер]\n",
    "    \"\"\"\n",
    "    # проверяем, существует ли файл\n",
    "    log_file = os.path.join(path, file)\n",
    "    \n",
    "    if not os.path.isfile(log_file):\n",
    "        open(log_file, 'w+').close()\n",
    "    \n",
    "    # поменяем формат логирования\n",
    "    file_logging_format = \"%(levelname)s: %(asctime)s: %(message)s\"\n",
    "     \n",
    "    # конфигурируем лог-файл\n",
    "    logging.basicConfig(level=logging.INFO, \n",
    "    format = file_logging_format)\n",
    "    logger = logging.getLogger()\n",
    "    \n",
    "    # создадим хэнлдер для записи лога в файл\n",
    "    handler = logging.FileHandler(log_file)\n",
    "    \n",
    "    # установим уровень логирования\n",
    "    handler.setLevel(logging.INFO)\n",
    "    \n",
    "    # создадим формат логирования, используя file_logging_format\n",
    "    formatter = logging.Formatter(file_logging_format)\n",
    "    handler.setFormatter(formatter)\n",
    "    \n",
    "    # добавим хэндлер лог-файлу\n",
    "    logger.addHandler(handler)\n",
    "    return logger"
   ]
  },
  {
   "cell_type": "code",
   "execution_count": 15,
   "metadata": {},
   "outputs": [],
   "source": [
    "!mkdir logs"
   ]
  },
  {
   "cell_type": "code",
   "execution_count": 20,
   "metadata": {},
   "outputs": [],
   "source": [
    "logger = get_logger(path=\"logs/\", file=\"data.logs\")"
   ]
  },
  {
   "cell_type": "code",
   "execution_count": 21,
   "metadata": {},
   "outputs": [
    {
     "name": "stderr",
     "output_type": "stream",
     "text": [
      "INFO: 2024-02-05 21:58:52,071: Data\n"
     ]
    }
   ],
   "source": [
    "logger.info('Data')"
   ]
  },
  {
   "cell_type": "code",
   "execution_count": 22,
   "metadata": {},
   "outputs": [],
   "source": [
    "import pandas as pd\n",
    "df = pd.read_csv('KaggleV2-May-2016.csv')"
   ]
  },
  {
   "cell_type": "code",
   "execution_count": 23,
   "metadata": {},
   "outputs": [
    {
     "name": "stderr",
     "output_type": "stream",
     "text": [
      "INFO: 2024-02-05 22:02:47,759: Data shape (110527, 14)\n"
     ]
    }
   ],
   "source": [
    "logger.info('Data shape {}'.format(df.shape))"
   ]
  },
  {
   "cell_type": "code",
   "execution_count": 28,
   "metadata": {},
   "outputs": [
    {
     "name": "stderr",
     "output_type": "stream",
     "text": [
      "INFO: 2024-02-05 22:06:11,554: Percentage of women: 0.65\n"
     ]
    }
   ],
   "source": [
    "logger.info('Percentage of women: {}'.format(round(df[df['No-show']=='Yes']['Gender'].value_counts(True)[0], 2)))"
   ]
  },
  {
   "cell_type": "code",
   "execution_count": 29,
   "metadata": {},
   "outputs": [
    {
     "name": "stderr",
     "output_type": "stream",
     "text": [
      "INFO: 2024-02-05 22:06:54,040: Percentage of men: 0.35\n"
     ]
    }
   ],
   "source": [
    "logger.info('Percentage of men: {}'.format(round(df[df['No-show']=='Yes']['Gender'].value_counts(True)[1], 2)))"
   ]
  },
  {
   "cell_type": "code",
   "execution_count": 30,
   "metadata": {},
   "outputs": [
    {
     "name": "stderr",
     "output_type": "stream",
     "text": [
      "ERROR: 2024-02-05 22:07:41,306: Data shape is incorrect!\n"
     ]
    }
   ],
   "source": [
    "if df.shape != (110526,14):\n",
    " logger.error('Data shape is incorrect!')"
   ]
  },
  {
   "cell_type": "code",
   "execution_count": 31,
   "metadata": {},
   "outputs": [
    {
     "name": "stderr",
     "output_type": "stream",
     "text": [
      "DEBUG: 2024-02-05 22:18:32,487: [Tracing] Create new propagation context: {'trace_id': '59ebb24c8d704444b136a7c2f4b0a5b4', 'span_id': '915c35c0907c07ad', 'parent_span_id': None, 'dynamic_sampling_context': None}\n",
      "DEBUG: 2024-02-05 22:18:35,602: No INI file found: []\n",
      "DEBUG: 2024-02-05 22:18:35,610: No INI file found: ['./.comet.config']\n",
      "DEBUG: 2024-02-05 22:18:35,614: No INI file found: ['/content/drive/MyDrive/.comet.config']\n",
      "DEBUG: 2024-02-05 22:18:35,617: No INI file found: ['~/.comet.config']\n",
      "DEBUG: 2024-02-05 22:18:35,618: Looking up key: disable_auto_logging, namespace: ['comet']\n",
      "DEBUG: 2024-02-05 22:18:35,620: Searching <ConfigOSEnv> for COMET_DISABLE_AUTO_LOGGING\n",
      "DEBUG: 2024-02-05 22:18:35,622: Searching <ConfigEnvFileEnv: None> for COMET_DISABLE_AUTO_LOGGING\n",
      "DEBUG: 2024-02-05 22:18:35,623: Searching <ConfigDictEnv: {}> for COMET_DISABLE_AUTO_LOGGING\n",
      "DEBUG: 2024-02-05 22:18:35,623: Found nothing--returning NO_VALUE\n",
      "DEBUG: 2024-02-05 22:18:35,632: No INI file found: []\n",
      "DEBUG: 2024-02-05 22:18:35,636: No INI file found: ['./.comet.config']\n",
      "DEBUG: 2024-02-05 22:18:35,637: No INI file found: ['/content/drive/MyDrive/.comet.config']\n",
      "DEBUG: 2024-02-05 22:18:35,639: No INI file found: ['~/.comet.config']\n",
      "DEBUG: 2024-02-05 22:18:35,639: Looking up key: disable_auto_logging, namespace: ['comet']\n",
      "DEBUG: 2024-02-05 22:18:35,640: Searching <ConfigOSEnv> for COMET_DISABLE_AUTO_LOGGING\n",
      "DEBUG: 2024-02-05 22:18:35,641: Searching <ConfigEnvFileEnv: None> for COMET_DISABLE_AUTO_LOGGING\n",
      "DEBUG: 2024-02-05 22:18:35,642: Searching <ConfigDictEnv: {}> for COMET_DISABLE_AUTO_LOGGING\n",
      "DEBUG: 2024-02-05 22:18:35,643: Found nothing--returning NO_VALUE\n",
      "DEBUG: 2024-02-05 22:18:35,644: No INI file found: []\n",
      "DEBUG: 2024-02-05 22:18:35,647: No INI file found: ['./.comet.config']\n",
      "DEBUG: 2024-02-05 22:18:35,650: No INI file found: ['/content/drive/MyDrive/.comet.config']\n",
      "DEBUG: 2024-02-05 22:18:35,652: No INI file found: ['~/.comet.config']\n",
      "DEBUG: 2024-02-05 22:18:35,653: Looking up key: disable_auto_logging, namespace: ['comet']\n",
      "DEBUG: 2024-02-05 22:18:35,654: Searching <ConfigOSEnv> for COMET_DISABLE_AUTO_LOGGING\n",
      "DEBUG: 2024-02-05 22:18:35,655: Searching <ConfigEnvFileEnv: None> for COMET_DISABLE_AUTO_LOGGING\n",
      "DEBUG: 2024-02-05 22:18:35,656: Searching <ConfigDictEnv: {}> for COMET_DISABLE_AUTO_LOGGING\n",
      "DEBUG: 2024-02-05 22:18:35,656: Found nothing--returning NO_VALUE\n",
      "DEBUG: 2024-02-05 22:18:35,658: No INI file found: []\n",
      "DEBUG: 2024-02-05 22:18:35,659: No INI file found: ['./.comet.config']\n",
      "DEBUG: 2024-02-05 22:18:35,661: No INI file found: ['/content/drive/MyDrive/.comet.config']\n",
      "DEBUG: 2024-02-05 22:18:35,662: No INI file found: ['~/.comet.config']\n",
      "DEBUG: 2024-02-05 22:18:35,663: Looking up key: disable_auto_logging, namespace: ['comet']\n",
      "DEBUG: 2024-02-05 22:18:35,666: Searching <ConfigOSEnv> for COMET_DISABLE_AUTO_LOGGING\n",
      "DEBUG: 2024-02-05 22:18:35,667: Searching <ConfigEnvFileEnv: None> for COMET_DISABLE_AUTO_LOGGING\n",
      "DEBUG: 2024-02-05 22:18:35,668: Searching <ConfigDictEnv: {}> for COMET_DISABLE_AUTO_LOGGING\n",
      "DEBUG: 2024-02-05 22:18:35,669: Found nothing--returning NO_VALUE\n",
      "DEBUG: 2024-02-05 22:18:35,671: No INI file found: []\n",
      "DEBUG: 2024-02-05 22:18:35,674: No INI file found: ['./.comet.config']\n",
      "DEBUG: 2024-02-05 22:18:35,675: No INI file found: ['/content/drive/MyDrive/.comet.config']\n",
      "DEBUG: 2024-02-05 22:18:35,677: No INI file found: ['~/.comet.config']\n",
      "DEBUG: 2024-02-05 22:18:35,678: Looking up key: disable_auto_logging, namespace: ['comet']\n",
      "DEBUG: 2024-02-05 22:18:35,678: Searching <ConfigOSEnv> for COMET_DISABLE_AUTO_LOGGING\n",
      "DEBUG: 2024-02-05 22:18:35,680: Searching <ConfigEnvFileEnv: None> for COMET_DISABLE_AUTO_LOGGING\n",
      "DEBUG: 2024-02-05 22:18:35,680: Searching <ConfigDictEnv: {}> for COMET_DISABLE_AUTO_LOGGING\n",
      "DEBUG: 2024-02-05 22:18:35,682: Found nothing--returning NO_VALUE\n",
      "DEBUG: 2024-02-05 22:18:35,688: No INI file found: []\n",
      "DEBUG: 2024-02-05 22:18:35,690: No INI file found: ['./.comet.config']\n",
      "DEBUG: 2024-02-05 22:18:35,691: No INI file found: ['/content/drive/MyDrive/.comet.config']\n",
      "DEBUG: 2024-02-05 22:18:35,692: No INI file found: ['~/.comet.config']\n",
      "DEBUG: 2024-02-05 22:18:35,694: Looking up key: disable_auto_logging, namespace: ['comet']\n",
      "DEBUG: 2024-02-05 22:18:35,694: Searching <ConfigOSEnv> for COMET_DISABLE_AUTO_LOGGING\n",
      "DEBUG: 2024-02-05 22:18:35,695: Searching <ConfigEnvFileEnv: None> for COMET_DISABLE_AUTO_LOGGING\n",
      "DEBUG: 2024-02-05 22:18:35,697: Searching <ConfigDictEnv: {}> for COMET_DISABLE_AUTO_LOGGING\n",
      "DEBUG: 2024-02-05 22:18:35,700: Found nothing--returning NO_VALUE\n",
      "DEBUG: 2024-02-05 22:18:35,717: No INI file found: []\n",
      "DEBUG: 2024-02-05 22:18:35,719: No INI file found: ['./.comet.config']\n",
      "DEBUG: 2024-02-05 22:18:35,721: No INI file found: ['/content/drive/MyDrive/.comet.config']\n",
      "DEBUG: 2024-02-05 22:18:35,723: No INI file found: ['~/.comet.config']\n",
      "DEBUG: 2024-02-05 22:18:35,723: Looking up key: disable_auto_logging, namespace: ['comet']\n",
      "DEBUG: 2024-02-05 22:18:35,724: Searching <ConfigOSEnv> for COMET_DISABLE_AUTO_LOGGING\n",
      "DEBUG: 2024-02-05 22:18:35,725: Searching <ConfigEnvFileEnv: None> for COMET_DISABLE_AUTO_LOGGING\n",
      "DEBUG: 2024-02-05 22:18:35,726: Searching <ConfigDictEnv: {}> for COMET_DISABLE_AUTO_LOGGING\n",
      "DEBUG: 2024-02-05 22:18:35,726: Found nothing--returning NO_VALUE\n",
      "DEBUG: 2024-02-05 22:18:35,733: No INI file found: []\n",
      "DEBUG: 2024-02-05 22:18:35,736: No INI file found: ['./.comet.config']\n",
      "DEBUG: 2024-02-05 22:18:35,738: No INI file found: ['/content/drive/MyDrive/.comet.config']\n",
      "DEBUG: 2024-02-05 22:18:35,739: No INI file found: ['~/.comet.config']\n",
      "DEBUG: 2024-02-05 22:18:35,740: Looking up key: disable_auto_logging, namespace: ['comet']\n",
      "DEBUG: 2024-02-05 22:18:35,741: Searching <ConfigOSEnv> for COMET_DISABLE_AUTO_LOGGING\n",
      "DEBUG: 2024-02-05 22:18:35,742: Searching <ConfigEnvFileEnv: None> for COMET_DISABLE_AUTO_LOGGING\n",
      "DEBUG: 2024-02-05 22:18:35,743: Searching <ConfigDictEnv: {}> for COMET_DISABLE_AUTO_LOGGING\n",
      "DEBUG: 2024-02-05 22:18:35,743: Found nothing--returning NO_VALUE\n",
      "DEBUG: 2024-02-05 22:18:35,745: No INI file found: []\n",
      "DEBUG: 2024-02-05 22:18:35,746: No INI file found: ['./.comet.config']\n",
      "DEBUG: 2024-02-05 22:18:35,754: No INI file found: ['/content/drive/MyDrive/.comet.config']\n",
      "DEBUG: 2024-02-05 22:18:35,755: No INI file found: ['~/.comet.config']\n",
      "DEBUG: 2024-02-05 22:18:35,756: Looking up key: disable_auto_logging, namespace: ['comet']\n",
      "DEBUG: 2024-02-05 22:18:35,757: Searching <ConfigOSEnv> for COMET_DISABLE_AUTO_LOGGING\n",
      "DEBUG: 2024-02-05 22:18:35,758: Searching <ConfigEnvFileEnv: None> for COMET_DISABLE_AUTO_LOGGING\n",
      "DEBUG: 2024-02-05 22:18:35,759: Searching <ConfigDictEnv: {}> for COMET_DISABLE_AUTO_LOGGING\n",
      "DEBUG: 2024-02-05 22:18:35,760: Found nothing--returning NO_VALUE\n",
      "DEBUG: 2024-02-05 22:18:35,794: No INI file found: []\n",
      "DEBUG: 2024-02-05 22:18:35,796: No INI file found: ['./.comet.config']\n",
      "DEBUG: 2024-02-05 22:18:35,797: No INI file found: ['/content/drive/MyDrive/.comet.config']\n",
      "DEBUG: 2024-02-05 22:18:35,804: No INI file found: ['~/.comet.config']\n",
      "DEBUG: 2024-02-05 22:18:35,805: Looking up key: disable_auto_logging, namespace: ['comet']\n",
      "DEBUG: 2024-02-05 22:18:35,805: Searching <ConfigOSEnv> for COMET_DISABLE_AUTO_LOGGING\n",
      "DEBUG: 2024-02-05 22:18:35,807: Searching <ConfigEnvFileEnv: None> for COMET_DISABLE_AUTO_LOGGING\n",
      "DEBUG: 2024-02-05 22:18:35,808: Searching <ConfigDictEnv: {}> for COMET_DISABLE_AUTO_LOGGING\n",
      "DEBUG: 2024-02-05 22:18:35,809: Found nothing--returning NO_VALUE\n",
      "DEBUG: 2024-02-05 22:18:35,817: No INI file found: []\n",
      "DEBUG: 2024-02-05 22:18:35,822: No INI file found: ['./.comet.config']\n",
      "DEBUG: 2024-02-05 22:18:35,823: No INI file found: ['/content/drive/MyDrive/.comet.config']\n",
      "DEBUG: 2024-02-05 22:18:35,825: No INI file found: ['~/.comet.config']\n",
      "DEBUG: 2024-02-05 22:18:35,826: Looking up key: disable_auto_logging, namespace: ['comet']\n",
      "DEBUG: 2024-02-05 22:18:35,826: Searching <ConfigOSEnv> for COMET_DISABLE_AUTO_LOGGING\n",
      "DEBUG: 2024-02-05 22:18:35,828: Searching <ConfigEnvFileEnv: None> for COMET_DISABLE_AUTO_LOGGING\n",
      "DEBUG: 2024-02-05 22:18:35,828: Searching <ConfigDictEnv: {}> for COMET_DISABLE_AUTO_LOGGING\n",
      "DEBUG: 2024-02-05 22:18:35,831: Found nothing--returning NO_VALUE\n",
      "DEBUG: 2024-02-05 22:18:35,840: No INI file found: []\n",
      "DEBUG: 2024-02-05 22:18:35,860: No INI file found: ['./.comet.config']\n",
      "DEBUG: 2024-02-05 22:18:35,862: No INI file found: ['/content/drive/MyDrive/.comet.config']\n",
      "DEBUG: 2024-02-05 22:18:35,863: No INI file found: ['~/.comet.config']\n",
      "DEBUG: 2024-02-05 22:18:35,864: Looking up key: disable_auto_logging, namespace: ['comet']\n",
      "DEBUG: 2024-02-05 22:18:35,865: Searching <ConfigOSEnv> for COMET_DISABLE_AUTO_LOGGING\n",
      "DEBUG: 2024-02-05 22:18:35,866: Searching <ConfigEnvFileEnv: None> for COMET_DISABLE_AUTO_LOGGING\n",
      "DEBUG: 2024-02-05 22:18:35,869: Searching <ConfigDictEnv: {}> for COMET_DISABLE_AUTO_LOGGING\n",
      "DEBUG: 2024-02-05 22:18:35,872: Found nothing--returning NO_VALUE\n",
      "DEBUG: 2024-02-05 22:18:35,883: No INI file found: []\n",
      "DEBUG: 2024-02-05 22:18:35,885: No INI file found: ['./.comet.config']\n",
      "DEBUG: 2024-02-05 22:18:35,887: No INI file found: ['/content/drive/MyDrive/.comet.config']\n",
      "DEBUG: 2024-02-05 22:18:35,889: No INI file found: ['~/.comet.config']\n",
      "DEBUG: 2024-02-05 22:18:35,889: Looking up key: disable_auto_logging, namespace: ['comet']\n",
      "DEBUG: 2024-02-05 22:18:35,890: Searching <ConfigOSEnv> for COMET_DISABLE_AUTO_LOGGING\n",
      "DEBUG: 2024-02-05 22:18:35,891: Searching <ConfigEnvFileEnv: None> for COMET_DISABLE_AUTO_LOGGING\n",
      "DEBUG: 2024-02-05 22:18:35,892: Searching <ConfigDictEnv: {}> for COMET_DISABLE_AUTO_LOGGING\n",
      "DEBUG: 2024-02-05 22:18:35,893: Found nothing--returning NO_VALUE\n",
      "DEBUG: 2024-02-05 22:18:35,899: No INI file found: []\n",
      "DEBUG: 2024-02-05 22:18:35,900: No INI file found: ['./.comet.config']\n",
      "DEBUG: 2024-02-05 22:18:35,902: No INI file found: ['/content/drive/MyDrive/.comet.config']\n",
      "DEBUG: 2024-02-05 22:18:35,903: No INI file found: ['~/.comet.config']\n",
      "DEBUG: 2024-02-05 22:18:35,904: Looking up key: disable_auto_logging, namespace: ['comet']\n",
      "DEBUG: 2024-02-05 22:18:35,905: Searching <ConfigOSEnv> for COMET_DISABLE_AUTO_LOGGING\n",
      "DEBUG: 2024-02-05 22:18:35,906: Searching <ConfigEnvFileEnv: None> for COMET_DISABLE_AUTO_LOGGING\n",
      "DEBUG: 2024-02-05 22:18:35,907: Searching <ConfigDictEnv: {}> for COMET_DISABLE_AUTO_LOGGING\n",
      "DEBUG: 2024-02-05 22:18:35,908: Found nothing--returning NO_VALUE\n",
      "DEBUG: 2024-02-05 22:18:35,913: No INI file found: []\n",
      "DEBUG: 2024-02-05 22:18:35,915: No INI file found: ['./.comet.config']\n",
      "DEBUG: 2024-02-05 22:18:35,917: No INI file found: ['/content/drive/MyDrive/.comet.config']\n",
      "DEBUG: 2024-02-05 22:18:35,918: No INI file found: ['~/.comet.config']\n",
      "DEBUG: 2024-02-05 22:18:35,919: Looking up key: disable_auto_logging, namespace: ['comet']\n",
      "DEBUG: 2024-02-05 22:18:35,920: Searching <ConfigOSEnv> for COMET_DISABLE_AUTO_LOGGING\n",
      "DEBUG: 2024-02-05 22:18:35,921: Searching <ConfigEnvFileEnv: None> for COMET_DISABLE_AUTO_LOGGING\n",
      "DEBUG: 2024-02-05 22:18:35,923: Searching <ConfigDictEnv: {}> for COMET_DISABLE_AUTO_LOGGING\n",
      "DEBUG: 2024-02-05 22:18:35,924: Found nothing--returning NO_VALUE\n",
      "DEBUG: 2024-02-05 22:18:35,935: No INI file found: []\n",
      "DEBUG: 2024-02-05 22:18:35,937: No INI file found: ['./.comet.config']\n",
      "DEBUG: 2024-02-05 22:18:35,939: No INI file found: ['/content/drive/MyDrive/.comet.config']\n",
      "DEBUG: 2024-02-05 22:18:35,941: No INI file found: ['~/.comet.config']\n",
      "DEBUG: 2024-02-05 22:18:35,942: Looking up key: disable_auto_logging, namespace: ['comet']\n",
      "DEBUG: 2024-02-05 22:18:35,943: Searching <ConfigOSEnv> for COMET_DISABLE_AUTO_LOGGING\n",
      "DEBUG: 2024-02-05 22:18:35,944: Searching <ConfigEnvFileEnv: None> for COMET_DISABLE_AUTO_LOGGING\n",
      "DEBUG: 2024-02-05 22:18:35,946: Searching <ConfigDictEnv: {}> for COMET_DISABLE_AUTO_LOGGING\n",
      "DEBUG: 2024-02-05 22:18:35,946: Found nothing--returning NO_VALUE\n",
      "DEBUG: 2024-02-05 22:18:35,970: No INI file found: []\n",
      "DEBUG: 2024-02-05 22:18:35,974: No INI file found: ['./.comet.config']\n",
      "DEBUG: 2024-02-05 22:18:35,975: No INI file found: ['/content/drive/MyDrive/.comet.config']\n",
      "DEBUG: 2024-02-05 22:18:35,976: No INI file found: ['~/.comet.config']\n",
      "DEBUG: 2024-02-05 22:18:35,977: Looking up key: disable_auto_logging, namespace: ['comet']\n",
      "DEBUG: 2024-02-05 22:18:35,978: Searching <ConfigOSEnv> for COMET_DISABLE_AUTO_LOGGING\n",
      "DEBUG: 2024-02-05 22:18:35,979: Searching <ConfigEnvFileEnv: None> for COMET_DISABLE_AUTO_LOGGING\n",
      "DEBUG: 2024-02-05 22:18:35,980: Searching <ConfigDictEnv: {}> for COMET_DISABLE_AUTO_LOGGING\n",
      "DEBUG: 2024-02-05 22:18:35,981: Found nothing--returning NO_VALUE\n",
      "DEBUG: 2024-02-05 22:18:35,989: No INI file found: []\n",
      "DEBUG: 2024-02-05 22:18:35,992: No INI file found: ['./.comet.config']\n",
      "DEBUG: 2024-02-05 22:18:35,994: No INI file found: ['/content/drive/MyDrive/.comet.config']\n",
      "DEBUG: 2024-02-05 22:18:35,997: No INI file found: ['~/.comet.config']\n",
      "DEBUG: 2024-02-05 22:18:36,000: Looking up key: disable_auto_logging, namespace: ['comet']\n",
      "DEBUG: 2024-02-05 22:18:36,001: Searching <ConfigOSEnv> for COMET_DISABLE_AUTO_LOGGING\n",
      "DEBUG: 2024-02-05 22:18:36,003: Searching <ConfigEnvFileEnv: None> for COMET_DISABLE_AUTO_LOGGING\n",
      "DEBUG: 2024-02-05 22:18:36,003: Searching <ConfigDictEnv: {}> for COMET_DISABLE_AUTO_LOGGING\n",
      "DEBUG: 2024-02-05 22:18:36,004: Found nothing--returning NO_VALUE\n",
      "DEBUG: 2024-02-05 22:18:36,007: No INI file found: []\n",
      "DEBUG: 2024-02-05 22:18:36,011: No INI file found: ['./.comet.config']\n",
      "DEBUG: 2024-02-05 22:18:36,015: No INI file found: ['/content/drive/MyDrive/.comet.config']\n",
      "DEBUG: 2024-02-05 22:18:36,016: No INI file found: ['~/.comet.config']\n",
      "DEBUG: 2024-02-05 22:18:36,018: Looking up key: disable_auto_logging, namespace: ['comet']\n",
      "DEBUG: 2024-02-05 22:18:36,019: Searching <ConfigOSEnv> for COMET_DISABLE_AUTO_LOGGING\n",
      "DEBUG: 2024-02-05 22:18:36,020: Searching <ConfigEnvFileEnv: None> for COMET_DISABLE_AUTO_LOGGING\n",
      "DEBUG: 2024-02-05 22:18:36,021: Searching <ConfigDictEnv: {}> for COMET_DISABLE_AUTO_LOGGING\n",
      "DEBUG: 2024-02-05 22:18:36,022: Found nothing--returning NO_VALUE\n",
      "DEBUG: 2024-02-05 22:18:36,023: No INI file found: []\n",
      "DEBUG: 2024-02-05 22:18:36,025: No INI file found: ['./.comet.config']\n",
      "DEBUG: 2024-02-05 22:18:36,026: No INI file found: ['/content/drive/MyDrive/.comet.config']\n",
      "DEBUG: 2024-02-05 22:18:36,030: No INI file found: ['~/.comet.config']\n",
      "DEBUG: 2024-02-05 22:18:36,032: Looking up key: disable_auto_logging, namespace: ['comet']\n",
      "DEBUG: 2024-02-05 22:18:36,033: Searching <ConfigOSEnv> for COMET_DISABLE_AUTO_LOGGING\n",
      "DEBUG: 2024-02-05 22:18:36,034: Searching <ConfigEnvFileEnv: None> for COMET_DISABLE_AUTO_LOGGING\n",
      "DEBUG: 2024-02-05 22:18:36,035: Searching <ConfigDictEnv: {}> for COMET_DISABLE_AUTO_LOGGING\n",
      "DEBUG: 2024-02-05 22:18:36,036: Found nothing--returning NO_VALUE\n",
      "DEBUG: 2024-02-05 22:18:36,039: No INI file found: []\n",
      "DEBUG: 2024-02-05 22:18:36,041: No INI file found: ['./.comet.config']\n",
      "DEBUG: 2024-02-05 22:18:36,042: No INI file found: ['/content/drive/MyDrive/.comet.config']\n",
      "DEBUG: 2024-02-05 22:18:36,045: No INI file found: ['~/.comet.config']\n",
      "DEBUG: 2024-02-05 22:18:36,048: Looking up key: disable_auto_logging, namespace: ['comet']\n",
      "DEBUG: 2024-02-05 22:18:36,049: Searching <ConfigOSEnv> for COMET_DISABLE_AUTO_LOGGING\n",
      "DEBUG: 2024-02-05 22:18:36,050: Searching <ConfigEnvFileEnv: None> for COMET_DISABLE_AUTO_LOGGING\n",
      "DEBUG: 2024-02-05 22:18:36,051: Searching <ConfigDictEnv: {}> for COMET_DISABLE_AUTO_LOGGING\n",
      "DEBUG: 2024-02-05 22:18:36,052: Found nothing--returning NO_VALUE\n",
      "DEBUG: 2024-02-05 22:18:36,053: No INI file found: []\n",
      "DEBUG: 2024-02-05 22:18:36,054: No INI file found: ['./.comet.config']\n",
      "DEBUG: 2024-02-05 22:18:36,056: No INI file found: ['/content/drive/MyDrive/.comet.config']\n",
      "DEBUG: 2024-02-05 22:18:36,058: No INI file found: ['~/.comet.config']\n",
      "DEBUG: 2024-02-05 22:18:36,058: Looking up key: disable_auto_logging, namespace: ['comet']\n",
      "DEBUG: 2024-02-05 22:18:36,059: Searching <ConfigOSEnv> for COMET_DISABLE_AUTO_LOGGING\n",
      "DEBUG: 2024-02-05 22:18:36,060: Searching <ConfigEnvFileEnv: None> for COMET_DISABLE_AUTO_LOGGING\n",
      "DEBUG: 2024-02-05 22:18:36,063: Searching <ConfigDictEnv: {}> for COMET_DISABLE_AUTO_LOGGING\n",
      "DEBUG: 2024-02-05 22:18:36,065: Found nothing--returning NO_VALUE\n",
      "DEBUG: 2024-02-05 22:18:36,066: No INI file found: []\n",
      "DEBUG: 2024-02-05 22:18:36,068: No INI file found: ['./.comet.config']\n",
      "DEBUG: 2024-02-05 22:18:36,071: No INI file found: ['/content/drive/MyDrive/.comet.config']\n",
      "DEBUG: 2024-02-05 22:18:36,073: No INI file found: ['~/.comet.config']\n",
      "DEBUG: 2024-02-05 22:18:36,075: Looking up key: disable_auto_logging, namespace: ['comet']\n",
      "DEBUG: 2024-02-05 22:18:36,076: Searching <ConfigOSEnv> for COMET_DISABLE_AUTO_LOGGING\n",
      "DEBUG: 2024-02-05 22:18:36,076: Searching <ConfigEnvFileEnv: None> for COMET_DISABLE_AUTO_LOGGING\n",
      "DEBUG: 2024-02-05 22:18:36,078: Searching <ConfigDictEnv: {}> for COMET_DISABLE_AUTO_LOGGING\n",
      "DEBUG: 2024-02-05 22:18:36,080: Found nothing--returning NO_VALUE\n",
      "DEBUG: 2024-02-05 22:18:36,083: No INI file found: []\n",
      "DEBUG: 2024-02-05 22:18:36,085: No INI file found: ['./.comet.config']\n",
      "DEBUG: 2024-02-05 22:18:36,087: No INI file found: ['/content/drive/MyDrive/.comet.config']\n",
      "DEBUG: 2024-02-05 22:18:36,088: No INI file found: ['~/.comet.config']\n",
      "DEBUG: 2024-02-05 22:18:36,089: Looking up key: disable_auto_logging, namespace: ['comet']\n",
      "DEBUG: 2024-02-05 22:18:36,090: Searching <ConfigOSEnv> for COMET_DISABLE_AUTO_LOGGING\n",
      "DEBUG: 2024-02-05 22:18:36,092: Searching <ConfigEnvFileEnv: None> for COMET_DISABLE_AUTO_LOGGING\n",
      "DEBUG: 2024-02-05 22:18:36,093: Searching <ConfigDictEnv: {}> for COMET_DISABLE_AUTO_LOGGING\n",
      "DEBUG: 2024-02-05 22:18:36,094: Found nothing--returning NO_VALUE\n",
      "DEBUG: 2024-02-05 22:18:36,097: No INI file found: []\n",
      "DEBUG: 2024-02-05 22:18:36,099: No INI file found: ['./.comet.config']\n",
      "DEBUG: 2024-02-05 22:18:36,100: No INI file found: ['/content/drive/MyDrive/.comet.config']\n",
      "DEBUG: 2024-02-05 22:18:36,101: No INI file found: ['~/.comet.config']\n",
      "DEBUG: 2024-02-05 22:18:36,102: Looking up key: disable_auto_logging, namespace: ['comet']\n",
      "DEBUG: 2024-02-05 22:18:36,104: Searching <ConfigOSEnv> for COMET_DISABLE_AUTO_LOGGING\n",
      "DEBUG: 2024-02-05 22:18:36,105: Searching <ConfigEnvFileEnv: None> for COMET_DISABLE_AUTO_LOGGING\n",
      "DEBUG: 2024-02-05 22:18:36,106: Searching <ConfigDictEnv: {}> for COMET_DISABLE_AUTO_LOGGING\n",
      "DEBUG: 2024-02-05 22:18:36,106: Found nothing--returning NO_VALUE\n",
      "DEBUG: 2024-02-05 22:18:36,109: No INI file found: []\n",
      "DEBUG: 2024-02-05 22:18:36,110: No INI file found: ['./.comet.config']\n",
      "DEBUG: 2024-02-05 22:18:36,112: No INI file found: ['/content/drive/MyDrive/.comet.config']\n",
      "DEBUG: 2024-02-05 22:18:36,115: No INI file found: ['~/.comet.config']\n",
      "DEBUG: 2024-02-05 22:18:36,116: Looking up key: disable_auto_logging, namespace: ['comet']\n",
      "DEBUG: 2024-02-05 22:18:36,117: Searching <ConfigOSEnv> for COMET_DISABLE_AUTO_LOGGING\n",
      "DEBUG: 2024-02-05 22:18:36,118: Searching <ConfigEnvFileEnv: None> for COMET_DISABLE_AUTO_LOGGING\n",
      "DEBUG: 2024-02-05 22:18:36,119: Searching <ConfigDictEnv: {}> for COMET_DISABLE_AUTO_LOGGING\n",
      "DEBUG: 2024-02-05 22:18:36,120: Found nothing--returning NO_VALUE\n",
      "DEBUG: 2024-02-05 22:18:36,122: No INI file found: []\n",
      "DEBUG: 2024-02-05 22:18:36,123: No INI file found: ['./.comet.config']\n",
      "DEBUG: 2024-02-05 22:18:36,125: No INI file found: ['/content/drive/MyDrive/.comet.config']\n",
      "DEBUG: 2024-02-05 22:18:36,126: No INI file found: ['~/.comet.config']\n",
      "DEBUG: 2024-02-05 22:18:36,127: Looking up key: disable_auto_logging, namespace: ['comet']\n",
      "DEBUG: 2024-02-05 22:18:36,128: Searching <ConfigOSEnv> for COMET_DISABLE_AUTO_LOGGING\n",
      "DEBUG: 2024-02-05 22:18:36,130: Searching <ConfigEnvFileEnv: None> for COMET_DISABLE_AUTO_LOGGING\n",
      "DEBUG: 2024-02-05 22:18:36,132: Searching <ConfigDictEnv: {}> for COMET_DISABLE_AUTO_LOGGING\n",
      "DEBUG: 2024-02-05 22:18:36,133: Found nothing--returning NO_VALUE\n",
      "DEBUG: 2024-02-05 22:18:36,135: No INI file found: []\n",
      "DEBUG: 2024-02-05 22:18:36,136: No INI file found: ['./.comet.config']\n",
      "DEBUG: 2024-02-05 22:18:36,137: No INI file found: ['/content/drive/MyDrive/.comet.config']\n",
      "DEBUG: 2024-02-05 22:18:36,139: No INI file found: ['~/.comet.config']\n",
      "DEBUG: 2024-02-05 22:18:36,140: Looking up key: disable_auto_logging, namespace: ['comet']\n",
      "DEBUG: 2024-02-05 22:18:36,141: Searching <ConfigOSEnv> for COMET_DISABLE_AUTO_LOGGING\n",
      "DEBUG: 2024-02-05 22:18:36,142: Searching <ConfigEnvFileEnv: None> for COMET_DISABLE_AUTO_LOGGING\n",
      "DEBUG: 2024-02-05 22:18:36,143: Searching <ConfigDictEnv: {}> for COMET_DISABLE_AUTO_LOGGING\n",
      "DEBUG: 2024-02-05 22:18:36,144: Found nothing--returning NO_VALUE\n",
      "DEBUG: 2024-02-05 22:18:36,147: No INI file found: []\n",
      "DEBUG: 2024-02-05 22:18:36,152: No INI file found: ['./.comet.config']\n",
      "DEBUG: 2024-02-05 22:18:36,154: No INI file found: ['/content/drive/MyDrive/.comet.config']\n",
      "DEBUG: 2024-02-05 22:18:36,155: No INI file found: ['~/.comet.config']\n",
      "DEBUG: 2024-02-05 22:18:36,157: Looking up key: disable_auto_logging, namespace: ['comet']\n",
      "DEBUG: 2024-02-05 22:18:36,158: Searching <ConfigOSEnv> for COMET_DISABLE_AUTO_LOGGING\n",
      "DEBUG: 2024-02-05 22:18:36,159: Searching <ConfigEnvFileEnv: None> for COMET_DISABLE_AUTO_LOGGING\n",
      "DEBUG: 2024-02-05 22:18:36,160: Searching <ConfigDictEnv: {}> for COMET_DISABLE_AUTO_LOGGING\n",
      "DEBUG: 2024-02-05 22:18:36,163: Found nothing--returning NO_VALUE\n",
      "DEBUG: 2024-02-05 22:18:36,167: No INI file found: []\n",
      "DEBUG: 2024-02-05 22:18:36,170: No INI file found: ['./.comet.config']\n",
      "DEBUG: 2024-02-05 22:18:36,172: No INI file found: ['/content/drive/MyDrive/.comet.config']\n",
      "DEBUG: 2024-02-05 22:18:36,173: No INI file found: ['~/.comet.config']\n",
      "DEBUG: 2024-02-05 22:18:36,174: Looking up key: disable_auto_logging, namespace: ['comet']\n",
      "DEBUG: 2024-02-05 22:18:36,175: Searching <ConfigOSEnv> for COMET_DISABLE_AUTO_LOGGING\n",
      "DEBUG: 2024-02-05 22:18:36,176: Searching <ConfigEnvFileEnv: None> for COMET_DISABLE_AUTO_LOGGING\n",
      "DEBUG: 2024-02-05 22:18:36,177: Searching <ConfigDictEnv: {}> for COMET_DISABLE_AUTO_LOGGING\n",
      "DEBUG: 2024-02-05 22:18:36,179: Found nothing--returning NO_VALUE\n",
      "DEBUG: 2024-02-05 22:18:36,182: No INI file found: []\n",
      "DEBUG: 2024-02-05 22:18:36,184: No INI file found: ['./.comet.config']\n",
      "DEBUG: 2024-02-05 22:18:36,186: No INI file found: ['/content/drive/MyDrive/.comet.config']\n",
      "DEBUG: 2024-02-05 22:18:36,188: No INI file found: ['~/.comet.config']\n",
      "DEBUG: 2024-02-05 22:18:36,189: Looking up key: disable_auto_logging, namespace: ['comet']\n",
      "DEBUG: 2024-02-05 22:18:36,190: Searching <ConfigOSEnv> for COMET_DISABLE_AUTO_LOGGING\n",
      "DEBUG: 2024-02-05 22:18:36,191: Searching <ConfigEnvFileEnv: None> for COMET_DISABLE_AUTO_LOGGING\n",
      "DEBUG: 2024-02-05 22:18:36,192: Searching <ConfigDictEnv: {}> for COMET_DISABLE_AUTO_LOGGING\n",
      "DEBUG: 2024-02-05 22:18:36,193: Found nothing--returning NO_VALUE\n",
      "DEBUG: 2024-02-05 22:18:36,195: No INI file found: []\n",
      "DEBUG: 2024-02-05 22:18:36,198: No INI file found: ['./.comet.config']\n",
      "DEBUG: 2024-02-05 22:18:36,200: No INI file found: ['/content/drive/MyDrive/.comet.config']\n",
      "DEBUG: 2024-02-05 22:18:36,203: No INI file found: ['~/.comet.config']\n",
      "DEBUG: 2024-02-05 22:18:36,204: Looking up key: disable_auto_logging, namespace: ['comet']\n",
      "DEBUG: 2024-02-05 22:18:36,205: Searching <ConfigOSEnv> for COMET_DISABLE_AUTO_LOGGING\n",
      "DEBUG: 2024-02-05 22:18:36,206: Searching <ConfigEnvFileEnv: None> for COMET_DISABLE_AUTO_LOGGING\n",
      "DEBUG: 2024-02-05 22:18:36,207: Searching <ConfigDictEnv: {}> for COMET_DISABLE_AUTO_LOGGING\n",
      "DEBUG: 2024-02-05 22:18:36,208: Found nothing--returning NO_VALUE\n",
      "DEBUG: 2024-02-05 22:18:36,209: No INI file found: []\n",
      "DEBUG: 2024-02-05 22:18:36,211: No INI file found: ['./.comet.config']\n",
      "DEBUG: 2024-02-05 22:18:36,213: No INI file found: ['/content/drive/MyDrive/.comet.config']\n",
      "DEBUG: 2024-02-05 22:18:36,219: No INI file found: ['~/.comet.config']\n",
      "DEBUG: 2024-02-05 22:18:36,220: Looking up key: disable_auto_logging, namespace: ['comet']\n",
      "DEBUG: 2024-02-05 22:18:36,221: Searching <ConfigOSEnv> for COMET_DISABLE_AUTO_LOGGING\n",
      "DEBUG: 2024-02-05 22:18:36,224: Searching <ConfigEnvFileEnv: None> for COMET_DISABLE_AUTO_LOGGING\n",
      "DEBUG: 2024-02-05 22:18:36,225: Searching <ConfigDictEnv: {}> for COMET_DISABLE_AUTO_LOGGING\n",
      "DEBUG: 2024-02-05 22:18:36,226: Found nothing--returning NO_VALUE\n",
      "DEBUG: 2024-02-05 22:18:36,231: No INI file found: []\n",
      "DEBUG: 2024-02-05 22:18:36,234: No INI file found: ['./.comet.config']\n",
      "DEBUG: 2024-02-05 22:18:36,240: No INI file found: ['/content/drive/MyDrive/.comet.config']\n",
      "DEBUG: 2024-02-05 22:18:36,242: No INI file found: ['~/.comet.config']\n",
      "DEBUG: 2024-02-05 22:18:36,248: Looking up key: console, namespace: ['comet', 'logging']\n",
      "DEBUG: 2024-02-05 22:18:36,249: Searching <ConfigOSEnv> for COMET_LOGGING_CONSOLE\n",
      "DEBUG: 2024-02-05 22:18:36,250: Searching <ConfigEnvFileEnv: None> for COMET_LOGGING_CONSOLE\n",
      "DEBUG: 2024-02-05 22:18:36,251: Searching <ConfigDictEnv: {}> for COMET_LOGGING_CONSOLE\n",
      "DEBUG: 2024-02-05 22:18:36,252: Found nothing--returning NO_VALUE\n",
      "DEBUG: 2024-02-05 22:18:36,254: No INI file found: []\n",
      "DEBUG: 2024-02-05 22:18:36,256: No INI file found: ['./.comet.config']\n",
      "DEBUG: 2024-02-05 22:18:36,257: No INI file found: ['/content/drive/MyDrive/.comet.config']\n",
      "DEBUG: 2024-02-05 22:18:36,259: No INI file found: ['~/.comet.config']\n",
      "DEBUG: 2024-02-05 22:18:36,260: Looking up key: rich_output, namespace: ['comet']\n",
      "DEBUG: 2024-02-05 22:18:36,264: Searching <ConfigOSEnv> for COMET_RICH_OUTPUT\n",
      "DEBUG: 2024-02-05 22:18:36,266: Searching <ConfigEnvFileEnv: None> for COMET_RICH_OUTPUT\n",
      "DEBUG: 2024-02-05 22:18:36,267: Searching <ConfigDictEnv: {}> for COMET_RICH_OUTPUT\n",
      "DEBUG: 2024-02-05 22:18:36,268: Found nothing--returning NO_VALUE\n",
      "DEBUG: 2024-02-05 22:18:36,269: Looking up key: file, namespace: ['comet', 'logging']\n",
      "DEBUG: 2024-02-05 22:18:36,270: Searching <ConfigOSEnv> for COMET_LOGGING_FILE\n",
      "DEBUG: 2024-02-05 22:18:36,271: Searching <ConfigEnvFileEnv: None> for COMET_LOGGING_FILE\n",
      "DEBUG: 2024-02-05 22:18:36,272: Searching <ConfigDictEnv: {}> for COMET_LOGGING_FILE\n",
      "DEBUG: 2024-02-05 22:18:36,273: Found nothing--returning NO_VALUE\n",
      "DEBUG: 2024-02-05 22:18:36,274: Looking up key: project_name, namespace: ['comet']\n",
      "DEBUG: 2024-02-05 22:18:36,275: Searching <ConfigOSEnv> for COMET_PROJECT_NAME\n",
      "DEBUG: 2024-02-05 22:18:36,276: Searching <ConfigEnvFileEnv: None> for COMET_PROJECT_NAME\n",
      "DEBUG: 2024-02-05 22:18:36,277: Searching <ConfigDictEnv: {}> for COMET_PROJECT_NAME\n",
      "DEBUG: 2024-02-05 22:18:36,279: Found nothing--returning NO_VALUE\n",
      "DEBUG: 2024-02-05 22:18:36,281: Looking up key: file_level, namespace: ['comet', 'logging']\n",
      "DEBUG: 2024-02-05 22:18:36,283: Searching <ConfigOSEnv> for COMET_LOGGING_FILE_LEVEL\n",
      "DEBUG: 2024-02-05 22:18:36,284: Searching <ConfigEnvFileEnv: None> for COMET_LOGGING_FILE_LEVEL\n",
      "DEBUG: 2024-02-05 22:18:36,285: Searching <ConfigDictEnv: {}> for COMET_LOGGING_FILE_LEVEL\n",
      "DEBUG: 2024-02-05 22:18:36,286: Found nothing--returning NO_VALUE\n",
      "DEBUG: 2024-02-05 22:18:36,288: Looking up key: file_overwrite, namespace: ['comet', 'logging']\n",
      "DEBUG: 2024-02-05 22:18:36,289: Searching <ConfigOSEnv> for COMET_LOGGING_FILE_OVERWRITE\n",
      "DEBUG: 2024-02-05 22:18:36,290: Searching <ConfigEnvFileEnv: None> for COMET_LOGGING_FILE_OVERWRITE\n",
      "DEBUG: 2024-02-05 22:18:36,291: Searching <ConfigDictEnv: {}> for COMET_LOGGING_FILE_OVERWRITE\n",
      "DEBUG: 2024-02-05 22:18:36,292: Found nothing--returning NO_VALUE\n"
     ]
    }
   ],
   "source": [
    "from comet_ml import Experiment"
   ]
  },
  {
   "cell_type": "code",
   "execution_count": null,
   "metadata": {},
   "outputs": [],
   "source": [
    "# Создайте эксперимент с помощью вашего API ключа\n",
    "experiment = Experiment(\n",
    "    api_key=\"УКАЖИТЕ ЗДЕСЬ СВОЙ КЛЮЧ API\",\n",
    "    project_name=\"medical-appointment\",\n",
    "    workspace=\"УКАЖИТЕ ЗДЕСЬ ИМЯ СВОЕЙ УЧЕТНОЙ ЗАПИСИ\",\n",
    ")"
   ]
  }
 ],
 "metadata": {
  "kernelspec": {
   "display_name": "Python 3",
   "language": "python",
   "name": "python3"
  },
  "language_info": {
   "codemirror_mode": {
    "name": "ipython",
    "version": 3
   },
   "file_extension": ".py",
   "mimetype": "text/x-python",
   "name": "python",
   "nbconvert_exporter": "python",
   "pygments_lexer": "ipython3",
   "version": "3.10.9"
  }
 },
 "nbformat": 4,
 "nbformat_minor": 2
}
